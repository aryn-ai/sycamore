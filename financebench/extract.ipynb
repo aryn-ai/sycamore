{
 "cells": [
  {
   "cell_type": "code",
   "execution_count": 19,
   "metadata": {},
   "outputs": [],
   "source": [
    "from sycamore.data import Document\n",
    "from sycamore.llms import OpenAI, OpenAIModels\n",
    "from sycamore.transforms import COALESCE_WHITESPACE\n",
    "from sycamore.transforms.partition import SycamorePartitioner\n",
    "from sycamore.transforms.summarize_images import SummarizeImages\n",
    "from sycamore.transforms.merge_elements import GreedySectionMerger\n",
    "from sycamore.utils.time_trace import timetrace\n",
    "from sycamore.utils.cache import Cache\n",
    "import sycamore\n",
    "\n",
    "import pickle\n",
    "import json\n",
    "import sys\n",
    "\n",
    "ctx = sycamore.init()\n",
    "llm = OpenAI(OpenAIModels.GPT_4O.value)"
   ]
  },
  {
   "cell_type": "code",
   "execution_count": 2,
   "metadata": {},
   "outputs": [],
   "source": [
    "@timetrace(\"LLMGen\")\n",
    "def llm_generate_with_retries(llm, prompt_kwargs, llm_kwargs, max_retries=5):\n",
    "    for attempt in range(max_retries):\n",
    "        try:\n",
    "            llm_response = llm.generate(prompt_kwargs=prompt_kwargs, llm_kwargs=llm_kwargs).content\n",
    "            new_props = json.loads(llm_response)\n",
    "            return new_props\n",
    "        except Exception as e:\n",
    "            print(e)\n",
    "            if attempt == max_retries - 1:\n",
    "                raise e\n",
    "\n",
    "\"\"\"\n",
    "For table elements, ask the llm to to extract a JSON formatted key-value object from the table's csv string.\n",
    "\"\"\"\n",
    "@timetrace(\"ExtractProp\")\n",
    "def extract_table_as_properties(doc: Document) -> Document:\n",
    "    PROMPT = \"\"\"\n",
    "    You are given a csv representing either a single column, or multi-column table.\n",
    "    Instructions:\n",
    "    1. Parse the table and return a flattened JSON object representing the key-value pairs of properties defined in the table.\n",
    "    2. Do not return nested objects, keep the dictionary only 1 level deep. The only valid value types are numbers, strings, and lists.\n",
    "    3. If you find multiple fields defined in a row, feel free to split them into separate properties.\n",
    "    4. Use camelCase for the key names\n",
    "    5. For fields where the values are in standard measurement units like miles, nautical miles, knots, celsius\n",
    "       - include the unit in the key name and only set the numeric value as the value.\n",
    "       - e.g. \"Wind Speed: 9 knots\" should become windSpeedInKnots: 9, \"Temperature: 3°C\" should become temperatureInC: 3\n",
    "    \"\"\"\n",
    "    llm_kwargs = {\n",
    "        \"response_format\":{ \"type\": \"json_object\" }\n",
    "    }\n",
    "    sys.stderr.write(doc.properties['path'])\n",
    "    if not doc.elements:\n",
    "        return\n",
    "    # we are going to use the first table's properties as document level properties\n",
    "    top_level_table = None\n",
    "    for element in doc.elements:\n",
    "        if element.type != \"table\" or element.table == None:\n",
    "            continue\n",
    "        if not top_level_table:\n",
    "            top_level_table = element\n",
    "        prompt = PROMPT\n",
    "        prompt += \"\\n\" + element.table.to_csv()\n",
    "        prompt_kwargs = {\n",
    "            \"prompt\": prompt\n",
    "        }\n",
    "        new_props = llm_generate_with_retries(llm, prompt_kwargs, llm_kwargs, max_retries=5)\n",
    "        if new_props:\n",
    "            element.properties.update(new_props)\n",
    "        else:\n",
    "            element.properties.update({\"Foo\": \"Bar\"})\n",
    "            \n",
    "    doc.properties[\"entity\"] = top_level_table.properties.copy()\n",
    "    return doc"
   ]
  },
  {
   "cell_type": "code",
   "execution_count": null,
   "metadata": {},
   "outputs": [],
   "source": [
    "s3_path = \"s3://aryn-datasets-us-east-1/financebench-large/3M_1/\"\n",
    "docset = (\n",
    "    ctx.read.binary(s3_path, binary_format=\"pdf\")\n",
    "    .partition(partitioner=SycamorePartitioner(extract_table_structure=True, use_ocr=True, extract_images=True), num_gpus=0.1)\n",
    "    .regex_replace(COALESCE_WHITESPACE)\n",
    "    .map()\n",
    ")\n",
    "\n",
    "extracted = []\n",
    "\n",
    "for d in docset.take_all():\n",
    "    extracted.append({\"properties\": d.properties,\n",
    "                      \"elements\": d.elements\n",
    "                      })\n",
    "\n",
    "pickle.dump(extracted, open('extracted_1.pickle', 'wb'))"
   ]
  },
  {
   "cell_type": "code",
   "execution_count": null,
   "metadata": {},
   "outputs": [],
   "source": [
    "for i, e in enumerate(extracted[0][\"elements\"]):\n",
    "    if i >= 100:\n",
    "        break\n",
    "    print(e)"
   ]
  },
  {
   "cell_type": "code",
   "execution_count": 16,
   "metadata": {},
   "outputs": [],
   "source": [
    "s3_path = \"s3://aryn-datasets-us-east-1/ntsb-large/100/193893.pdf\"\n",
    "docset = (\n",
    "    ctx.read.binary(s3_path, binary_format=\"pdf\")\n",
    "    .partition(partitioner=SycamorePartitioner(extract_table_structure=True, use_ocr=True, extract_images=True), num_gpus=0.1)\n",
    "    .regex_replace(COALESCE_WHITESPACE)\n",
    ")"
   ]
  },
  {
   "cell_type": "code",
   "execution_count": null,
   "metadata": {},
   "outputs": [],
   "source": [
    "from sycamore.utils.pdf_utils import show_pages\n",
    "sample_pages = show_pages(docset, limit=20)"
   ]
  },
  {
   "cell_type": "code",
   "execution_count": null,
   "metadata": {},
   "outputs": [],
   "source": []
  }
 ],
 "metadata": {
  "kernelspec": {
   "display_name": "sycamore-monorepo-RdRTS9RD-py3.11",
   "language": "python",
   "name": "python3"
  },
  "language_info": {
   "codemirror_mode": {
    "name": "ipython",
    "version": 3
   },
   "file_extension": ".py",
   "mimetype": "text/x-python",
   "name": "python",
   "nbconvert_exporter": "python",
   "pygments_lexer": "ipython3",
   "version": "3.11.2"
  }
 },
 "nbformat": 4,
 "nbformat_minor": 2
}
