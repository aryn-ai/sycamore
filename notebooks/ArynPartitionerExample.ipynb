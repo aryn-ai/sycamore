{
 "cells": [
  {
   "cell_type": "code",
   "execution_count": null,
   "id": "d38dec71-a96f-4100-b30c-61f5ad3006e5",
   "metadata": {},
   "outputs": [],
   "source": [
    "%load_ext autoreload\n",
    "%autoreload 2"
   ]
  },
  {
   "cell_type": "markdown",
   "id": "b333afc8-c080-449d-9670-9f3618019358",
   "metadata": {},
   "source": [
    "##### In this example, we will write the output of Sycamore job from a pdf in s3 bucket to a target location and extract images, and summarize them using gpt-4-turbo. \n",
    "\n",
    "##### The Aryn Partitioner in this job is configured to use the Aryn Partitioning Service to provide fast, GPU-powered performance. Go to [aryn.ai/sign-up ](aryn.ai/sign-up) to get a free API key for the service. This is the recommended configuration.\n",
    "\n",
    "##### You can also run the Aryn Partitioner locally by setting `use_partitioning_service` to `False`. Though you can use CPU to run the Aryn Partitioner, it is recommended to use an NVIDIA GPU for good performance."
   ]
  },
  {
   "cell_type": "code",
   "execution_count": null,
   "id": "3767ac2e-df48-4659-b035-5a4ab18083ef",
   "metadata": {},
   "outputs": [],
   "source": [
    "from sycamore.utils.aryn_config import ArynConfig, _DEFAULT_PATH\n",
    "assert ArynConfig.get_aryn_api_key() != \"\", f\"Unable to find aryn API key.  Looked in {_DEFAULT_PATH}\""
   ]
  },
  {
   "cell_type": "markdown",
   "id": "7732f844-bd95-4d8c-97c1-9ee3f1994d52",
   "metadata": {},
   "source": [
    "if the above assertion fails, you can either set the environment variable ARYN_API_KEY and restart jupyter\n",
    "or make a yaml file at the specified path in the assertion error that looks like:\n",
    "\n",
    "```\n",
    "aryn_token: \"YOUR-ARYN-API-KEY\"\n",
    "```\n",
    "\n",
    "It is unsafe, but if neither of those options work, you can put it in this notebook with\n",
    "```\n",
    "import os\n",
    "os.environ[\"ARYN_API_KEY\"] = \"UNSAFE-ARYN-API-KEY-LOCATION\" \n",
    "```\n",
    "\n",
    "but beware that it is easy to accidentally commit the notebook file and have it include your key."
   ]
  },
  {
   "cell_type": "code",
   "execution_count": null,
   "id": "02fc2d19-75bb-4262-bbc0-e718ce52d1fb",
   "metadata": {},
   "outputs": [],
   "source": [
    "doc_path = \"../lib/sycamore/sycamore/tests/resources/data/pdfs/Transformer.pdf\"\n",
    "\n",
    "# For debug checking; be careful this will put your key in the jupyter notebook\n",
    "#print(ArynConfig.get_aryn_api_key())"
   ]
  },
  {
   "cell_type": "code",
   "execution_count": null,
   "id": "1e4116c0-49bd-47ec-876c-565e55a5172c",
   "metadata": {
    "scrolled": true
   },
   "outputs": [],
   "source": [
    "# This example calls the parititoner directly and prints the output\n",
    "import logging\n",
    "import os\n",
    "\n",
    "from sycamore.utils.aryn_config import ArynConfig\n",
    "from sycamore.transforms.detr_partitioner import ArynPDFPartitioner\n",
    "\n",
    "logging.getLogger().setLevel(logging.INFO)\n",
    "\n",
    "a = ArynPDFPartitioner(model_name_or_path=None)\n",
    "with open(doc_path, \"rb\") as file:\n",
    "    b = a.partition_pdf(file, aryn_api_key=ArynConfig.get_aryn_api_key())\n",
    "    print(b)"
   ]
  },
  {
   "cell_type": "code",
   "execution_count": null,
   "id": "0",
   "metadata": {},
   "outputs": [],
   "source": [
    "# This example draws bounding boxes and labels document elements, and it then displays the image as output and writes them to S3. \n",
    "\n",
    "import ray\n",
    "import sycamore\n",
    "from sycamore.data import Document\n",
    "from sycamore.functions.document import split_and_convert_to_image, DrawBoxes\n",
    "from sycamore.transforms.partition import ArynPartitioner\n",
    "from sycamore.utils.image_utils import image_page_filename_fn\n",
    "from sycamore.utils.pdf_utils import show_pages\n",
    "from sycamore.utils.aryn_config import ArynConfig\n",
    "from pathlib import Path\n",
    "import os\n",
    "import logging\n",
    "\n",
    "sycamore.shutdown() # auto-reload can make this necessary\n",
    "context = sycamore.init()\n",
    "\n",
    "# This creates a DocSet and runs the Sycamore Partitioner. You can change the threshold (default is 0.4) or enable OCR.\n",
    "# You can use this example document: s3://aryn-public/sycamore-partitioner-examples/document-example-1.pdf   # \n",
    "ds = context.read.binary(paths=[\"s3://aryn-public/sycamore-partitioner-examples/document-example-1.pdf\"], binary_format=\"pdf\")\\\n",
    "            .partition(partitioner=ArynPartitioner(extract_table_structure=True))\n",
    "\n",
    "# This visualizes partitions inline in the notebook. \n",
    "show_pages(ds)\n",
    "\n",
    "os.makedirs(\"/tmp/example\", exist_ok=True)\n",
    "# To save the visualized partitions for every page, you can use the following transforms.\n",
    "ds.flat_map(split_and_convert_to_image)\\\n",
    "  .map_batch(DrawBoxes, f_constructor_kwargs={\"draw_table_cells\": True})\\\n",
    "  .write.files(\"/tmp/example\", filename_fn=image_page_filename_fn)\n",
    "\n",
    "# You can read from a S3 or local location. You can choose to read multiple PDFs from a folder, or specify just one PDF."
   ]
  },
  {
   "cell_type": "code",
   "execution_count": null,
   "id": "1",
   "metadata": {},
   "outputs": [],
   "source": [
    "# This example partitions the document, extracts images, and summarizes them using gpt-4-turbo. \n",
    "import ray\n",
    "import sycamore\n",
    "from sycamore.data import BoundingBox, Document, Element, TableElement\n",
    "from sycamore.functions.document import split_and_convert_to_image, DrawBoxes\n",
    "from sycamore.transforms.partition import ArynPartitioner\n",
    "from sycamore.transforms.summarize_images import SummarizeImages\n",
    "from pathlib import Path\n",
    "\n",
    "context = sycamore.init()\n",
    "\n",
    "doc = (context.read.binary(paths=\"s3://aryn-public/sycamore-partitioner-examples/document-example-1.pdf\", binary_format=\"pdf\")\n",
    "                .partition(partitioner=ArynPartitioner(extract_images=True))\n",
    "# Summarize each image element.\n",
    "                .transform(SummarizeImages)\n",
    "                .explode()\n",
    "# Filter image elements to make it easier to see the summarized results.\n",
    "                .filter(lambda d: d.type == \"Image\")\n",
    "                .show())"
   ]
  }
 ],
 "metadata": {
  "kernelspec": {
   "display_name": "Python 3 (ipykernel)",
   "language": "python",
   "name": "python3"
  },
  "language_info": {
   "codemirror_mode": {
    "name": "ipython",
    "version": 3
   },
   "file_extension": ".py",
   "mimetype": "text/x-python",
   "name": "python",
   "nbconvert_exporter": "python",
   "pygments_lexer": "ipython3",
   "version": "3.10.9"
  }
 },
 "nbformat": 4,
 "nbformat_minor": 5
}
