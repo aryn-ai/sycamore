{
 "cells": [
  {
   "cell_type": "markdown",
   "id": "3dab8881-71a8-40d6-bf06-0b337ce72da8",
   "metadata": {},
   "source": [
    "##### In this example, we will use request library to make API call to Aryn Partitioning Service and save image, extract header and text from the response\n",
    "\n",
    "##### To access the Aryn Partitioning Service for fast, GPU-powered performance go to [aryn.ai/sign-up ](aryn.ai/sign-up) and sign up to get a free API key for the service. \n"
   ]
  },
  {
   "cell_type": "code",
   "execution_count": null,
   "id": "f93b6c5d-4997-4533-977b-d7fe41b140c8",
   "metadata": {},
   "outputs": [],
   "source": [
    "import json\n",
    "import os\n",
    "import subprocess\n",
    "import sys\n",
    "from IPython.display import Image\n",
    "from PIL import Image\n",
    "import base64\n",
    "\n",
    "from pathlib import Path\n",
    "from IPython.display import display, display_pdf, Image\n",
    "from IPython.display import IFrame\n",
    "from PIL import Image as PImage\n",
    "\n",
    "import sycamore\n",
    "from sycamore.data import Document\n",
    "from sycamore.transforms.embed import SentenceTransformerEmbedder\n",
    "from sycamore.transforms.extract_entity import OpenAIEntityExtractor\n",
    "from sycamore.llms import OpenAIModels, OpenAI, LLM\n",
    "from sycamore.transforms.partition import ArynPartitioner\n",
    "from sycamore.llms.prompts.default_prompts import TEXT_SUMMARIZER_GUIDANCE_PROMPT_CHAT\n",
    "from sycamore.transforms.summarize import Summarizer\n",
    "from sycamore.transforms.extract_table import TextractTableExtractor\n",
    "from sycamore.functions.document import split_and_convert_to_image, DrawBoxes\n",
    "from sycamore.tests.config import TEST_DIR\n",
    "from sycamore.transforms.merge_elements import GreedyTextElementMerger\n",
    "from sycamore.functions.tokenizer import HuggingFaceTokenizer\n",
    "from sycamore.connectors.file.file_scan import JsonManifestMetadataProvider"
   ]
  },
  {
   "cell_type": "markdown",
   "id": "3d880a2e-b076-4d15-8a26-c8ec31f7decc",
   "metadata": {},
   "source": [
    "Replace the `YOUR-ARYN-API-KEY` with your key "
   ]
  },
  {
   "cell_type": "code",
   "execution_count": null,
   "id": "5e482273-43e9-4765-a376-fa79352b9d9d",
   "metadata": {},
   "outputs": [],
   "source": [
    "aryn_api_key = 'YOUR-ARYN-API-KEY'"
   ]
  },
  {
   "cell_type": "markdown",
   "id": "396bbc5d-82e2-45e3-b8c6-241fde5a190a",
   "metadata": {},
   "source": [
    "cURL command can also be used to call Aryn API for pdf processing\n",
    "\n",
    "`curl --location 'https://api.aryn.cloud/v1/document/partition' \\\n",
    "--header 'Authorization: Bearer YOUR-ARYN-API-KEY' \\\n",
    "--form 'pdf=@\"/Users/sheb/Downloads/transformer.pdf\"' \\\n",
    "--form 'options=\"{\\\"threshold\\\":0.4,\\\"extract_table_structure\\\":true,\\\"extract_images\\\":true}\"`"
   ]
  },
  {
   "cell_type": "code",
   "execution_count": null,
   "id": "33a87e42-6c59-457c-8e99-4eee3b77a54d",
   "metadata": {},
   "outputs": [],
   "source": [
    "import requests\n",
    "import mimetypes\n",
    "\n",
    "def request_Aryn_API(apikey, filelocation, options):\n",
    "    url = \"https://api.aryn.cloud/v1/document/partition\"\n",
    "    \n",
    "    with open(filelocation, 'rb') as file:\n",
    "        file_type = 'application/pdf' or 'application/octet-stream'\n",
    "        files = {\n",
    "            'pdf': (filelocation.split('/')[-1], file, file_type),\n",
    "            'options': (None, options, 'text/plain')\n",
    "        }\n",
    "        \n",
    "        headers = {\n",
    "            'Authorization': f'Bearer {apikey}',\n",
    "        }\n",
    "        \n",
    "        response = requests.post(url, files=files, headers=headers)\n",
    "        return response.text\n"
   ]
  },
  {
   "cell_type": "code",
   "execution_count": null,
   "id": "8bcc5722-22ce-4a53-88bb-b6fbb6aa4017",
   "metadata": {},
   "outputs": [],
   "source": [
    "if os.path.exists(\"/.dockerenv\"):\n",
    "    # Running in Docker.\n",
    "    work_dir = \"/app/work/docker_volume\"\n",
    "else:\n",
    "    # Running outside of docker. This will land under notebooks/data/\n",
    "    work_dir = \"./data\"\n",
    "    "
   ]
  },
  {
   "cell_type": "code",
   "execution_count": null,
   "id": "405caf4d-7878-47c5-96d8-292b419ec728",
   "metadata": {},
   "outputs": [],
   "source": [
    "os.makedirs(work_dir, exist_ok = True)\n",
    "metadata = {}\n",
    "for f in [\"1706.03762\"]:\n",
    "    path = os.path.join(work_dir, f + \".pdf\")\n",
    "    url = os.path.join(\"http://arxiv.org/pdf\", f)\n",
    "    if not Path(path).is_file():\n",
    "        print(\"Downloading {} to {}\".format(url, path))\n",
    "        subprocess.run([\"curl\", \"-o\", path, url])\n"
   ]
  },
  {
   "cell_type": "code",
   "execution_count": null,
   "id": "ac7c470c-329d-42c7-9dde-aecd5af441b9",
   "metadata": {},
   "outputs": [],
   "source": [
    "options = '{\"threshold\":0.4,\"extract_table_structure\":true,\"extract_images\":true}'\n",
    "response = request_Aryn_API(aryn_api_key, path, options)\n"
   ]
  },
  {
   "cell_type": "code",
   "execution_count": null,
   "id": "a62aae0f-bda8-44fc-afea-4c86bf9989a3",
   "metadata": {
    "scrolled": true
   },
   "outputs": [],
   "source": [
    "response_json = json.loads(response)\n",
    "response_json"
   ]
  },
  {
   "cell_type": "markdown",
   "id": "a061eb8e-e06a-494e-af48-e0d0e472c69a",
   "metadata": {},
   "source": [
    "### Extract images from pdf using ArynPartitioner"
   ]
  },
  {
   "cell_type": "code",
   "execution_count": null,
   "id": "1dadd4bd-979b-4034-8f56-fe6aa424696d",
   "metadata": {},
   "outputs": [],
   "source": [
    "from PIL import Image\n",
    "print_next = False\n",
    "count = 1\n",
    "\n",
    "for element in response_json.get('elements',\"\"):\n",
    "    if element['type']=='Image':\n",
    "        Image_binary_string = element['binary_representation']\n",
    "        Image_bytes = base64.b64decode(Image_binary_string)\n",
    "        img = Image.frombytes(mode='RGB',size = element['properties']['image_size'],data= Image_bytes)\n",
    "        img.save(f'./data/output_image_{count}.jpg')\n",
    "        count +=1"
   ]
  },
  {
   "cell_type": "markdown",
   "id": "a31366f7-9862-4c74-9340-c701b1fe97bb",
   "metadata": {},
   "source": [
    "###  Extract headers in the pdf using ArynPartitioner along with their page number"
   ]
  },
  {
   "cell_type": "code",
   "execution_count": null,
   "id": "0d948d46-b397-4c8d-b752-f390e829e13b",
   "metadata": {},
   "outputs": [],
   "source": [
    "from PIL import Image\n",
    "\n",
    "\n",
    "print_next = False\n",
    "count = 1\n",
    "\n",
    "def sep_line():\n",
    "    print(\"-\" * 80)  \n",
    "    \n",
    "sep_line()\n",
    "print(f\"| {'Topic Name':<60} | {'Page Number':<15}| \")\n",
    "sep_line()\n",
    "\n",
    "sep_line()\n",
    "for element in response_json.get('elements',\"\"):\n",
    "    if element['type']=='Section-header':\n",
    "        print( f\"| {element['text_representation'][:-1]:<60} | {element['properties']['page_number']:<15}| \")\n",
    "\n",
    "sep_line()  # Separator line"
   ]
  },
  {
   "cell_type": "markdown",
   "id": "3b31fc4b-28e2-4a77-aa5b-f4a361541765",
   "metadata": {},
   "source": [
    "### Get Text from a particular Header"
   ]
  },
  {
   "cell_type": "code",
   "execution_count": null,
   "id": "479dc7f7-15b8-45e5-b02b-cbe0cd11afcc",
   "metadata": {},
   "outputs": [],
   "source": [
    "def get_text_from_heading(topic_name):\n",
    "    print_next = False\n",
    "    count = 1\n",
    "    references_found = False\n",
    "    for element in response_json.get('elements',\"\"):\n",
    "        if element['type']=='Section-header':\n",
    "            if topic_name in element['text_representation']:\n",
    "                references_found = True\n",
    "            else:\n",
    "                references_found = False\n",
    "        if references_found and element.get('text_representation',False)  :\n",
    "            print( f\"{element['text_representation'][:]} \")\n",
    "    \n",
    "get_text_from_heading('Why Self-Attention') "
   ]
  },
  {
   "cell_type": "code",
   "execution_count": null,
   "id": "328d721c-d04a-44ef-a26e-b8065dcec533",
   "metadata": {},
   "outputs": [],
   "source": []
  }
 ],
 "metadata": {
  "kernelspec": {
   "display_name": "Python 3 (ipykernel)",
   "language": "python",
   "name": "python3"
  },
  "language_info": {
   "codemirror_mode": {
    "name": "ipython",
    "version": 3
   },
   "file_extension": ".py",
   "mimetype": "text/x-python",
   "name": "python",
   "nbconvert_exporter": "python",
   "pygments_lexer": "ipython3",
   "version": "3.9.6"
  }
 },
 "nbformat": 4,
 "nbformat_minor": 5
}
