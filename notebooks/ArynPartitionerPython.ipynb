{
 "cells": [
  {
   "cell_type": "markdown",
   "id": "0",
   "metadata": {},
   "source": [
    "##### In this example, we will use the `aryn-sdk` library to make an API call to Aryn Partitioning Service, save images, extract headers and text from the response\n",
    "\n",
    "##### To access the Aryn Partitioning Service for fast, GPU-powered performance go to [aryn.ai/sign-up ](aryn.ai/sign-up) and sign up to get a free API key for the service. \n"
   ]
  },
  {
   "cell_type": "code",
   "execution_count": null,
   "id": "1",
   "metadata": {},
   "outputs": [],
   "source": [
    "import json\n",
    "import os\n",
    "import subprocess\n",
    "import sys\n",
    "from IPython.display import Image\n",
    "from PIL import Image\n",
    "import base64\n",
    "\n",
    "from pathlib import Path\n",
    "from IPython.display import display, display_pdf, Image\n",
    "from IPython.display import IFrame\n",
    "from PIL import Image as PImage\n",
    "\n",
    "from aryn_sdk.partition import partition_file, table_elem_to_dataframe, draw_with_boxes"
   ]
  },
  {
   "cell_type": "code",
   "execution_count": null,
   "id": "2",
   "metadata": {},
   "outputs": [],
   "source": [
    "if os.path.exists(\"/.dockerenv\"):\n",
    "    # Running in Docker.\n",
    "    work_dir = \"/app/work/docker_volume\"\n",
    "else:\n",
    "    # Running outside of docker. This will land under notebooks/data/\n",
    "    work_dir = \"./data\"\n",
    "    "
   ]
  },
  {
   "cell_type": "code",
   "execution_count": null,
   "id": "3",
   "metadata": {},
   "outputs": [],
   "source": [
    "os.makedirs(work_dir, exist_ok = True)\n",
    "metadata = {}\n",
    "for f in [\"1706.03762\"]:\n",
    "    path = os.path.join(work_dir, f + \".pdf\")\n",
    "    url = os.path.join(\"http://arxiv.org/pdf\", f)\n",
    "    if not Path(path).is_file():\n",
    "        print(\"Downloading {} to {}\".format(url, path))\n",
    "        subprocess.run([\"curl\", \"-o\", path, url])\n"
   ]
  },
  {
   "cell_type": "code",
   "execution_count": null,
   "id": "5",
   "metadata": {},
   "outputs": [],
   "source": [
    "from aryn_sdk.config import ArynConfig, _DEFAULT_PATH\n",
    "aryn_config=ArynConfig(aryn_config_path=_DEFAULT_PATH)\n",
    "\n",
    "assert aryn_config.api_key() != \"\", f\"Unable to find aryn API key.  Looked in {_DEFAULT_PATH}\"\n"
   ]
  },
  {
   "cell_type": "markdown",
   "id": "4",
   "metadata": {},
   "source": [
    "if the above assertion fails, you can either set the environment variable ARYN_API_KEY and restart jupyter\n",
    "or make a yaml file at the specified path in the assertion error that looks like:\n",
    "\n",
    "```\n",
    "aryn_token: \"YOUR-ARYN-API-KEY\"\n",
    "```\n",
    "\n",
    "It is unsafe, but if neither of those options work, you can put it in this notebook with\n",
    "```\n",
    "import os\n",
    "os.environ[\"ARYN_API_KEY\"] = \"UNSAFE-ARYN-API-KEY-LOCATION\" \n",
    "```\n",
    "\n",
    "but beware that it is easy to accidentally commit the notebook file and have it include your key."
   ]
  },
  {
   "cell_type": "code",
   "execution_count": null,
   "id": "6",
   "metadata": {},
   "outputs": [],
   "source": [
    "def partition_filepath(filelocation, api_key=None, **options):\n",
    "    with open(filelocation, \"rb\") as f:\n",
    "        return partition_file(f, api_key, **options)"
   ]
  },
  {
   "cell_type": "markdown",
   "id": "7",
   "metadata": {},
   "source": [
    "cURL command can also be used to call Aryn API for pdf processing\n",
    "\n",
    "`curl --location 'https://api.aryn.cloud/v1/document/partition' \\\n",
    "--header 'Authorization: Bearer YOUR-ARYN-API-KEY' \\\n",
    "--form 'pdf=@\"./data/1706.03762.pdf\"' \\\n",
    "--form 'options=\"{\\\"threshold\\\":0.4,\\\"extract_table_structure\\\":true,\\\"extract_images\\\":true}\"`"
   ]
  },
  {
   "cell_type": "code",
   "execution_count": null,
   "id": "8",
   "metadata": {},
   "outputs": [],
   "source": [
    "! curl --location 'https://api.aryn.cloud/v1/document/partition' --header 'Authorization: Bearer YOUR-ARYN-API-KEY' --form 'pdf=@\"./data/1706.03762.pdf\"' --form 'options=\"{\\\"threshold\\\":0.4,\\\"extract_table_structure\\\":false,\\\"extract_images\\\":false}\"'"
   ]
  },
  {
   "cell_type": "code",
   "execution_count": null,
   "id": "9",
   "metadata": {},
   "outputs": [],
   "source": [
    "response_json = partition_filepath(\n",
    "    path,\n",
    "    threshold = 0.4,\n",
    "    extract_table_structure = True,\n",
    "    extract_images = True,\n",
    "    use_ocr = True,\n",
    ")"
   ]
  },
  {
   "cell_type": "markdown",
   "id": "10",
   "metadata": {},
   "source": [
    "### Extract images from pdf using ArynPartitioner"
   ]
  },
  {
   "cell_type": "code",
   "execution_count": null,
   "id": "11",
   "metadata": {},
   "outputs": [],
   "source": [
    "from PIL import Image\n",
    "print_next = False\n",
    "count = 1\n",
    "\n",
    "for element in response_json.get('elements',\"\"):\n",
    "    if element['type']=='Image':\n",
    "        Image_binary_string = element['binary_representation']\n",
    "        Image_bytes = base64.b64decode(Image_binary_string)\n",
    "        img = Image.frombytes(mode='RGB',size = element['properties']['image_size'],data= Image_bytes)\n",
    "        img.save(f'./data/output_image_{count}.jpg')\n",
    "        count +=1"
   ]
  },
  {
   "cell_type": "markdown",
   "id": "12",
   "metadata": {},
   "source": [
    "###  Extract headers in the pdf using ArynPartitioner along with their page number"
   ]
  },
  {
   "cell_type": "code",
   "execution_count": null,
   "id": "13",
   "metadata": {},
   "outputs": [],
   "source": [
    "from PIL import Image\n",
    "\n",
    "\n",
    "print_next = False\n",
    "count = 1\n",
    "\n",
    "def sep_line():\n",
    "    print(\"-\" * 80)  \n",
    "    \n",
    "sep_line()\n",
    "print(f\"| {'Topic Name':<60} | {'Page Number':<15}| \")\n",
    "sep_line()\n",
    "\n",
    "sep_line()\n",
    "for element in response_json.get('elements',\"\"):\n",
    "    if element['type']=='Section-header':\n",
    "        print( f\"| {element['text_representation'][:-1]:<60} | {element['properties']['page_number']:<15}| \")\n",
    "\n",
    "sep_line()  # Separator line"
   ]
  },
  {
   "cell_type": "markdown",
   "id": "14",
   "metadata": {},
   "source": [
    "### Get Text from a particular Header"
   ]
  },
  {
   "cell_type": "code",
   "execution_count": null,
   "id": "15",
   "metadata": {},
   "outputs": [],
   "source": [
    "def get_text_from_heading(topic_name):\n",
    "    print_next = False\n",
    "    references_found = False\n",
    "    for element in response_json.get('elements',\"\"):\n",
    "        if element['type']=='Section-header':\n",
    "            if topic_name in element['text_representation']:\n",
    "                references_found = True\n",
    "            elif references_found == True and element['type']=='Section-header':\n",
    "                references_found = False\n",
    "        if references_found and element.get('text_representation',False)  :\n",
    "            print( f\"{element['text_representation'][:]} \")\n",
    "        \n",
    "    \n",
    "get_text_from_heading('Conclusion') "
   ]
  },
  {
   "cell_type": "markdown",
   "id": "16",
   "metadata": {},
   "source": [
    "### Visualize the bounding boxes on a page"
   ]
  },
  {
   "cell_type": "code",
   "execution_count": null,
   "id": "17",
   "metadata": {},
   "outputs": [],
   "source": [
    "from IPython.display import display\n",
    "\n",
    "page_images = draw_with_boxes(path, response_json)\n",
    "display(page_images[2])"
   ]
  },
  {
   "cell_type": "code",
   "execution_count": null,
   "id": "18",
   "metadata": {},
   "outputs": [],
   "source": [
    "tables = [elt for elt in response_json['elements'] if elt['type'] == 'table']\n",
    "table_elem_to_dataframe(tables[3])"
   ]
  },
  {
   "cell_type": "code",
   "execution_count": null,
   "id": "324907cc-f61e-483e-8285-154236b21295",
   "metadata": {},
   "outputs": [],
   "source": []
  }
 ],
 "metadata": {
  "kernelspec": {
   "display_name": "Python 3 (ipykernel)",
   "language": "python",
   "name": "python3"
  },
  "language_info": {
   "codemirror_mode": {
    "name": "ipython",
    "version": 3
   },
   "file_extension": ".py",
   "mimetype": "text/x-python",
   "name": "python",
   "nbconvert_exporter": "python",
   "pygments_lexer": "ipython3",
   "version": "3.10.9"
  }
 },
 "nbformat": 4,
 "nbformat_minor": 5
}
