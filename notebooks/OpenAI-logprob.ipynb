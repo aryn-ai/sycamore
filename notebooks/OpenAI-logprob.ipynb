{
 "cells": [
  {
   "cell_type": "code",
   "execution_count": 39,
   "id": "0d091771-d98a-438b-a9a4-d935a97a1b95",
   "metadata": {},
   "outputs": [],
   "source": [
    "import numpy as np\n",
    "from openai import OpenAI\n",
    "client = OpenAI()"
   ]
  },
  {
   "cell_type": "code",
   "execution_count": 63,
   "id": "12ac4f3f-de04-4b30-8277-802492221c0a",
   "metadata": {},
   "outputs": [],
   "source": [
    "filter_q = \"\"\"\n",
    "Given the following entity, answer the question that follows.\n",
    "Entity:\n",
    "text=\"The purpose of the flight was for the pilot to stay in the airport traffic pattern and make two fullstop landings to meet night currency requirements. The pilot described that shortly after takeoff\n",
    "he encountered an unexpected indication while retracting the landing gear and that one of the\n",
    "navigation radios turned off and then back on again. He then extended the landing gear and\n",
    "subsequently noted no abnormal indication. He continued the in the traffic pattern and while on\n",
    "final approach to the runway noted that he was “low,” had a clear view of the runway, and did\n",
    "not see any trees or other obstructions. He then increased engine power before he heard the\n",
    "sounds of (trees) striking the airplane. He could see the runway in front of him, so he landed the\n",
    "airplane and taxied uneventfully to his hangar. Both of the airplane’s wings and horizontal\n",
    "stabilizers were substantially damaged. The pilot reported that there were no preaccident\n",
    "mechanical malfunctions or failures with the airplane that would have precluded normal\n",
    "operation.\"\n",
    "\n",
    " \n",
    "Question: Was this an airplane incident caused due to environmental factors? Only return \"True\" or \"False\"\n",
    "\"\"\""
   ]
  },
  {
   "cell_type": "code",
   "execution_count": 92,
   "id": "9896014f-f657-4606-b790-aef5218579e2",
   "metadata": {},
   "outputs": [
    {
     "name": "stdout",
     "output_type": "stream",
     "text": [
      "Model: gpt-4o\n",
      "False\t0.9999495037169802\n",
      "True\t4.0063254114888094e-05\n",
      " False\t3.288592158889497e-06\n",
      "**\t3.288592158889497e-06\n",
      "\n",
      "Model: gpt-4o-mini\n",
      "False\t0.9999936078174301\n",
      "True\t6.1441693439922684e-06\n",
      " False\t1.637365668991014e-07\n",
      "false\t1.8189507738156635e-09\n",
      "\n",
      "Model: gpt-3.5-turbo\n",
      "False\t0.9950017465484594\n",
      "True\t0.004946579259398722\n",
      "\"\t1.7504037313748967e-05\n",
      " False\t1.2940482268443008e-05\n",
      "\n"
     ]
    }
   ],
   "source": [
    "for model in [\"gpt-4o\", \"gpt-4o-mini\", \"gpt-3.5-turbo\"]:\n",
    "    completion = client.chat.completions.create(\n",
    "        model=model,\n",
    "        logprobs=True,\n",
    "        top_logprobs=4,\n",
    "        temperature=0.0,\n",
    "        messages=[\n",
    "            {\"role\": \"system\", \"content\": \"You are a helpful classifier that generously filters database entries based on questions.\"},\n",
    "            {\"role\": \"user\", \"content\": filter_q}\n",
    "        ]\n",
    "    )\n",
    "    print(\"Model: \" + model)\n",
    "    for top in completion.choices[0].logprobs.content[0].top_logprobs:\n",
    "        print(top.token + \"\\t\" + str(np.exp(top.logprob)))\n",
    "    print()"
   ]
  },
  {
   "cell_type": "code",
   "execution_count": null,
   "id": "78f842df-6e74-49ed-8b68-5e90f282da5b",
   "metadata": {},
   "outputs": [],
   "source": []
  }
 ],
 "metadata": {
  "kernelspec": {
   "display_name": "Python 3 (ipykernel)",
   "language": "python",
   "name": "python3"
  },
  "language_info": {
   "codemirror_mode": {
    "name": "ipython",
    "version": 3
   },
   "file_extension": ".py",
   "mimetype": "text/x-python",
   "name": "python",
   "nbconvert_exporter": "python",
   "pygments_lexer": "ipython3",
   "version": "3.9.6"
  }
 },
 "nbformat": 4,
 "nbformat_minor": 5
}
