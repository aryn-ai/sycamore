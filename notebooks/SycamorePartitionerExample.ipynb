{
 "cells": [
  {
   "cell_type": "code",
   "execution_count": null,
   "id": "9bbc127c-a284-43a6-88b2-af06ec4727e6",
   "metadata": {},
   "outputs": [],
   "source": [
    "# This example draws bounding boxes and labels document elements, and it then displays the image as output and writes them to S3. \n",
    "\n",
    "import sycamore\n",
    "from sycamore.data import Document\n",
    "from sycamore.functions.document import split_and_convert_to_image, DrawBoxes\n",
    "from sycamore.transforms.partition import SycamorePartitioner\n",
    "from sycamore.utils.image_utils import image_page_filename_fn\n",
    "from sycamore.utils.pdf_utils import show_pages\n",
    "from pathlib import Path\n",
    "\n",
    "context = sycamore.init()\n",
    "\n",
    "# This creates a DocSet and runs the Sycamore Partitioner. You can change the threshold (default is 0.4) or enable OCR.\n",
    "# You can use this example document: s3://aryn-public/sycamore-partitioner-examples/document-example-1.pdf\n",
    "ds = context.read.binary(paths=[\"s3://my-bucket/my-input-folder\"], binary_format=\"pdf\")\\\n",
    "            .partition(partitioner=SycamorePartitioner(extract_table_structure=True, use_ocr=False, threshold=0.4))\n",
    "\n",
    "# This visualizes partitions inline in the notebook. \n",
    "show_pages(ds)\n",
    "\n",
    "# To save the visualized partitions for every page, you can use the following transforms.\n",
    "ds.flat_map(split_and_convert_to_image)\\\n",
    "  .map_batch(DrawBoxes, f_constructor_kwargs={\"draw_table_cells\": True})\\\n",
    "  .write.files(\"s3://my-bucket/my-output-folder\", filename_fn=image_page_filename_fn)\n",
    "\n",
    "# You can read from a S3 or local location. You can choose to read multiple PDFs from a folder, or specify just one PDF."
   ]
  },
  {
   "cell_type": "code",
   "execution_count": null,
   "id": "ad3cc95d-c84d-4874-9431-48068abb85ca",
   "metadata": {},
   "outputs": [],
   "source": [
    "# This example partitions the document, extracts images, and summarizes them using gpt-4-turbo. \n",
    "import sycamore\n",
    "from sycamore.data import BoundingBox, Document, Element, TableElement\n",
    "from sycamore.functions.document import split_and_convert_to_image, DrawBoxes\n",
    "from sycamore.transforms.partition import SycamorePartitioner\n",
    "from sycamore.transforms.summarize_images import SummarizeImages\n",
    "from pathlib import Path\n",
    "\n",
    "context = sycamore.init()\n",
    "\n",
    "doc = (context.read.binary(paths=\"s3://aryn-public/sycamore-partitioner-examples/document-example-1.pdf\", binary_format=\"pdf\")\n",
    "                .partition(partitioner=SycamorePartitioner(extract_images=True))\n",
    "# Summarize each image element.\n",
    "                .transform(SummarizeImages)\n",
    "                .explode()\n",
    "# Filter image elements to make it easier to see the summarized results.\n",
    "                .filter(lambda d: d.type == \"Image\")\n",
    "                .show())"
   ]
  }
 ],
 "metadata": {
  "kernelspec": {
   "display_name": "Python 3 (ipykernel)",
   "language": "python",
   "name": "python3"
  },
  "language_info": {
   "codemirror_mode": {
    "name": "ipython",
    "version": 3
   },
   "file_extension": ".py",
   "mimetype": "text/x-python",
   "name": "python",
   "nbconvert_exporter": "python",
   "pygments_lexer": "ipython3",
   "version": "3.11.1"
  }
 },
 "nbformat": 4,
 "nbformat_minor": 5
}
