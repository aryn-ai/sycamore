{
 "cells": [
  {
   "cell_type": "code",
   "execution_count": null,
   "id": "d38dec71-a96f-4100-b30c-61f5ad3006e5",
   "metadata": {},
   "outputs": [],
   "source": [
    "%load_ext autoreload\n",
    "%autoreload 2"
   ]
  },
  {
   "cell_type": "code",
   "execution_count": null,
   "id": "02fc2d19-75bb-4262-bbc0-e718ce52d1fb",
   "metadata": {},
   "outputs": [],
   "source": [
    "from sycamore.utils.aryn_config import ArynConfig\n",
    "\n",
    "doc_path = \"../lib/sycamore/sycamore/tests/resources/data/pdfs/Transformer.pdf\"\n",
    "\n",
    "# For debug checking; be careful this will put your key in the jupyter notebook\n",
    "#print(ArynConfig.get_aryn_api_key())"
   ]
  },
  {
   "cell_type": "code",
   "execution_count": null,
   "id": "1e4116c0-49bd-47ec-876c-565e55a5172c",
   "metadata": {
    "scrolled": true
   },
   "outputs": [],
   "source": [
    "# This example calls the parititoner directly and prints the output\n",
    "import logging\n",
    "import os\n",
    "\n",
    "from sycamore.utils.aryn_config import ArynConfig\n",
    "from sycamore.transforms.detr_partitioner import ArynPDFPartitioner\n",
    "\n",
    "logging.getLogger().setLevel(logging.INFO)\n",
    "\n",
    "a = ArynPDFPartitioner(model_name_or_path=None)\n",
    "with open(doc_path, \"rb\") as file:\n",
    "    b = a.partition_pdf(file, aryn_api_key=ArynConfig.get_aryn_api_key())\n",
    "    print(b)"
   ]
  },
  {
   "cell_type": "code",
   "execution_count": null,
   "id": "0",
   "metadata": {},
   "outputs": [],
   "source": [
    "# This example draws bounding boxes and labels document elements, and it then displays the image as output and writes them to S3. \n",
    "\n",
    "import ray\n",
    "import sycamore\n",
    "from sycamore.data import Document\n",
    "from sycamore.functions.document import split_and_convert_to_image, DrawBoxes\n",
    "from sycamore.transforms.partition import ArynPartitioner\n",
    "from sycamore.utils.image_utils import image_page_filename_fn\n",
    "from sycamore.utils.pdf_utils import show_pages\n",
    "from sycamore.utils.aryn_config import ArynConfig\n",
    "from pathlib import Path\n",
    "import os\n",
    "import logging\n",
    "\n",
    "sycamore.shutdown() # auto-reload can make this necessary\n",
    "context = sycamore.init()\n",
    "\n",
    "# This creates a DocSet and runs the Sycamore Partitioner. You can change the threshold (default is 0.4) or enable OCR.\n",
    "# You can use this example document: s3://aryn-public/sycamore-partitioner-examples/document-example-1.pdf\n",
    "ds = context.read.binary(paths=[doc_path], binary_format=\"pdf\")\\\n",
    "            .partition(partitioner=ArynPartitioner(model_name_or_path=None,\n",
    "                                                   extract_table_structure=True, use_ocr=False, threshold=0.4))\n",
    "\n",
    "# This visualizes partitions inline in the notebook. \n",
    "show_pages(ds)\n",
    "\n",
    "os.makedirs(\"/tmp/example\", exist_ok=True)\n",
    "# To save the visualized partitions for every page, you can use the following transforms.\n",
    "ds.flat_map(split_and_convert_to_image)\\\n",
    "  .map_batch(DrawBoxes, f_constructor_kwargs={\"draw_table_cells\": True})\\\n",
    "  .write.files(\"/tmp/example\", filename_fn=image_page_filename_fn)\n",
    "\n",
    "# You can read from a S3 or local location. You can choose to read multiple PDFs from a folder, or specify just one PDF."
   ]
  },
  {
   "cell_type": "code",
   "execution_count": null,
   "id": "1",
   "metadata": {},
   "outputs": [],
   "source": [
    "# This example partitions the document, extracts images, and summarizes them using gpt-4-turbo. \n",
    "import ray\n",
    "import sycamore\n",
    "from sycamore.data import BoundingBox, Document, Element, TableElement\n",
    "from sycamore.functions.document import split_and_convert_to_image, DrawBoxes\n",
    "from sycamore.transforms.partition import SycamorePartitioner\n",
    "from sycamore.transforms.summarize_images import SummarizeImages\n",
    "from pathlib import Path\n",
    "\n",
    "context = sycamore.init()\n",
    "\n",
    "doc = (context.read.binary(paths=\"s3://aryn-public/sycamore-partitioner-examples/document-example-1.pdf\", binary_format=\"pdf\")\n",
    "                .partition(partitioner=SycamorePartitioner(extract_images=True))\n",
    "# Summarize each image element.\n",
    "                .transform(SummarizeImages)\n",
    "                .explode()\n",
    "# Filter image elements to make it easier to see the summarized results.\n",
    "                .filter(lambda d: d.type == \"Image\")\n",
    "                .show())"
   ]
  }
 ],
 "metadata": {
  "kernelspec": {
   "display_name": "Python 3 (ipykernel)",
   "language": "python",
   "name": "python3"
  },
  "language_info": {
   "codemirror_mode": {
    "name": "ipython",
    "version": 3
   },
   "file_extension": ".py",
   "mimetype": "text/x-python",
   "name": "python",
   "nbconvert_exporter": "python",
   "pygments_lexer": "ipython3",
   "version": "3.11.6"
  }
 },
 "nbformat": 4,
 "nbformat_minor": 5
}
