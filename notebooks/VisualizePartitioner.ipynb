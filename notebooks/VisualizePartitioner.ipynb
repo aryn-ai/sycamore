{
 "cells": [
  {
   "cell_type": "markdown",
   "id": "2b50f720-70f9-4ba9-887c-0747b079493a",
   "metadata": {},
   "source": [
    "\n",
    "##### In this example, we will write a Sycamore job to use Aryn Partitioner for visualizing partitions inline in the notebook.\n",
    "\n",
    "##### The Aryn Partitioner in this job is configured to use the Aryn Partitioning Service to provide fast, GPU-powered performance. Go to [aryn.ai/sign-up ](aryn.ai/sign-up) to get a free API key for the service. This is the recommended configuration.\n",
    "\n",
    "##### You can also run the Aryn Partitioner locally by setting `use_partitioning_service` to `False`. Though you can use CPU to run the Aryn Partitioner, it is recommended to use an NVIDIA GPU for good performance.\n"
   ]
  },
  {
   "cell_type": "code",
   "execution_count": null,
   "id": "7b6aec8a-524d-4634-beb0-933fa1d6b23c",
   "metadata": {},
   "outputs": [],
   "source": [
    "# This example draws bounding boxes and labels document elements, and it then displays the image as output and writes them to S3. \n",
    "\n",
    "import sycamore\n",
    "from sycamore.data import Document\n",
    "from sycamore.functions.document import split_and_convert_to_image, DrawBoxes\n",
    "from sycamore.transforms.partition import ArynPartitioner\n",
    "from sycamore.utils.image_utils import image_page_filename_fn\n",
    "from sycamore.utils.pdf_utils import show_pages\n",
    "from pathlib import Path\n",
    "\n",
    "context = sycamore.init()\n"
   ]
  },
  {
   "cell_type": "code",
   "execution_count": null,
   "id": "93a1d404-fb97-4715-b101-5db90388f8f2",
   "metadata": {},
   "outputs": [],
   "source": [
    "from sycamore.utils.aryn_config import ArynConfig, _DEFAULT_PATH\n",
    "assert ArynConfig.get_aryn_api_key() != \"\", f\"Unable to find aryn API key.  Looked in {_DEFAULT_PATH}\""
   ]
  },
  {
   "cell_type": "markdown",
   "id": "294b189b-794e-45ac-8bd5-ce708950be8d",
   "metadata": {},
   "source": [
    "if the above assertion fails, you can either set the environment variable ARYN_API_KEY and restart jupyter\n",
    "or make a yaml file at the specified path in the assertion error that looks like:\n",
    "\n",
    "```\n",
    "aryn_token: \"YOUR-ARYN-API-KEY\"\n",
    "```\n",
    "\n",
    "It is unsafe, but if neither of those options work, you can put it in this notebook with\n",
    "```\n",
    "import os\n",
    "os.environ[\"ARYN_API_KEY\"] = \"UNSAFE-ARYN-API-KEY-LOCATION\" \n",
    "```\n",
    "\n",
    "but beware that it is easy to accidentally commit the notebook file and have it include your key."
   ]
  },
  {
   "cell_type": "code",
   "execution_count": null,
   "id": "b84c04a0-c682-4d58-8439-9a9a3a5ef2a9",
   "metadata": {},
   "outputs": [],
   "source": [
    "\n",
    "# This creates a DocSet and runs the Aryn Partitioner. You can change the threshold (default is 0.4) or enable OCR.\n",
    "# You can use this example document: s3://aryn-public/sycamore-partitioner-examples/document-example-1.pdf\n",
    "ds = context.read.binary(paths=[\"s3://aryn-public/sycamore-partitioner-examples/document-example-1.pdf\"], binary_format=\"pdf\")\\\n",
    "            .partition(partitioner=ArynPartitioner(extract_table_structure=True \n",
    "                                                  )\n",
    "                      )\n"
   ]
  },
  {
   "cell_type": "code",
   "execution_count": null,
   "id": "a25a7618-ae53-4b01-84ca-edae589fe493",
   "metadata": {},
   "outputs": [],
   "source": [
    "# This visualizes partitions inline in the notebook.\n",
    "show_pages(ds, limit = 7 )"
   ]
  },
  {
   "cell_type": "code",
   "execution_count": null,
   "id": "d825ac9d-2f11-40bc-b9e5-df358690f543",
   "metadata": {},
   "outputs": [],
   "source": []
  }
 ],
 "metadata": {
  "kernelspec": {
   "display_name": "Python 3 (ipykernel)",
   "language": "python",
   "name": "python3"
  },
  "language_info": {
   "codemirror_mode": {
    "name": "ipython",
    "version": 3
   },
   "file_extension": ".py",
   "mimetype": "text/x-python",
   "name": "python",
   "nbconvert_exporter": "python",
   "pygments_lexer": "ipython3",
   "version": "3.10.9"
  }
 },
 "nbformat": 4,
 "nbformat_minor": 5
}
