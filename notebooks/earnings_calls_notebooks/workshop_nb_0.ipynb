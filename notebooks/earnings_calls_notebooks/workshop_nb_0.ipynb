{
 "cells": [
  {
   "cell_type": "markdown",
   "id": "54634eb7-37dc-4b24-a99b-26dc91a5be50",
   "metadata": {},
   "source": [
    "# Workshop notebook 1 - Amuse-Bouche\n",
    "\n",
    "Before we get into too much detail, here's a taste of deep analytics. You can mostly click through\n",
    "this notebook, and I won't explain everything that's going on in it, but the broad strokes are these:\n",
    "\n",
    "1. We'll start by ingesting a bunch of data that I've preprocessed and placed in s3 into Aryn\n",
    "2. We'll then run a processing job to answer: \"List all the companies that mentioned inflation and give me a count of the number of times each of the companies mentioned inflation.\""
   ]
  },
  {
   "cell_type": "code",
   "execution_count": null,
   "id": "42dddb4c-fc2d-471c-b026-f3cf897f3231",
   "metadata": {},
   "outputs": [],
   "source": [
    "# Imports & setup\n",
    "import sycamore\n",
    "from pathlib import Path\n",
    "from aryn_sdk.client.client import Client\n",
    "\n",
    "materialize_dir = Path.cwd() / \"materialize\"\n",
    "ctx = sycamore.init()"
   ]
  },
  {
   "cell_type": "code",
   "execution_count": null,
   "id": "edb5ea4d-bd5c-4558-b849-a844a0f5b949",
   "metadata": {},
   "outputs": [],
   "source": [
    "# Create the docset target in Aryn\n",
    "aryn_client = Client()\n",
    "aryn_docset = aryn_client.create_docset(name = \"haystack-workshop-nb-0\")\n",
    "docset_id = aryn_docset.value.docset_id"
   ]
  },
  {
   "cell_type": "code",
   "execution_count": null,
   "id": "45d34726-58dc-46aa-bb64-57e3fa815856",
   "metadata": {
    "scrolled": true
   },
   "outputs": [],
   "source": [
    "# Write the data\n",
    "\n",
    "(\n",
    "    ctx.read.materialize(path = materialize_dir / \"about-to-ingest\")\n",
    "    .write.aryn(docset_id = docset_id)\n",
    ")"
   ]
  },
  {
   "cell_type": "code",
   "execution_count": null,
   "id": "1149dbee-1f24-47cb-88b2-77fba6dce8b3",
   "metadata": {},
   "outputs": [],
   "source": [
    "# Imports and prep for the analytics\n",
    "from sycamore.llms.openai import OpenAI, OpenAIModels\n",
    "from sycamore.functions.tokenizer import OpenAITokenizer\n",
    "from sycamore.llms.prompts.default_prompts import LlmFilterMessagesJinjaPrompt\n",
    "from sycamore.llms.llms import LLMMode\n",
    "\n",
    "llm = OpenAI(OpenAIModels.GPT_4O_MINI)\n",
    "tk = OpenAITokenizer(OpenAIModels.GPT_4O_MINI.value.name)"
   ]
  },
  {
   "cell_type": "code",
   "execution_count": null,
   "id": "5b92c5bd-60d5-4ffd-983d-7416aae1ea03",
   "metadata": {},
   "outputs": [],
   "source": [
    "# Read the data back and run analytics.\n",
    "count_docs = (\n",
    "    ctx.read.aryn(docset_id = docset_id)\n",
    "    .explode()\n",
    "    .filter(lambda doc: \"parent_id\" in doc)\n",
    "    .llm_filter(\n",
    "        llm=llm,\n",
    "        new_field=\"inflation_mentioned_confidence\",\n",
    "        prompt = LlmFilterMessagesJinjaPrompt.fork(filter_question=\"Does this text mention inflation?\"),\n",
    "        tokenizer = tk,\n",
    "        max_tokens = 80_000)\n",
    "    .groupby_count('properties.entity.company_name')\n",
    "    .take_all()\n",
    ")"
   ]
  },
  {
   "cell_type": "code",
   "execution_count": null,
   "id": "fab3bc26-8d47-4a2c-92e5-42a182ea2456",
   "metadata": {},
   "outputs": [],
   "source": [
    "# Display the results\n",
    "import rich\n",
    "inflation_table = rich.table.Table(title=\"inflation_mentions\")\n",
    "inflation_table.add_column(\"company\")\n",
    "inflation_table.add_column(\"mentions\")\n",
    "\n",
    "counts = [(d.properties['count'], d.properties['key']) for d in count_docs]\n",
    "for c, k in sorted(counts):\n",
    "    inflation_table.add_row(k, str(c))\n",
    "\n",
    "rich.print(inflation_table)"
   ]
  }
 ],
 "metadata": {
  "kernelspec": {
   "display_name": "Python 3 (ipykernel)",
   "language": "python",
   "name": "python3"
  },
  "language_info": {
   "codemirror_mode": {
    "name": "ipython",
    "version": 3
   },
   "file_extension": ".py",
   "mimetype": "text/x-python",
   "name": "python",
   "nbconvert_exporter": "python",
   "pygments_lexer": "ipython3",
   "version": "3.11.11"
  }
 },
 "nbformat": 4,
 "nbformat_minor": 5
}
