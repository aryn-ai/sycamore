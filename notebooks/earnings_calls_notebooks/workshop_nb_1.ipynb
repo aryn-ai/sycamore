{
 "cells": [
  {
   "cell_type": "markdown",
   "id": "51998fd3-1494-4ea0-ba9c-6dd0defa5b54",
   "metadata": {},
   "source": [
    "# Workshop Notebook 1 - Document data model\n",
    "\n",
    "This notebook will guide you through the Document data model, using `aryn_sdk` to partition a document\n",
    "with the Aryn DocParse service.\n",
    "\n",
    "## Are you set up correctly?\n",
    "\n",
    "First we're going to make sure you've downloaded the pdfs in the expected place and installed the poppler library."
   ]
  },
  {
   "cell_type": "code",
   "execution_count": null,
   "id": "cdd96838-0b74-4179-90cc-c0ef5ce1d8cd",
   "metadata": {},
   "outputs": [],
   "source": [
    "from error_messages import *\n",
    "from pathlib import Path\n",
    "\n",
    "repo_root = Path.cwd()\n",
    "pdf_dir = repo_root / \"files\" / \"earnings_calls\"\n",
    "one_pdf = pdf_dir / \"broadcom-avgo-q1-2024-earnings-call-transcript.pdf\"\n",
    "assert one_pdf.exists()\n",
    "one_pdf"
   ]
  },
  {
   "cell_type": "markdown",
   "id": "ebd613ef-33c4-4d9e-b088-5713262557fb",
   "metadata": {},
   "source": [
    "## Display a document\n",
    "\n",
    "We can use the pdf2image library to convert the pdf into a list of images and then display it in the notebook"
   ]
  },
  {
   "cell_type": "code",
   "execution_count": null,
   "id": "c4d77e46-34e9-4be5-be90-bcf2956e69d7",
   "metadata": {
    "scrolled": true
   },
   "outputs": [],
   "source": [
    "from pdf2image import convert_from_path\n",
    "from IPython.display import display\n",
    "\n",
    "try:\n",
    "    ims = convert_from_path(one_pdf)\n",
    "    display(ims[0])\n",
    "except Exception as e:\n",
    "    poppler_failed_error()\n",
    "    print(e)"
   ]
  },
  {
   "cell_type": "markdown",
   "id": "087ffbd3-4566-4de5-9f10-118d683e00fe",
   "metadata": {},
   "source": [
    "This earnings call document is a transcript of a conversation between several different people. This document specifically focuses on Broadcom's earnings in Q1 in 2024. \n",
    "In this particular quarter, Broadcom's VMware acquisition is a hot topic and analysts are asking the CEO (Hock Tan) and the CFO (Kirsten Spears) about Broadcom's strategy \n",
    "behind the VMware acquisiton. In the next section of the workshop, we will discuss and implement a data processing job to pull the information from this document required \n",
    "to answer the question:\n",
    "\n",
    "0. In the Broadcom earnings call, what details did the CFO, Kirsten Spears, discuss about the VMware acqusition?\n",
    "\n",
    "## Partition a Document\n",
    "\n",
    "For now though, let's just explore the Document data model, by partitioning the document. We'll use `aryn_sdk` to send the document to Aryn DocParse, which will break it\n",
    "into Elements. Then I have a few exercises for you to get familiar with elements and what you can do with them."
   ]
  },
  {
   "cell_type": "code",
   "execution_count": null,
   "id": "02d74f9b-028b-4f0e-b78e-74d3ee3ce71c",
   "metadata": {},
   "outputs": [],
   "source": [
    "# Get started with aryn_sdk. \n",
    "# This will also make sure your credentials are set correctly.\n",
    "from aryn_sdk.partition import partition_file\n",
    "\n",
    "try:\n",
    "    data = partition_file(one_pdf)\n",
    "    elements = data['elements']\n",
    "except Exception as e:\n",
    "    aryn_no_api_key_error()\n",
    "    print(e)"
   ]
  },
  {
   "cell_type": "markdown",
   "id": "07d549ba-3cbd-4036-b8df-80cc1f39b33c",
   "metadata": {},
   "source": [
    "We can visualize the elements by drawing the bounding boxes onto the pdf. `aryn_sdk` has a function for that."
   ]
  },
  {
   "cell_type": "code",
   "execution_count": null,
   "id": "bc89502e-fdf1-494d-a785-c5166b99c005",
   "metadata": {
    "scrolled": true
   },
   "outputs": [],
   "source": [
    "from aryn_sdk.partition import draw_with_boxes\n",
    "\n",
    "graffitied_pages = draw_with_boxes(one_pdf, data)\n",
    "graffitied_pages[1]"
   ]
  },
  {
   "cell_type": "markdown",
   "id": "90e1a274-f11d-48a7-bf5e-625d9d57040e",
   "metadata": {},
   "source": [
    "Here, we've printed one of the pages of the Broadcom earnings call. If you scroll through, you'll notice \n",
    "several bounding boxes that denote the elements that DocParse detected. Each element contains a bunch of \n",
    "information. Core information includes `type`, `bbox`, and `text_representation`. Additional information \n",
    "is stored in a `properties` dict, such as the page number the element is on. Let's look at the JSON \n",
    "representation of the first element that DocParse detected. "
   ]
  },
  {
   "cell_type": "code",
   "execution_count": null,
   "id": "fbc38d61-7100-4116-b15a-ee9bceedc230",
   "metadata": {},
   "outputs": [],
   "source": [
    "import json\n",
    "print(json.dumps(elements[0], indent=2))"
   ]
  },
  {
   "cell_type": "markdown",
   "id": "a40d56ba-8016-40af-b96b-55f3977aa116",
   "metadata": {},
   "source": [
    "You'll notice that DocParse detected an image at the top of the page and it returned some information about that element such as its bounding box etc. \n",
    "\n",
    "Let's have a quick quiz to introduce elements. I've created a bunch of functions that operate on the list of elements returned by the partitioner. Your job is to implement them."
   ]
  },
  {
   "cell_type": "code",
   "execution_count": null,
   "id": "390941e3-2d8e-4b4d-b275-b756d75e9194",
   "metadata": {},
   "outputs": [],
   "source": [
    "def number_of_footnotes(elts: list[dict]) -> int:\n",
    "    \"\"\"Return the number of elements of type 'Footnote'\"\"\"\n",
    "\n",
    "    raise NotImplementedError(\"Finish this yourself\")\n",
    "    \n",
    "def number_of_elements_after_page_4(elts: list[dict]) -> int:\n",
    "    \"\"\"Return the number of elements that fall after page 4. Note that page numbers are 1-indexed.\"\"\"\n",
    "\n",
    "    raise NotImplementedError(\"Finish this yourself\")\n",
    "\n",
    "def number_of_vmware_mentions(elts: list[dict]) -> int:\n",
    "    \"\"\"Return the number of elements that mention 'vmware' (this is case insensitive, so count 'VMware' and 'vmware')\n",
    "    Note: some elements do not have a 'text_representation' key.\"\"\"\n",
    "\n",
    "    raise NotImplementedError(\"Finish this yourself\")\n",
    "    \n",
    "\n",
    "def number_of_elements_that_cover_a_third_of_the_page(elts: list[dict]) -> int:\n",
    "    \"\"\"For this you'll need the bbox property. bboxes are represented as 4 floats, [x1, y1, x2, y2]. Each \n",
    "    coordinate ranges from 0 to 1, representing the fraction of the page (left-to-right for x, top-to-bottom for y) \n",
    "    where the point lies. So [0, 0, 1, 1] is the whole page, and [0, 0.5, 0.5, 1] is the lower-left quadrant.\n",
    "    \n",
    "    Return the number of elements that cover at least a third of the page. An element covers a third of the page if its \n",
    "    area is greater than 1/3\"\"\"\n",
    "    \n",
    "    raise NotImplementedError(\"Finish this yourself\")\n",
    "\n",
    "\n",
    "assert number_of_footnotes(elements) == 2, f\"Got {number_of_footnotes(elements)}. Make sure your capitalization is correct.\"\n",
    "\n",
    "assert number_of_elements_after_page_4(elements) == 232, f\"Got {number_of_elements_after_page_4(elements)}. If you got 241, 'after page 4' does not include page 4, and page numbers are 1-indexed. (use > 4, not >= 4)\"\n",
    "\n",
    "assert number_of_vmware_mentions(elements) == 24, f\"Got {number_of_vmware_mentions(elements)}. A 'vwmare mention' is defined as an element whose text contains the string 'VMware'.\"\n",
    "\n",
    "assert number_of_elements_that_cover_a_third_of_the_page(elements) == 1, f\"Got {number_of_elements_that_cover_a_third_of_the_page(elements)}\"\n",
    "\n",
    "print(\"All correct! Nice\")"
   ]
  },
  {
   "cell_type": "markdown",
   "id": "5344a521-af75-4891-b88b-ffae20c1740c",
   "metadata": {},
   "source": [
    "When you get here, stand up so we can tell when everyone's done. Also feel free to help your neighbors!\n",
    "\n",
    "In the next section of the workshop, we will process documents and elements to derive metadata that will\n",
    "allow us to answer questions. We will use sycamore to structure that processing job and efficiently\n",
    "execute it."
   ]
  }
 ],
 "metadata": {
  "kernelspec": {
   "display_name": "Python 3 (ipykernel)",
   "language": "python",
   "name": "python3"
  },
  "language_info": {
   "codemirror_mode": {
    "name": "ipython",
    "version": 3
   },
   "file_extension": ".py",
   "mimetype": "text/x-python",
   "name": "python",
   "nbconvert_exporter": "python",
   "pygments_lexer": "ipython3",
   "version": "3.11.11"
  }
 },
 "nbformat": 4,
 "nbformat_minor": 5
}
