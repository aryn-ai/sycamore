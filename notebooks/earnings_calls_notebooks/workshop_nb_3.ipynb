{
 "cells": [
  {
   "cell_type": "markdown",
   "id": "66200b7d-fe86-4ce4-994b-6a6fdde11b30",
   "metadata": {},
   "source": [
    "# Workshop Notebook 3 - RAG\n",
    "\n",
    "In this notebook, we will implement RAG to answer some questions over them."
   ]
  },
  {
   "cell_type": "markdown",
   "id": "a7ee170b-42da-4e86-a47a-38bfc399b0d5",
   "metadata": {},
   "source": [
    "# Questions\n",
    "\n",
    "Alrighty, now let's answer some questions on the data!\n",
    "\n",
    "We've come up with a list of questions that we think will be interesting to try to answer - some are easy and some are hard:\n",
    "\n",
    "0. In the Broadcom earnings call, what details did the CEO, Hock Tan, discuss about the VMware acqusition?\n",
    "1. What was the revenue in the Q2 AirBnB earnings call?\n",
    "2. List all the speakers in the MongoDB Q4 2024 earnings call.\n",
    "3. List all the speakers in the Broadcom Q4 2024 earnings call.\n",
    "4. How many customers did MongoDB have at the end of the Q1 2024 quarter?\n",
    "5. What was the first PLTR earnings call where Anduril is mentioned?\n",
    "6. List all the companies that mentioned inflation and give me a count of the number of times each of the companies mentioned inflation.\n",
    "7. Summarize how the VMWare acquisition contributed to revenue changes for Broadcom quarter over quarter.\n",
    "8. Summarize how Intuit’s latest AI powered platform, Intuit Assist is being integrated through its products. Give me a quarter by quarter break down of the progress. \n",
    "9. Summarize all the mergers and acquisitions that happened in 2024 and give a breakdown of how each acquisition impacted earnings.\n",
    "10. Summarize how AI integration is progressing across each company's products. Give me a quarter by quarter break down of the progress per company and overall.\n",
    "\n",
    "With the data ingested in Aryn, we should be able to build programmatically answer these question by retrieving the data and using an LLM. We'll \n",
    "start with RAG (Retrieval Augmented Generation), which can answer most of the simpler questions, but getting further down the list, RAG starts to \n",
    "break down. There's simply too much data that needs to be retrieved to do it all with an LLM call. In the next notebook, we will use sycamore to\n",
    "answer these harder questions, but for now let's knock out the simpler retrieval-based ones.\n",
    "\n",
    "## Simple RAG implementation\n",
    "\n",
    "RAG is essentially comprised of two steps: a query step and a llm step. In other words, you execute a search query, and then you hand an LLM the \n",
    "search results and the original question, and it crunches the search results into an answer. There are about a million variants, but for the\n",
    "purposes of expediency we'll just use basic RAG here. We can query Aryn using aryn_sdk, so let's do that:"
   ]
  },
  {
   "cell_type": "code",
   "execution_count": null,
   "id": "69eec774-0473-4ac0-96ed-45e04523a0f9",
   "metadata": {},
   "outputs": [],
   "source": [
    "from aryn_sdk.client.client import Client as ArynClient\n",
    "\n",
    "aryn_client = ArynClient()"
   ]
  },
  {
   "cell_type": "code",
   "execution_count": null,
   "id": "6afb0754-66e2-4690-8eb5-d7ea1b3937dd",
   "metadata": {},
   "outputs": [],
   "source": [
    "# We're going to get a bunch of tabular-style results. Let's make sure those are nice to look at:\n",
    "import rich\n",
    "\n",
    "dtable = rich.table.Table(title=\"Docsets\")\n",
    "dtable.add_column(\"docset_id\")\n",
    "dtable.add_column(\"name\")\n",
    "dtable.add_column(\"created_at\")\n",
    "dtable.add_column(\"size\")\n",
    "\n",
    "dses = list(aryn_client.list_docsets())\n",
    "for ds in dses:\n",
    "    dtable.add_row(ds.docset_id, ds.name, ds.created_at.isoformat(), str(ds.size))\n",
    "\n",
    "rich.console.Console().print(dtable)"
   ]
  },
  {
   "cell_type": "code",
   "execution_count": null,
   "id": "5f9e20d7-b943-4e7f-95cb-41d1b77f0825",
   "metadata": {},
   "outputs": [],
   "source": [
    "# Last notebook we wrote our docset id to a file to pick up here.\n",
    "with open(\"docset_id\", \"r\") as f:\n",
    "    docset_id = f.read()\n",
    "\n",
    "print(docset_id)"
   ]
  },
  {
   "cell_type": "markdown",
   "id": "e8eee26f-846c-47bd-bf3b-84687b6404b2",
   "metadata": {},
   "source": [
    "### Search\n",
    "First let's play around a little with the search API. `aryn_client.search()` accepts two parameters: a `docset_id` and a `search_request`.\n",
    "\n",
    "An Aryn `SearchRequest` has the following parameters:\n",
    "\n",
    "- `query`: the query string\n",
    "- `query_type`: the kind of query to execute. One of \"keyword\", \"lexical\", \"vector\", and \"hybrid\"\n",
    "- `properties_filter`: a filter expression. More on those later\n",
    "- `return_type`: either \"element\" or \"doc\". Whether to return individual elements or whole documents.\n",
    "\n",
    "### Filters\n",
    "Aryn filter syntax is comprised of expressions formatted like so: `\"(property = \\\"value\\\")`, where the\n",
    "property name is given in dotted notation. String values are double-quoted. Other comparison operators (<, >, <=, >=, <>) are supported.\n",
    "Any number of expressions can be joined with ANDs. No grouping is allowed though.\n",
    "\n",
    "Here's an example query. Feel free to mess with it."
   ]
  },
  {
   "cell_type": "code",
   "execution_count": null,
   "id": "2569f1d8-884e-48d5-8960-514b5e580793",
   "metadata": {
    "scrolled": true
   },
   "outputs": [],
   "source": [
    "from aryn_sdk.types.search import SearchRequest\n",
    "\n",
    "response = aryn_client.search(\n",
    "    docset_id = docset_id,\n",
    "    query = SearchRequest(\n",
    "        query=\"What is Tesla up to these days?\",\n",
    "        query_type=\"vector\",\n",
    "        return_type=\"doc\",\n",
    "        properties_filter=\"(properties.entity.company_ticker = \\\"TSLA\\\")\"\n",
    "    )\n",
    ")\n",
    "\n",
    "results = response.value.results\n",
    "table = rich.table.Table()\n",
    "table.add_column(\"company_name\")\n",
    "table.add_column(\"quarter\")\n",
    "for sr in results:\n",
    "    table.add_row(sr['properties']['entity']['company_name'], sr['properties']['entity']['quarter'])\n",
    "\n",
    "rich.console.Console().print(table)"
   ]
  },
  {
   "cell_type": "markdown",
   "id": "f93afb4e-2a2a-4038-9d7f-2fca2e87a946",
   "metadata": {},
   "source": [
    "Now we'll write a relatively simple RAG function to reuse for the first several questions. \n",
    "\n",
    "I'll use the sycamore LLM interface because it's what I'm most familiar with and it's fairly easy to use. A sycamore LLM has a \n",
    "`generate` method that accepts a `RenderedPrompt` which is made up of `RenderedMessage`s, following the messages API that the \n",
    "model providers seem to have settled on."
   ]
  },
  {
   "cell_type": "code",
   "execution_count": null,
   "id": "58096189-0f3c-4050-9d35-41137e0b0c63",
   "metadata": {},
   "outputs": [],
   "source": [
    "from aryn_sdk.types.search import SearchRequest\n",
    "from sycamore.llms.openai import OpenAI, OpenAIModels\n",
    "from sycamore.llms.prompts.prompts import RenderedPrompt, RenderedMessage\n",
    "\n",
    "llm = OpenAI(OpenAIModels.GPT_4O)\n",
    "\n",
    "def rag(question: str, search_request: SearchRequest) -> str:\n",
    "    search_result = aryn_client.search(docset_id = docset_id, query = search_request)\n",
    "\n",
    "    messages = [RenderedMessage(role=\"user\", content=f\"Using the provided documents, answer the question: {question}\")]\n",
    "    for sr in search_result.value.results:\n",
    "        # We don't want to include the embeddings in the prompt - \n",
    "        # It will just take up space with thousands of random numbers.\n",
    "        sr.pop(\"embedding\", None)\n",
    "        if \"elements\" in sr:\n",
    "            for elt in sr[\"elements\"]:\n",
    "                elt.pop(\"embedding\", None)\n",
    "                elt.pop(\"bbox\", None)\n",
    "        # This really isn't super intelligent. We just dump each search result \n",
    "        # out as a string and let the LLM decide what to pay attention to\n",
    "        messages.append(RenderedMessage(role=\"user\", content=str(sr)))\n",
    "        \n",
    "    return llm.generate(prompt=RenderedPrompt(messages=messages))"
   ]
  },
  {
   "cell_type": "markdown",
   "id": "eb4ed62b-2110-44f4-926e-4377eda0bb14",
   "metadata": {},
   "source": [
    "### Question 1: What was the revenue in the Q2 AirBnB earnings call?\n",
    "\n",
    "Correct answer: $2.75 billion\n",
    "\n",
    "It turns out that plain, unfiltered BM25 search is sufficient to answer this question. Note that we're asking\n",
    "for elements back rather than documents - typically this is what you want to do in RAG systems."
   ]
  },
  {
   "cell_type": "code",
   "execution_count": null,
   "id": "778e6490-ca89-43b0-befb-f2673b5615dd",
   "metadata": {},
   "outputs": [],
   "source": [
    "question1 = \"What was the revenue in the Q2 AirBnB earnings call?\"\n",
    "\n",
    "search_request1 = SearchRequest(\n",
    "    query=question1,\n",
    "    query_type=\"lexical\",\n",
    "    return_type=\"element\",\n",
    ")\n",
    "\n",
    "answer1 = rag(question1, search_request1)\n",
    "print(answer1)"
   ]
  },
  {
   "cell_type": "markdown",
   "id": "48cf8b80-a236-4c5d-8aea-b0236913ab1a",
   "metadata": {},
   "source": [
    "### Question 2: List all the speakers in the MongoDB Q4 2024 earnings call.\n",
    "\n",
    "Correct answer: <It's like a list of 12 people>\n",
    "\n",
    "Here we need a filter - specifically we want only documents in Q4 for MongoDB (we only have 2024 data but you'd \n",
    "probably want to add that filter too)"
   ]
  },
  {
   "cell_type": "code",
   "execution_count": null,
   "id": "0d6db41b-4fe8-4fbd-8331-e7655c93be18",
   "metadata": {},
   "outputs": [],
   "source": [
    "question2 = \"List all the speakers in the MongoDB Q4 2024 earnings call.\"\n",
    "\n",
    "search_request2 = SearchRequest(\n",
    "    query=question2,\n",
    "    query_type=\"lexical\",\n",
    "    return_type=\"element\",\n",
    "    properties_filter=\"(properties.entity.company_ticker=\\\"MDB\\\") AND (properties.entity.quarter=\\\"Q4\\\")\",\n",
    ")\n",
    "\n",
    "answer2 = rag(question2, search_request2)\n",
    "print(answer2)"
   ]
  },
  {
   "cell_type": "markdown",
   "id": "782b24fa-0f56-4043-8a6e-8174cf9cf195",
   "metadata": {},
   "source": [
    "### Question 3: List all the speakers in the Broadcom Q4 2024 earnings call.\n",
    "\n",
    "Correct answer: <It's like a list of 16 people>\n",
    "\n",
    "Write the search request yourself! (Note: The stock ticker for Broadcom is the extremely intuitive AVGO. Filtering on company name also works)"
   ]
  },
  {
   "cell_type": "code",
   "execution_count": null,
   "id": "53ad7818-1d95-4f1e-b415-b98d4aaed05f",
   "metadata": {},
   "outputs": [],
   "source": [
    "question3 = \"List all the speakers in the Broadcom Q4 2024 earnings call.\"\n",
    "\n",
    "search_request3 = ...\n",
    "\n",
    "answer3 = rag(question3, search_request3)\n",
    "print(answer3)"
   ]
  },
  {
   "cell_type": "markdown",
   "id": "ae2dccc3-70e9-4e5e-b630-8ad3d1ae37bd",
   "metadata": {},
   "source": [
    "### Question 4: How many customers did MongoDB have at the end of the Q1 2024 quarter?\n",
    "\n",
    "Correct answer: >49.2k\n",
    "\n",
    "Write the search request yourself! (I didn't need any filters for this one - just lexical search did the trick)"
   ]
  },
  {
   "cell_type": "code",
   "execution_count": null,
   "id": "d8c431cf-8fc2-4e60-86a8-8a583718d27a",
   "metadata": {},
   "outputs": [],
   "source": [
    "question4 = \"How many customers did MongoDB have at the end of the Q1 2024 quarter?\"\n",
    "\n",
    "search_request4 = ...\n",
    "\n",
    "answer4 = rag(question4, search_request4)\n",
    "print(answer4)"
   ]
  },
  {
   "cell_type": "markdown",
   "id": "0eb0a190-dec6-4ffd-9e41-3bfb1ca95020",
   "metadata": {},
   "source": [
    "### Question 5: What was the first PLTR earnings call where Anduril is mentioned?\n",
    "\n",
    "Correct answer: Q3 2024 (November 4)\n",
    "\n",
    "This question can be answered by RAG, but this is mostly due to the fact that our dataset is rather small. You could imagine that\n",
    "if our data contained hundreds of 2020s Palantir reports, it would be hard to be sure that we were retrieving the first document\n",
    "referencing the acquisition, and therefore difficult to tell if the RAG answer is correct. What we'd actually like to do is get\n",
    "all the records mentioning the acquisition, sort them by date, and then return the first one.\n",
    "\n",
    "For completeness, here's the rag implementation:"
   ]
  },
  {
   "cell_type": "code",
   "execution_count": null,
   "id": "14c3b46b-a3fc-4acd-b381-0a990196ebae",
   "metadata": {},
   "outputs": [],
   "source": [
    "question5 = \"What was the first PLTR earnings call where Anduril is mentioned?\"\n",
    "\n",
    "search_request5 = SearchRequest(\n",
    "    query=question5,\n",
    "    query_type=\"lexical\",\n",
    "    return_type=\"element\",\n",
    "    properties_filter=\"(properties.entity.company_ticker=\\\"PLTR\\\")\"\n",
    ")\n",
    "\n",
    "answer5 = rag(question5, search_request5)\n",
    "print(answer5)"
   ]
  },
  {
   "cell_type": "markdown",
   "id": "eab08e56-ba2e-4115-9e64-323ac2b02915",
   "metadata": {},
   "source": [
    "## Question 6: List all the companies that mentioned inflation and give me a count of the number of times each of the companies mentioned inflation.\n",
    "\n",
    "Correct answer:\n",
    "\n",
    "- Amazon: 3 \n",
    "- AstraZeneca: 3 \n",
    "- ...\n",
    "- Camden Property Trust: 1\n",
    "\n",
    "I was completely unable to get this question to work, as it requires working over all chunks that mention inflation and counting them\n",
    "per company. If you can get RAG to answer this (especially in a way that scales), kudos. Here's what it would probably look like:"
   ]
  },
  {
   "cell_type": "code",
   "execution_count": null,
   "id": "72f5e752-aac7-47d2-ade1-8f3d1fef5bd9",
   "metadata": {},
   "outputs": [],
   "source": [
    "question6 = \"List all the companies that mentioned inflation and give me a count of the number of times each of the companies mentioned inflation.\"\n",
    "\n",
    "search_request6 = SearchRequest(\n",
    "    query=\"inflation\",\n",
    "    query_type=\"vector\",\n",
    "    return_type=\"element\",\n",
    ")\n",
    "\n",
    "answer6 = rag(question6, search_request6)\n",
    "print(answer6)"
   ]
  }
 ],
 "metadata": {
  "kernelspec": {
   "display_name": "Python 3 (ipykernel)",
   "language": "python",
   "name": "python3"
  },
  "language_info": {
   "codemirror_mode": {
    "name": "ipython",
    "version": 3
   },
   "file_extension": ".py",
   "mimetype": "text/x-python",
   "name": "python",
   "nbconvert_exporter": "python",
   "pygments_lexer": "ipython3",
   "version": "3.11.11"
  }
 },
 "nbformat": 4,
 "nbformat_minor": 5
}
