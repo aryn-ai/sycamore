{
 "cells": [
  {
   "cell_type": "code",
   "execution_count": null,
   "metadata": {},
   "outputs": [],
   "source": [
    "import sycamore\n",
    "\n",
    "# Initializng sycamore which also initializes Ray underneath\n",
    "context = sycamore.init()\n",
    "\n",
    "from sycamore.transforms.extract_schema import OpenAISchemaExtractor, OpenAIPropertyExtractor\n",
    "from sycamore.llms import OpenAIModels, OpenAI\n",
    "import os\n",
    "\n",
    "openai = OpenAI(OpenAIModels.GPT_3_5_TURBO.value, api_key=os.environ.get(\"OPENAI_API_KEY\"))\n",
    "\n",
    "from sycamore.transforms.partition import UnstructuredPdfPartitioner\n",
    "\n",
    "bucket_path = \"s3://aryn-public/NTSB/\"\n",
    "sec_docs = context.read.binary(bucket_path, parallelism=1, binary_format=\"pdf\")\n",
    "sec_docs = sec_docs.limit(5).partition(partitioner=UnstructuredPdfPartitioner())\n",
    "\n",
    "sec_docs = sec_docs.extract_batch_schema(\n",
    "    schema_extractor=OpenAISchemaExtractor(\"AircraftIncident\", llm=openai, num_of_elements=35)\n",
    ").extract_properties(property_extractor=OpenAIPropertyExtractor(llm=openai, num_of_elements=35))"
   ]
  },
  {
   "cell_type": "code",
   "execution_count": null,
   "metadata": {},
   "outputs": [],
   "source": [
    "x = map(lambda doc: doc.properties[\"entity\"], sec_docs.take(5))\n",
    "list(x)"
   ]
  }
 ],
 "metadata": {
  "kernelspec": {
   "display_name": "sycamore-zaNZhXRj-py3.11",
   "language": "python",
   "name": "python3"
  },
  "language_info": {
   "codemirror_mode": {
    "name": "ipython",
    "version": 3
   },
   "file_extension": ".py",
   "mimetype": "text/x-python",
   "name": "python",
   "nbconvert_exporter": "python",
   "pygments_lexer": "ipython3",
   "version": "3.9.6"
  }
 },
 "nbformat": 4,
 "nbformat_minor": 2
}
