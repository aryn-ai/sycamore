{
 "cells": [
  {
   "cell_type": "code",
   "execution_count": null,
   "metadata": {},
   "outputs": [],
   "source": [
    "import sycamore\n",
    "\n",
    "# s3 file path to the SortBenchmark dataset\n",
    "paths = \"s3://aryn-datasets-us-east-1/sort_benchmark/index.html\"\n",
    "\n",
    "\n",
    "# Initializng sycamore which also initializes Ray underneath\n",
    "context = sycamore.init()\n",
    "\n",
    "# Creating a DocSet\n",
    "docset = context.read.binary(paths, parallelism=1, binary_format=\"html\")"
   ]
  },
  {
   "cell_type": "code",
   "execution_count": null,
   "metadata": {},
   "outputs": [],
   "source": [
    "from sycamore.transforms.partition import HtmlPartitioner\n",
    "\n",
    "# We are using UnstructuredPdfPartitioner to partion the documents.\n",
    "# Sycamore supports pluggable partitioners for different formats.\n",
    "docset = docset.partition(partitioner=HtmlPartitioner())"
   ]
  },
  {
   "cell_type": "code",
   "execution_count": null,
   "metadata": {},
   "outputs": [],
   "source": [
    "from sycamore.transforms.schema import OpenAISchema, OpenAIPropertyExtractor\n",
    "from sycamore.llms import OpenAIModels, OpenAI\n",
    "import os\n",
    "\n",
    "\n",
    "# We are using OpenAIEntityExtractor which utilizes OpenAI and gpt-3.5-turbo model.\n",
    "# You can write your own EntityExtractor as well.\n",
    "\n",
    "# Replace the \"api-key\" with your API Key.\n",
    "openai = OpenAI(OpenAIModels.GPT_3_5_TURBO.value, api_key=os.environ.get(\"OPENAI_API_KEY\"))\n",
    "\n",
    "docset = docset.extract_schema(\n",
    "            schema_extractor=OpenAISchema(\"BenchmarkRun\", llm=openai)\n",
    "        ).explode(\n",
    "\n",
    "        ).extract_properties(\n",
    "            property_extractor=OpenAIPropertyExtractor(llm=openai)\n",
    "        )"
   ]
  },
  {
   "cell_type": "code",
   "execution_count": null,
   "metadata": {},
   "outputs": [],
   "source": [
    "docset.limit(10).show()"
   ]
  }
 ],
 "metadata": {
  "kernelspec": {
   "display_name": "sycamore-zaNZhXRj-py3.11",
   "language": "python",
   "name": "python3"
  },
  "language_info": {
   "codemirror_mode": {
    "name": "ipython",
    "version": 3
   },
   "file_extension": ".py",
   "mimetype": "text/x-python",
   "name": "python",
   "nbconvert_exporter": "python",
   "pygments_lexer": "ipython3",
   "version": "3.9.6"
  }
 },
 "nbformat": 4,
 "nbformat_minor": 2
}
