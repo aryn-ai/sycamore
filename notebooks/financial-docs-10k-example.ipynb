{
 "cells": [
  {
   "cell_type": "markdown",
   "id": "0",
   "metadata": {},
   "source": [
    "##### In this example, we will use request library to make API call to Aryn Partitioning Service. We'll send a financial document (a 10k) to the service and then extract a table from the JSON object returned. We'll turn that table into a pandas dataframe and then perform some analysis on it.\n",
    "\n",
    "##### To access the Aryn Partitioning Service for fast, GPU-powered performance go to [aryn.ai/sign-up ](aryn.ai/sign-up) and sign up to get a free API key for the service. "
   ]
  },
  {
   "cell_type": "code",
   "execution_count": null,
   "id": "1",
   "metadata": {},
   "outputs": [],
   "source": [
    "# Run pip install aryn-sdk first\n",
    "import aryn_sdk\n",
    "import boto3\n",
    "import pandas as pd\n",
    "import os\n",
    "from io import BytesIO\n",
    "from aryn_sdk.partition import partition_file, tables_to_pandas"
   ]
  },
  {
   "cell_type": "code",
   "execution_count": null,
   "id": "2",
   "metadata": {},
   "outputs": [],
   "source": [
    "# visit https://www.aryn.ai/cloud to get a key\n",
    "aryn_api_key = \"YOUR_ARYN_API_KEY\""
   ]
  },
  {
   "cell_type": "code",
   "execution_count": null,
   "id": "3",
   "metadata": {},
   "outputs": [],
   "source": [
    "file_name = '3m_10k.pdf'\n",
    "s3 = boto3.client('s3')\n",
    "s3.download_file(\"aryn-public\", \"partitioner-blog-data/3m_10k.pdf\", file_name)\n",
    "f = open(file_name, 'rb')"
   ]
  },
  {
   "cell_type": "code",
   "execution_count": null,
   "id": "4",
   "metadata": {},
   "outputs": [],
   "source": [
    "## Make a call to the partitioning service and set extract_table_structure and use_ocr to True.\n",
    "## Also set selected_pages to 23 to just pull out that page. \n",
    "partitioned_file = partition_file(f, aryn_api_key, extract_table_structure=True, use_ocr=True, selected_pages=[23])"
   ]
  },
  {
   "cell_type": "code",
   "execution_count": null,
   "id": "5",
   "metadata": {},
   "outputs": [],
   "source": [
    "partitioned_file"
   ]
  },
  {
   "cell_type": "code",
   "execution_count": null,
   "id": "6",
   "metadata": {},
   "outputs": [],
   "source": [
    "pandas = tables_to_pandas(partitioned_file)"
   ]
  },
  {
   "cell_type": "code",
   "execution_count": null,
   "id": "7",
   "metadata": {},
   "outputs": [],
   "source": [
    "#pull out the tables from the list of elements\n",
    "for elt, dataframe in pandas:\n",
    "    if elt['type'] == 'table':\n",
    "        tables.append(dataframe)"
   ]
  },
  {
   "cell_type": "code",
   "execution_count": null,
   "id": "8",
   "metadata": {},
   "outputs": [],
   "source": [
    "# pull out the first table\n",
    "industry_geographic_breakdown = tables[0]"
   ]
  },
  {
   "cell_type": "code",
   "execution_count": null,
   "id": "9",
   "metadata": {},
   "outputs": [],
   "source": [
    "# display the dataframe\n",
    "industry_geographic_breakdown"
   ]
  },
  {
   "cell_type": "code",
   "execution_count": null,
   "id": "10",
   "metadata": {},
   "outputs": [],
   "source": [
    "# pull out the sales data for 'Electronics and Energy' segment\n",
    "industry_geographic_breakdown[['', 'Three months ended December 31, 2018 | United States', 'Three months ended December 31, 2018 | Europe; Middle East Africa']].iloc[[19]]"
   ]
  }
 ],
 "metadata": {
  "kernelspec": {
   "display_name": "Python 3 (ipykernel)",
   "language": "python",
   "name": "python3"
  },
  "language_info": {
   "codemirror_mode": {
    "name": "ipython",
    "version": 3
   },
   "file_extension": ".py",
   "mimetype": "text/x-python",
   "name": "python",
   "nbconvert_exporter": "python",
   "pygments_lexer": "ipython3",
   "version": "3.11.9"
  }
 },
 "nbformat": 4,
 "nbformat_minor": 5
}
