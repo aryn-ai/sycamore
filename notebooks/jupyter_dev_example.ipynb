{
 "cells": [
  {
   "cell_type": "code",
   "execution_count": null,
   "id": "0",
   "metadata": {},
   "outputs": [],
   "source": [
    "%load_ext autoreload\n",
    "%autoreload 2"
   ]
  },
  {
   "cell_type": "markdown",
   "id": "f3f9d0ea-c56f-49c1-86cb-0c04e380b33a",
   "metadata": {},
   "source": [
    "##### In this example, we will write the output of the Sycamore job from pdf and html files to a target vector and keyword indexes in OpenSearch.\n",
    "\n",
    "##### The Aryn Partitioner in this job is configured to use the Aryn Partitioning Service to provide fast, GPU-powered performance. Go to [aryn.ai/sign-up ](aryn.ai/sign-up) to get a free API key for the service. This is the recommended configuration.\n",
    "\n",
    "##### You can also run the Aryn Partitioner locally by setting `use_partitioning_service` to `False`. Though you can use CPU to run the Aryn Partitioner, it is recommended to use an NVIDIA GPU for good performance."
   ]
  },
  {
   "cell_type": "code",
   "execution_count": null,
   "id": "1",
   "metadata": {},
   "outputs": [],
   "source": [
    "import json\n",
    "import os\n",
    "import subprocess\n",
    "import sys\n",
    "\n",
    "from pathlib import Path\n",
    "from IPython.display import display, display_pdf, Image\n",
    "from IPython.display import IFrame\n",
    "from PIL import Image as PImage\n",
    "\n",
    "import sycamore\n",
    "from sycamore.data import Document\n",
    "from sycamore.transforms.embed import SentenceTransformerEmbedder\n",
    "from sycamore.transforms.extract_entity import OpenAIEntityExtractor\n",
    "from sycamore.llms import OpenAIModels, OpenAI, LLM\n",
    "from sycamore.transforms.partition import ArynPartitioner\n",
    "from sycamore.llms.prompts.default_prompts import TEXT_SUMMARIZER_GUIDANCE_PROMPT_CHAT\n",
    "from sycamore.transforms.summarize import Summarizer\n",
    "from sycamore.transforms.extract_table import TextractTableExtractor\n",
    "from sycamore.functions.document import split_and_convert_to_image, DrawBoxes\n",
    "from sycamore.tests.config import TEST_DIR\n",
    "from sycamore.transforms.merge_elements import GreedyTextElementMerger\n",
    "from sycamore.functions.tokenizer import HuggingFaceTokenizer\n",
    "from sycamore.connectors.file.file_scan import JsonManifestMetadataProvider"
   ]
  },
  {
   "cell_type": "code",
   "execution_count": null,
   "id": "ab76b55d-f5bf-426e-a905-c4032c6b2c89",
   "metadata": {},
   "outputs": [],
   "source": [
    "from sycamore.utils.aryn_config import ArynConfig, _DEFAULT_PATH\n",
    "assert ArynConfig.get_aryn_api_key() != \"\", f\"Unable to find aryn API key.  Looked in {_DEFAULT_PATH}\""
   ]
  },
  {
   "cell_type": "markdown",
   "id": "48aebfa9-1ef8-455b-8cbf-b35840ab745e",
   "metadata": {},
   "source": [
    "if the above assertion fails, you can either set the environment variable ARYN_API_KEY and restart jupyter\n",
    "or make a yaml file at the specified path in the assertion error that looks like:\n",
    "\n",
    "```\n",
    "aryn_token: \"YOUR-ARYN-API-KEY\"\n",
    "```\n",
    "\n",
    "It is unsafe, but if neither of those options work, you can put it in this notebook with\n",
    "```\n",
    "import os\n",
    "os.environ[\"ARYN_API_KEY\"] = \"UNSAFE-ARYN-API-KEY-LOCATION\" \n",
    "```\n",
    "\n",
    "but beware that it is easy to accidentally commit the notebook file and have it include your key."
   ]
  },
  {
   "cell_type": "code",
   "execution_count": null,
   "id": "2",
   "metadata": {},
   "outputs": [],
   "source": [
    "if os.path.exists(\"/.dockerenv\"):\n",
    "    # Running in Docker.\n",
    "    work_dir = \"/app/work/docker_volume\"\n",
    "else:\n",
    "    # Running outside of docker. This will land under notebooks/data/\n",
    "    work_dir = \"./data\"\n",
    "    "
   ]
  },
  {
   "cell_type": "code",
   "execution_count": null,
   "id": "3",
   "metadata": {},
   "outputs": [],
   "source": [
    "os.makedirs(work_dir, exist_ok = True)\n",
    "metadata = {}\n",
    "for f in [\"1706.03762\", \"2306.07303\"]:\n",
    "    path = os.path.join(work_dir, f + \".pdf\")\n",
    "    url = os.path.join(\"http://arxiv.org/pdf\", f)\n",
    "    if not Path(path).is_file():\n",
    "        print(\"Downloading {} to {}\".format(url, path))\n",
    "        subprocess.run([\"curl\", \"-o\", path, url])\n",
    "    metadata[path] = { \"_location\": url }\n",
    "\n",
    "manifest_path = os.path.join(work_dir, \"manifest.json\")\n",
    "with open(manifest_path, \"w\") as f:\n",
    "    json.dump(metadata, f)"
   ]
  },
  {
   "cell_type": "code",
   "execution_count": null,
   "id": "4",
   "metadata": {},
   "outputs": [],
   "source": [
    "with open(f\"{work_dir}/1706.03762.pdf\", \"rb\") as fp:\n",
    "    display_pdf(fp.read(), raw=True)"
   ]
  },
  {
   "cell_type": "code",
   "execution_count": null,
   "id": "5",
   "metadata": {},
   "outputs": [],
   "source": [
    "with open(f\"{work_dir}/2306.07303.pdf\", \"rb\") as fp:\n",
    "    display_pdf(fp.read(), raw=True)"
   ]
  },
  {
   "cell_type": "code",
   "execution_count": null,
   "id": "6",
   "metadata": {},
   "outputs": [],
   "source": [
    "openai_llm = OpenAI(OpenAIModels.GPT_3_5_TURBO.value)\n",
    "\n",
    "context = sycamore.init()\n",
    "pdf_docset = context.read.binary(work_dir, binary_format=\"pdf\", metadata_provider=JsonManifestMetadataProvider(manifest_path))\n",
    "\n",
    "pdf_docset.show(show_binary = False)"
   ]
  },
  {
   "cell_type": "code",
   "execution_count": null,
   "id": "7",
   "metadata": {},
   "outputs": [],
   "source": [
    "# Note: these fonts aren't correct, but are close enough for the visualization\n",
    "if os.path.isfile(\"/usr/share/fonts/truetype/liberation/LiberationSans-Regular.ttf\"):\n",
    "    font_path = \"LiberationSans-Regular\"\n",
    "else:\n",
    "    print(\"Using default Arial font, which should work on MacOS and Windows\")\n",
    "    font_path = \"EBGaramond-Bold.ttf\"\n",
    "\n",
    "def filter_func(doc: Document) -> bool:\n",
    "    return doc.properties[\"page_number\"] == 1\n",
    "\n",
    "partitioned_docset = pdf_docset.partition(partitioner=ArynPartitioner())\n",
    "visualized_docset = (partitioned_docset\n",
    "              .flat_map(split_and_convert_to_image)\n",
    "              .map_batch(DrawBoxes, f_constructor_args=[font_path])\n",
    "              .filter(filter_func))\n",
    "\n",
    "for doc in visualized_docset.take(2):\n",
    "    display(Image(doc.binary_representation, height=500, width=500))"
   ]
  },
  {
   "cell_type": "code",
   "execution_count": null,
   "id": "8",
   "metadata": {},
   "outputs": [],
   "source": [
    " title_context_template = \"\"\"\n",
    "    ELEMENT 1: Jupiter's Moons\n",
    "    ELEMENT 2: Ganymede 2020\n",
    "    ELEMENT 3: by Audi Lauper and Serena K. Goldberg. 2011\n",
    "    ELEMENT 4: From Wikipedia, the free encyclopedia\n",
    "    ELEMENT 5: Ganymede, or Jupiter III, is the largest and most massive natural satellite of Jupiter as well as in the Solar System, being a planetary-mass moon. It is the largest Solar System object without an atmosphere, despite being the only moon of the Solar System with a magnetic field. Like Titan, it is larger than the planet Mercury, but has somewhat less surface gravity than Mercury, Io or the Moon.\n",
    "    =========\n",
    "    \"Ganymede 2020\"\n",
    "\n",
    "    ELEMENT 1: FLAVR: Flow-Agnostic Video Representations for Fast Frame Interpolation\n",
    "    ELEMENT 2: Tarun Kalluri * UCSD\n",
    "    ELEMENT 3: Deepak Pathak CMU\n",
    "    ELEMENT 4: Manmohan Chandraker UCSD\n",
    "    ELEMENT 5: Du Tran Facebook AI\n",
    "    ELEMENT 6: https://tarun005.github.io/FLAVR/\n",
    "    ELEMENT 7: 2 2 0 2\n",
    "    ELEMENT 8: b e F 4 2\n",
    "    ELEMENT 9: ]\n",
    "    ELEMENT 10: V C . s c [\n",
    "    ========\n",
    "    \"FLAVR: Flow-Agnostic Video Representations for Fast Frame Interpolation\"\n",
    "    \n",
    "    \"\"\"\n",
    "author_context_template = \"\"\"\n",
    "    ELEMENT 1: Jupiter's Moons\n",
    "    ELEMENT 2: Ganymede 2020\n",
    "    ELEMENT 3: by Audi Lauper and Serena K. Goldberg. 2011\n",
    "    ELEMENT 4: From Wikipedia, the free encyclopedia\n",
    "    ELEMENT 5: Ganymede, or Jupiter III, is the largest and most massive natural satellite of Jupiter as well as in the Solar System, being a planetary-mass moon. It is the largest Solar System object without an atmosphere, despite being the only moon of the Solar System with a magnetic field. Like Titan, it is larger than the planet Mercury, but has somewhat less surface gravity than Mercury, Io or the Moon.\n",
    "    =========\n",
    "    Audi Laupe, Serena K. Goldberg\n",
    "\n",
    "    ELEMENT 1: FLAVR: Flow-Agnostic Video Representations for Fast Frame Interpolation\n",
    "    ELEMENT 2: Tarun Kalluri * UCSD\n",
    "    ELEMENT 3: Deepak Pathak CMU\n",
    "    ELEMENT 4: Manmohan Chandraker UCSD\n",
    "    ELEMENT 5: Du Tran Facebook AI\n",
    "    ELEMENT 6: https://tarun005.github.io/FLAVR/\n",
    "    ELEMENT 7: 2 2 0 2\n",
    "    ELEMENT 8: b e F 4 2\n",
    "    ELEMENT 9: ]\n",
    "    ELEMENT 10: V C . s c [\n",
    "    ========\n",
    "    Tarun Kalluri, Deepak Pathak, Manmohan Chandraker, Du Tran\n",
    "\n",
    "  \"\"\""
   ]
  },
  {
   "cell_type": "code",
   "execution_count": null,
   "id": "9",
   "metadata": {},
   "outputs": [],
   "source": [
    "entity_docset = (partitioned_docset\n",
    "                 .extract_entity(entity_extractor=OpenAIEntityExtractor(\"title\", llm=openai_llm, prompt_template=title_context_template))\n",
    "                 .extract_entity(entity_extractor=OpenAIEntityExtractor(\"authors\", llm=openai_llm, prompt_template=author_context_template)))\n",
    "\n",
    "entity_docset = entity_docset.spread_properties([\"title\", \"authors\"])\n",
    "\n",
    "entity_docset.show(show_binary = False, show_elements=False)"
   ]
  },
  {
   "cell_type": "code",
   "execution_count": null,
   "id": "10",
   "metadata": {},
   "outputs": [],
   "source": [
    "merged_docset = entity_docset.merge(GreedyTextElementMerger(tokenizer=HuggingFaceTokenizer(\"sentence-transformers/all-MiniLM-L6-v2\"), max_tokens=512))\n",
    "merged_docset.show(show_binary = False, show_elements = False)"
   ]
  },
  {
   "cell_type": "code",
   "execution_count": null,
   "id": "11",
   "metadata": {},
   "outputs": [],
   "source": [
    "exploded_docset = merged_docset.explode()\n",
    "exploded_docset.show(show_binary = False, truncate_content = True, limit = 5)"
   ]
  },
  {
   "cell_type": "code",
   "execution_count": null,
   "id": "12",
   "metadata": {},
   "outputs": [],
   "source": [
    "sketched_docset = exploded_docset.sketch()\n",
    "sketched_docset.show(show_binary=False, truncate_content=True, limit=5)"
   ]
  },
  {
   "cell_type": "code",
   "execution_count": null,
   "id": "13",
   "metadata": {},
   "outputs": [],
   "source": [
    "st_embed_docset = (sketched_docset\n",
    "              .embed(embedder=SentenceTransformerEmbedder(batch_size=100, model_name=\"sentence-transformers/all-MiniLM-L6-v2\")))\n",
    "st_embed_docset.show(show_binary = False, truncate_content = True, limit = 5)"
   ]
  },
  {
   "cell_type": "code",
   "execution_count": null,
   "id": "14",
   "metadata": {},
   "outputs": [],
   "source": [
    "index = \"local_development_example_index_withentity\" # You can change this to something else if you'd like\n",
    "\n",
    "if os.path.exists(\"/.dockerenv\"):\n",
    "    opensearch_host = \"opensearch\"\n",
    "    print(\"Assuming we are in a sycamore jupyter container, using opensearch for opensearch host\")\n",
    "else:\n",
    "    opensearch_host = \"localhost\"\n",
    "    print(\"Assuming we are running outside of a container, using localhost for opensearch host\")\n",
    "    \n",
    "def get_os_client_args():\n",
    "    args = {\n",
    "        \"hosts\": [{\"host\": opensearch_host, \"port\": 9200}],\n",
    "        \"http_compress\": True,\n",
    "        \"http_auth\": (\"admin\", \"admin\"),\n",
    "        \"use_ssl\": True,\n",
    "        \"verify_certs\": False,\n",
    "        \"ssl_assert_hostname\": False,\n",
    "        \"ssl_show_warn\": False,\n",
    "        \"timeout\": 120,\n",
    "    }\n",
    "    return args\n",
    "\n",
    "\n",
    "index_settings =  {\n",
    "        \"body\": {\n",
    "            \"settings\": {\"index.knn\": True, \"number_of_shards\": 5, \"number_of_replicas\": 1},\n",
    "            \"mappings\": {\n",
    "                \"properties\": {\n",
    "                    \"embedding\": {\n",
    "                        \"dimension\": 384,\n",
    "                        \"method\": {\"engine\": \"faiss\", \"space_type\": \"l2\", \"name\": \"hnsw\", \"parameters\": {}},\n",
    "                        \"type\": \"knn_vector\",\n",
    "                    }\n",
    "                }\n",
    "            },\n",
    "        }\n",
    "    }"
   ]
  },
  {
   "cell_type": "code",
   "execution_count": null,
   "id": "15",
   "metadata": {},
   "outputs": [],
   "source": [
    "st_embed_docset.write.opensearch(os_client_args=get_os_client_args(), index_name=index, index_settings=index_settings)"
   ]
  },
  {
   "cell_type": "code",
   "execution_count": null,
   "id": "16",
   "metadata": {},
   "outputs": [],
   "source": [
    "if os.path.isdir(\"/etc/opt/aryn\"):\n",
    "    print(f\"Visit the UI at the URL provided at stack creation and use index {index} to query these documents\")\n",
    "else:\n",
    "    protocol = \"https\" if os.environ.get(\"SSL\") != \"0\" else \"http\"\n",
    "    print(f\"Visit {protocol}://localhost:3000 and use the {index} index to query these documents in the UI\")"
   ]
  }
 ],
 "metadata": {
  "kernelspec": {
   "display_name": "Python 3 (ipykernel)",
   "language": "python",
   "name": "python3"
  },
  "language_info": {
   "codemirror_mode": {
    "name": "ipython",
    "version": 3
   },
   "file_extension": ".py",
   "mimetype": "text/x-python",
   "name": "python",
   "nbconvert_exporter": "python",
   "pygments_lexer": "ipython3",
   "version": "3.10.9"
  }
 },
 "nbformat": 4,
 "nbformat_minor": 5
}
