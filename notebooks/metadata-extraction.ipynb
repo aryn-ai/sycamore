{
 "cells": [
  {
   "cell_type": "code",
   "execution_count": null,
   "id": "921949c7-3996-4ab7-b15c-66b84168e003",
   "metadata": {},
   "outputs": [],
   "source": [
    "from sycamore.data import Document\n",
    "from sycamore.functions import HuggingFaceTokenizer\n",
    "from sycamore.llms import OpenAI, OpenAIModels\n",
    "from sycamore.transforms.extract_schema import OpenAISchemaExtractor, OpenAIPropertyExtractor\n",
    "from sycamore.transforms.extract_entity import OpenAIEntityExtractor\n",
    "from sycamore.transforms.merge_elements import GreedyTextElementMerger\n",
    "from sycamore.transforms.partition import UnstructuredPdfPartitioner\n",
    "import sycamore"
   ]
  },
  {
   "cell_type": "code",
   "execution_count": null,
   "id": "d35d4881-e5ab-4847-9f8f-8c4966cc2c9d",
   "metadata": {},
   "outputs": [],
   "source": [
    "from dateutil import parser\n",
    "\n",
    "def convert_timestamp(doc: Document) -> Document:\n",
    "    if \"dateAndTime\" not in doc.properties['entity']:\n",
    "        return doc\n",
    "    raw_date: str = doc.properties['entity']['dateAndTime']\n",
    "    raw_date = raw_date.replace(\"Local\", \"\")\n",
    "    parsed_date = parser.parse(raw_date)\n",
    "    extracted_date = parsed_date.date()\n",
    "    doc.properties['entity']['day'] = extracted_date\n",
    "    \n",
    "    return doc"
   ]
  },
  {
   "cell_type": "markdown",
   "id": "bb5c5f61",
   "metadata": {},
   "source": [
    "### Data loading"
   ]
  },
  {
   "cell_type": "code",
   "execution_count": null,
   "id": "f847bc71-0f47-4bf2-89b6-e2b4add613a7",
   "metadata": {},
   "outputs": [],
   "source": [
    "s3_path = \"s3://aryn-public/ntsb/\"\n",
    "llm = OpenAI(OpenAIModels.GPT_3_5_TURBO.value)\n",
    "tokenizer = HuggingFaceTokenizer(\"thenlper/gte-small\")\n",
    "\n",
    "ctx = sycamore.init()"
   ]
  },
  {
   "cell_type": "code",
   "execution_count": null,
   "id": "dcdeb92b-daed-4750-8d5f-681fc34c90f7",
   "metadata": {},
   "outputs": [],
   "source": [
    "docset = (\n",
    "    ctx.read.binary(s3_path, parallelism=4, binary_format=\"pdf\")\n",
    "    .partition(partitioner=UnstructuredPdfPartitioner(min_partition_length=200))\n",
    "    )"
   ]
  },
  {
   "cell_type": "markdown",
   "id": "b303a4f9",
   "metadata": {},
   "source": [
    "### Data extraction"
   ]
  },
  {
   "cell_type": "code",
   "execution_count": null,
   "id": "6e729273-0b87-4624-a432-c46b966e470c",
   "metadata": {},
   "outputs": [],
   "source": [
    "docset = (\n",
    "    docset\n",
    "    .extract_batch_schema(schema_extractor=OpenAISchemaExtractor(\"FlightAccidentReport\", llm=llm, num_of_elements=35))\n",
    "    .extract_properties(property_extractor=OpenAIPropertyExtractor(llm=llm, num_of_elements=35))\n",
    "    .merge(GreedyTextElementMerger(tokenizer, 300))\n",
    "    )"
   ]
  },
  {
   "cell_type": "code",
   "execution_count": null,
   "id": "d3c5eb23-22bb-48f6-9526-af9a9c2776a7",
   "metadata": {},
   "outputs": [],
   "source": [
    "docset = docset.map(convert_timestamp)"
   ]
  },
  {
   "cell_type": "code",
   "execution_count": null,
   "id": "3bc1cfc9-bb59-4ac0-8e28-bb8e59b472a8",
   "metadata": {},
   "outputs": [],
   "source": [
    "sample_docs = docset.take()"
   ]
  },
  {
   "cell_type": "code",
   "execution_count": null,
   "id": "6a6fe365-3958-4d13-a6d3-8373d49e0342",
   "metadata": {},
   "outputs": [],
   "source": [
    "sample_docs[0].properties['_schema']"
   ]
  },
  {
   "cell_type": "code",
   "execution_count": null,
   "id": "79b308ba-e5bb-4185-bad2-bfaaaf6473b1",
   "metadata": {},
   "outputs": [],
   "source": [
    "sample_docs[0].properties['entity']"
   ]
  },
  {
   "cell_type": "code",
   "execution_count": null,
   "id": "47580ee7-9152-4dd3-9d17-f757396b4483",
   "metadata": {},
   "outputs": [],
   "source": [
    "for d in sample_docs:\n",
    "    print(f\"Path: {d.properties['path']}\")\n",
    "    for k in [\"dateAndTime\", \"day\", \"aircraft\", \"location\"]:\n",
    "            print(f\"{k: <25} {d.properties['entity'].get(k, 'None')}\")\n",
    "    print()"
   ]
  },
  {
   "cell_type": "markdown",
   "id": "f96ed358",
   "metadata": {},
   "source": [
    "## Indexing"
   ]
  },
  {
   "cell_type": "code",
   "execution_count": null,
   "id": "af43dd80-6f26-49c4-a4cf-24469c37c061",
   "metadata": {},
   "outputs": [],
   "source": [
    "from sycamore.transforms.embed import SentenceTransformerEmbedder\n",
    "\n",
    "index = \"ntsb\"\n",
    "os_client_args = {\n",
    "    \"hosts\": [{\"host\": \"localhost\", \"port\": 9200}],\n",
    "    \"http_compress\": True,\n",
    "    \"http_auth\": (\"admin\", \"admin\"),\n",
    "    \"use_ssl\": True,\n",
    "    \"verify_certs\": False,\n",
    "    \"ssl_assert_hostname\": False,\n",
    "    \"ssl_show_warn\": False,\n",
    "    \"timeout\": 120,\n",
    "}\n",
    "\n",
    "index_settings = {\n",
    "    \"body\": {\n",
    "        \"settings\": {\n",
    "            \"index.knn\": True,\n",
    "            \"number_of_shards\": 5,\n",
    "            \"number_of_replicas\": 1\n",
    "        },\n",
    "        \"mappings\": {\n",
    "            \"properties\": {\n",
    "                \"embedding\": {\n",
    "                  \"dimension\": 384,\n",
    "                  \"method\": {\n",
    "                    \"engine\": \"faiss\",\n",
    "                    \"space_type\": \"l2\",\n",
    "                    \"name\": \"hnsw\",\n",
    "                    \"parameters\": {}\n",
    "                  },\n",
    "                  \"type\": \"knn_vector\"\n",
    "                }\n",
    "            }\n",
    "        }\n",
    "    }\n",
    "}"
   ]
  },
  {
   "cell_type": "code",
   "execution_count": null,
   "id": "c68459ff-b699-4b9c-b88d-311bf0a82087",
   "metadata": {},
   "outputs": [],
   "source": [
    "docset = (\n",
    "    docset\n",
    "    .spread_properties([\"entity\"])\n",
    "    .explode()\n",
    "    .embed(embedder=SentenceTransformerEmbedder(batch_size=100, model_name=\"sentence-transformers/all-MiniLM-L6-v2\"))\n",
    ")"
   ]
  },
  {
   "cell_type": "code",
   "execution_count": null,
   "id": "5d2c5aa9",
   "metadata": {},
   "outputs": [],
   "source": [
    "docset.write.opensearch(\n",
    "    os_client_args=os_client_args,\n",
    "    index_name=index,\n",
    "    index_settings=index_settings,\n",
    ")"
   ]
  },
  {
   "cell_type": "code",
   "execution_count": null,
   "id": "dddfb030",
   "metadata": {},
   "outputs": [],
   "source": []
  }
 ],
 "metadata": {
  "kernelspec": {
   "display_name": "Python 3 (ipykernel)",
   "language": "python",
   "name": "python3"
  },
  "language_info": {
   "codemirror_mode": {
    "name": "ipython",
    "version": 3
   },
   "file_extension": ".py",
   "mimetype": "text/x-python",
   "name": "python",
   "nbconvert_exporter": "python",
   "pygments_lexer": "ipython3",
   "version": "3.11.4"
  }
 },
 "nbformat": 4,
 "nbformat_minor": 5
}
