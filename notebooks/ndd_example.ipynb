{
 "cells": [
  {
   "cell_type": "markdown",
   "id": "ed9dd0a2-6b12-436f-b6c3-02e0072115e3",
   "metadata": {},
   "source": [
    "This notebook shows the results of query-time near-duplicate detection (NDD).  It shows the same query with and without the duplicates.  To use this notebook, first see [these instructions](https://sycamore.readthedocs.io/en/stable/welcome_to_sycamore/get_started.html) and start the Sycamore containers using `docker compose up`.  Then, ingest the college credit card marketing agreements data.  The documents come from [data.gov](https://catalog.data.gov/dataset/college-credit-card-marketing-agreements-data), but we have made them accessible via S3.  There are two ingestion commands to choose from, depending on how realistic or quick the demo should be:\n",
    "\n",
    "- All 1911 PDFs (~4 hours): `docker compose run sycamore_crawler_s3 aryn-public cccmad`\n",
    "- 35 PDFs needed for demo (minutes): `docker compose run sycamore_crawler_s3 aryn-public cccmad-tiny`\n",
    "\n",
    "Note that for the full dataset, approximately 17 documents will fail to ingest for various reasons.  The Sycamore importer will keep retrying them, but the problems will persist.  It's not necessary for 100% of the documents to be ingested in order to run this example.  Once the importer queue shrinks to ~100 documents, it's OK to proceed.  Note that due to variations in ingestion, results may not exactly match what's described here."
   ]
  },
  {
   "cell_type": "code",
   "execution_count": 1,
   "id": "bbf93d45-bee3-4202-8d5a-88497196db06",
   "metadata": {},
   "outputs": [],
   "source": [
    "import json\n",
    "import requests\n",
    "import warnings\n",
    "import urllib3\n",
    "warnings.filterwarnings(\"ignore\", category=urllib3.exceptions.InsecureRequestWarning)"
   ]
  },
  {
   "cell_type": "markdown",
   "id": "a9e0eb6c-2585-4c00-97ea-f7f7aa316ed5",
   "metadata": {},
   "source": [
    "The code below exists to retrieve the embedding model ID from OpenSearch.  This ID is different every time OpenSearch is set up.  We need to suplly the ID in our query.  So, we need to fetch it every time in order to be sure."
   ]
  },
  {
   "cell_type": "code",
   "execution_count": 2,
   "id": "06e9a476-134f-4901-a89e-3c91bdb8881c",
   "metadata": {},
   "outputs": [],
   "source": [
    "def get_model_id():\n",
    "    query = {\n",
    "        'query': {\n",
    "            'bool': {\n",
    "                'must': [\n",
    "                    {\n",
    "                        'match': {'name': 'all-MiniLM-L6-v2'},\n",
    "                    },\n",
    "                    {\n",
    "                        'term': {'model_config.model_type': 'bert'},\n",
    "                    },\n",
    "                ],\n",
    "            },\n",
    "        },\n",
    "    }\n",
    "    with requests.get('https://opensearch:9200/_plugins/_ml/models/_search', json=query, verify=False) as resp:\n",
    "        res = json.loads(resp.text)\n",
    "        return res['hits']['hits'][0]['_id']"
   ]
  },
  {
   "cell_type": "markdown",
   "id": "c94d8d48-a8b6-4704-a709-5cd022ed7343",
   "metadata": {},
   "source": [
    "This next function performs the supplied query and prints out both the retrieved chunks and the AI-generated answer.  For clarity, the text chunks are truncated at 80 characters."
   ]
  },
  {
   "cell_type": "code",
   "execution_count": 3,
   "id": "4a68af4e-843e-4c4e-b295-1a4e9ad55881",
   "metadata": {},
   "outputs": [],
   "source": [
    "def do_query(query_dict):\n",
    "    url = 'https://opensearch:9200/demoindex0/_search?search_pipeline=hybrid_rag_pipeline'\n",
    "    with requests.post(url, json=query, verify=False) as resp:\n",
    "        res = json.loads(resp.text)\n",
    "        hits = res['hits']['hits']\n",
    "        for i in range(10):\n",
    "            text = hits[i]['_source']['text_representation']\n",
    "            text = text.replace('\\n', ' ')[:80]\n",
    "            print(f'[{i}] {text}')\n",
    "        answer = res['ext']['retrieval_augmented_generation']['answer']\n",
    "        print(f'[ANSWER]\\n{answer}')"
   ]
  },
  {
   "cell_type": "markdown",
   "id": "61a71039-0a85-4e14-b42a-0969d04d979a",
   "metadata": {},
   "source": [
    "First, we run the query without near-duplicate-detection.  We do this by not asking for `shingles` in `_source`.  In OpenSearch, the `_source` is where we list the fields that we want to retrieve for each hit.  The results we get have many copies of the first chunk.  The generated answer comes from only one chunk (or two if using the tiny dataset)."
   ]
  },
  {
   "cell_type": "code",
   "execution_count": 4,
   "id": "02b45b71-75ba-4a88-b3d0-41563dba91a8",
   "metadata": {},
   "outputs": [
    {
     "name": "stdout",
     "output_type": "stream",
     "text": [
      "[0] Arbitration: Any controversy or claim arising out of or in relation to this Agre\n",
      "[1] Arbitration: Any controversy or claim arising out of or in relation to this Agre\n",
      "[2] Arbitration: Any controversy or claim arising out of or in relation to this Agre\n",
      "[3] Arbitration: Any controversy or claim arising out of or in relation to this Agre\n",
      "[4] Arbitration: Any controversy or claim arising out of or in relation to this Agre\n",
      "[5] Arbitration: Any controversy or claim arising out of or in relation to this Agre\n",
      "[6] Arbitration: Any controversy or claim arising out of or in relation to this Agre\n",
      "[7] (e) Should an arbitrator refuse or be unable to proceed with arbitration proceed\n",
      "[8] The American Arbitration Association (\"AAX') shall conduct the arbitration, (b) \n",
      "[9] The American Arbitration Association (\"AAX') shall conduct the arbitration, (b) \n",
      "[ANSWER]\n",
      "The rules of arbitration state that any controversy or claim arising from an agreement that cannot be resolved through mediation will be settled by arbitration in New York, following the commercial Arbitration Rules of the American Arbitration Association. The arbitrator's decision is binding and can be enforced in any competent court. Parties submit to the jurisdiction of the arbitration and waive any objections. The law of New York, excluding conflict of law principles, will be applied. Disputes arising from third-party actions or proceedings are not required to be arbitrated [1].\n"
     ]
    }
   ],
   "source": [
    "short_query = 'arbitration'\n",
    "long_query = 'summarize the rules of arbitration'\n",
    "query = {\n",
    "    '_source': [\n",
    "        'text_representation',\n",
    "    ],\n",
    "    'query': {\n",
    "        'hybrid': {\n",
    "            'queries': [\n",
    "                {\n",
    "                    'match': {'text_representation': short_query},\n",
    "                },\n",
    "                {\n",
    "                    'neural': {\n",
    "                        'embedding': {\n",
    "                            'query_text': short_query,\n",
    "                            'k': 100,\n",
    "                            'model_id': get_model_id(),\n",
    "                        },\n",
    "                    },\n",
    "                },\n",
    "            ],\n",
    "        },\n",
    "    },\n",
    "    'ext': {\n",
    "        'generative_qa_parameters': {\n",
    "            'llm_question': long_query,\n",
    "            'context_size': 5,\n",
    "            'llm_model': 'gpt-4',\n",
    "        },\n",
    "    },\n",
    "    'size': 100,\n",
    "}\n",
    "do_query(query)"
   ]
  },
  {
   "cell_type": "markdown",
   "id": "96ba7b19-4c11-4a00-bada-fe367bb212fd",
   "metadata": {},
   "source": [
    "For the next query, we re-use the previous query data structure, but we modify it slightly.  We append `shingles` to the list of fields to be retrieved.  This enables NDD processing; without `shingles` it can't detect near-duplicates.  Now, when we run the query there is much more diversity in the retrieved chunks and the generated answer is richer."
   ]
  },
  {
   "cell_type": "code",
   "execution_count": 5,
   "id": "d63234b4-fb51-4f07-8033-4e54f634d7da",
   "metadata": {},
   "outputs": [
    {
     "name": "stdout",
     "output_type": "stream",
     "text": [
      "[0] Arbitration: Any controversy or claim arising out of or in relation to this Agre\n",
      "[1] (e) Should an arbitrator refuse or be unable to proceed with arbitration proceed\n",
      "[2] The American Arbitration Association (\"AAX') shall conduct the arbitration, (b) \n",
      "[3] (c) as efficient and expeditious a manner as practicable and, in this connection\n",
      "[4] Any claim or dispute (\"Dispute\") by FIA or Supplier, against the other, or again\n",
      "[5] The arbitration hearini! shall be held in such neutral location as the parties m\n",
      "[6] (h) The arbitrator of Arbitration Panel is instructed to schedule promptly all d\n",
      "[7] or paftW summary judgment is granted, the non-prevailing patty may not raise as \n",
      "[8] The arbitrator of Arbitration Panel is instructed to schedule promptly all disco\n",
      "[9] The arbaration hearing shall be held in such neutral location as the parties may\n",
      "[ANSWER]\n",
      "The rules of arbitration typically involve a dispute being settled by an arbitrator in accordance with the commercial Arbitration Rules of an organization like the American Arbitration Association [1]. The arbitrator's decision is binding and can be enforced in any court of competent jurisdiction [1]. If an arbitrator is unable or unwilling to proceed, they can be replaced according to the rules of the relevant organization [2]. The arbitration process aims to be efficient and expeditious, with the arbitrator determining the scope of discovery and other procedures [4]. The arbitrator follows existing substantive law and honors any claims of privilege recognized by law [4].\n"
     ]
    }
   ],
   "source": [
    "query['_source'].append('shingles')\n",
    "do_query(query)"
   ]
  }
 ],
 "metadata": {
  "kernelspec": {
   "display_name": "Python 3 (ipykernel)",
   "language": "python",
   "name": "python3"
  },
  "language_info": {
   "codemirror_mode": {
    "name": "ipython",
    "version": 3
   },
   "file_extension": ".py",
   "mimetype": "text/x-python",
   "name": "python",
   "nbconvert_exporter": "python",
   "pygments_lexer": "ipython3",
   "version": "3.11.2"
  }
 },
 "nbformat": 4,
 "nbformat_minor": 5
}
