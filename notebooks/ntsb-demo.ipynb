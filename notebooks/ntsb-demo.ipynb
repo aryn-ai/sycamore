{
 "cells": [
  {
   "cell_type": "markdown",
   "id": "35d91fa2-a4e2-4651-b12d-10e9cbdcf286",
   "metadata": {},
   "source": [
    "# NTSB demo\n",
    "\n",
    "Sycamore is a **Document Processing System** = **ETL** + **Query Planning/Retrieval**.\n",
    "\n",
    "https://aryn-public.s3.amazonaws.com/ntsb/22.pdf\n",
    "\n",
    "**ETL steps**:\n",
    "- extract Text + Structure: titles, section headers, text paragraphs, figures, tables and their cells, captions, page headers and footers, footnotes\n",
    "- summarize images\n",
    "- extract data from tables\n",
    "- standardize locations and dates\n",
    "\n",
    "**Query Planning/Retrieval**:\n",
    "Having these structural elements and information extracted enables the consumer of these document to have much better control over what is being embedded and how, leading to better retrieval in a RAG system.\n",
    "For example, we can focus the retrieval on certain sections or eliminate them altogether.\n",
    "\n",
    "**Question answering**:\n",
    "Sycamore can also extract information from a document. We’ll see how it can extract location and dates from NTSB docs, but also specific elements like aircraft type.  \n",
    "\n",
    "Once the data is transformed, we can ask questions on it."
   ]
  },
  {
   "cell_type": "code",
   "execution_count": null,
   "id": "d6a4aca2-4e57-4dfa-8b17-f8bf59c8bea2",
   "metadata": {},
   "outputs": [],
   "source": [
    "import sycamore \n",
    "from sycamore.transforms.partition import ArynPartitioner\n",
    "from sycamore.transforms.summarize_images import SummarizeImages\n",
    "from sycamore.transforms import (AssignDocProperties, \n",
    "                                ExtractTableProperties, \n",
    "                                StandardizeProperty, \n",
    "                                USStateStandardizer,\n",
    "                                DateTimeStandardizer)\n",
    "\n",
    "from sycamore.llms import OpenAI \n",
    "from sycamore.utils.aryn_config import ArynConfig, _DEFAULT_PATH\n",
    "from sycamore.utils.pdf_utils import show_pages, enumerate_images_and_tables, display_page_and_table_properties\n",
    "from sycamore.materialize import MaterializeSourceMode  \n",
    "import json\n",
    "from pathlib import Path"
   ]
  },
  {
   "cell_type": "code",
   "execution_count": null,
   "id": "e83894dd-b7ec-4dea-be19-98e6c22b832b",
   "metadata": {},
   "outputs": [],
   "source": [
    "assert ArynConfig.get_aryn_api_key() != \"\", f\"Unable to find aryn API key.  Looked in {_DEFAULT_PATH}\""
   ]
  },
  {
   "cell_type": "code",
   "execution_count": null,
   "id": "0b1c192e-4b4f-4b20-8785-5f93fc2524a0",
   "metadata": {},
   "outputs": [],
   "source": [
    "ctx = sycamore.init()"
   ]
  },
  {
   "cell_type": "code",
   "execution_count": null,
   "id": "81327aa6-010d-44ad-a5ce-1be88384af66",
   "metadata": {},
   "outputs": [],
   "source": [
    "s3_path = \"s3://aryn-public/ntsb/22.pdf\"\n",
    "llm = OpenAI(\"gpt-4o-mini\")\n",
    "materialize_dir = Path.cwd() / \"cache\"\n"
   ]
  },
  {
   "cell_type": "code",
   "execution_count": null,
   "id": "bc3d902c-1f22-419c-bb50-a79a07bf65df",
   "metadata": {},
   "outputs": [],
   "source": [
    "# Create a docset from segmented PDFs, extract tables, summarize images\n",
    "docset = (\n",
    "    ctx.read.binary(s3_path, binary_format=\"pdf\")\n",
    "\n",
    "    # Partition and extract tables and images\n",
    "    .partition(ArynPartitioner(\n",
    "                               extract_table_structure=True,\n",
    "                               use_ocr=True, \n",
    "                               extract_images=True)\n",
    "              )\n",
    "    \n",
    "    # Summarize each image element\n",
    "    .transform(SummarizeImages)\n",
    "\n",
    "    # Materialize each document\n",
    "    .materialize(\n",
    "        path=f\"{materialize_dir}/docset_summarized\",\n",
    "        source_mode=MaterializeSourceMode.IF_PRESENT)\n",
    ")"
   ]
  },
  {
   "cell_type": "code",
   "execution_count": null,
   "id": "aea93254-9116-4065-a411-338cfa658af2",
   "metadata": {
    "scrolled": true
   },
   "outputs": [],
   "source": [
    "show_pages(docset, limit=25)"
   ]
  },
  {
   "cell_type": "code",
   "execution_count": null,
   "id": "e5612962-1953-4494-bb22-e9d63ee4fb04",
   "metadata": {},
   "outputs": [],
   "source": [
    "enumerate_images_and_tables(docset.take_all())"
   ]
  },
  {
   "cell_type": "code",
   "execution_count": null,
   "id": "68a4487b-14c6-49a0-88c9-2369d2b59590",
   "metadata": {
    "scrolled": true
   },
   "outputs": [],
   "source": [
    "prompt_LLM = \"\"\"\n",
    "            You are given a text string where columns are separated by comma representing either a single column, \n",
    "            or multi-column table each new line is a new row.\n",
    "            Instructions:\n",
    "            1. Parse the table and return a flattened JSON object representing the key-value pairs of properties \n",
    "            defined in the table.\n",
    "            2. Do not return nested objects, keep the dictionary only 1 level deep. The only valid value types \n",
    "            are numbers, strings, and lists.\n",
    "            3. If you find multiple fields defined in a row, feel free to split them into separate properties.\n",
    "            4. Use camelCase for the key names\n",
    "            5. For fields where the values are in standard measurement units like miles, \n",
    "            nautical miles, knots, celsius\n",
    "            6. return only the json object between ``` \n",
    "            - include the unit in the key name and only set the numeric value as the value.\n",
    "            - e.g. \"Wind Speed: 9 knots\" should become windSpeedInKnots: 9, \n",
    "            \"Temperature: 3°C\" should become temperatureInC: 3\n",
    "            \"\"\"\n",
    "\n",
    "\n",
    "\n",
    "ds_extracted = (\n",
    "    docset\n",
    "    # Extract properties from tables and save it as key value pair in respective table elements\n",
    "    .map( lambda doc: ExtractTableProperties.extract_table_properties( doc, property_name = \"table_props\", llm =llm, prompt_LLM=prompt_LLM)) \n",
    "\n",
    "    # Materialize document\n",
    "    .materialize(\n",
    "        path = f\"{materialize_dir}/docset_extrTblprop\",\n",
    "        source_mode=MaterializeSourceMode.IF_PRESENT)\n",
    ")\n",
    "\n",
    "ds_extracted.show(limit=6)\n"
   ]
  },
  {
   "cell_type": "code",
   "execution_count": null,
   "id": "e15c60f4-a451-465a-adc7-f3a8ba9fa0ff",
   "metadata": {},
   "outputs": [],
   "source": [
    "# we assign properties from 1st table element to document level \n",
    "ds_prop1 = (ds_extracted.\n",
    "            map( lambda doc : AssignDocProperties.assign_doc_properties( doc, element_type=\"table\", property_name = \"table_props\")))\n",
    "ds_prop1.show(limit=6, show_elements = False)"
   ]
  },
  {
   "cell_type": "code",
   "execution_count": null,
   "id": "0e688d84-376b-4a17-b4e7-230455ce1282",
   "metadata": {},
   "outputs": [],
   "source": [
    "\n",
    "# We noramalize the date and location using USStateStandardizer and DateTimeStandardizer transform\n",
    "\n",
    "\n",
    "ds_normd = (\n",
    "    ds_prop1\n",
    "    \n",
    "    # Converts state abbreviations to their full names.\n",
    "    .map( lambda doc: USStateStandardizer.standardize(doc, key_path = [\"properties\",\"entity\",\"location\"]))\n",
    "\n",
    "    # Converts datetime into a common format\n",
    "    .map( lambda doc: DateTimeStandardizer.standardize(doc, key_path = [\"properties\",\"entity\",\"dateTime\"]))\n",
    "\n",
    "    # Materialize document\n",
    "    .materialize(\n",
    "        path=f\"{materialize_dir}/docset_normalized\",\n",
    "        source_mode=MaterializeSourceMode.IF_PRESENT)\n",
    ")\n",
    "ds_normd.show(limit=6, show_elements = False)\n"
   ]
  },
  {
   "cell_type": "code",
   "execution_count": null,
   "id": "fdb7d396-a46f-4a83-89ca-22a622a26c17",
   "metadata": {},
   "outputs": [],
   "source": [
    "# Show tables and their conversion to properties\n",
    "display_page_and_table_properties(ds_normd.take())"
   ]
  },
  {
   "cell_type": "code",
   "execution_count": null,
   "id": "a9679f78-eff0-40ef-b17f-ba027189914d",
   "metadata": {
    "scrolled": true
   },
   "outputs": [],
   "source": [
    "## if removed, remove json import up top\n",
    "from IPython.display import display, HTML\n",
    "for e in ds_normd.take_all()[0].elements:\n",
    "    if \"table\" in e.type and e.table is not None :\n",
    "        print(\"Element Type: \", e.type)\n",
    "        print(\"Element Properties: \", json.dumps(e.properties, indent=2, default=str))\n",
    "        display(HTML(e.table.to_html()))"
   ]
  },
  {
   "cell_type": "code",
   "execution_count": null,
   "id": "3ae51ea5-fb84-48f9-995e-cfa1779855a4",
   "metadata": {},
   "outputs": [],
   "source": [
    "import os\n",
    "if os.path.exists(\"/.dockerenv\"):\n",
    "    opensearch_host = \"opensearch\"\n",
    "    print(\"Assuming we are in a Sycamore Jupyter container, using opensearch for OpenSearch host\")\n",
    "else:\n",
    "    opensearch_host = \"localhost\"\n",
    "    print(\"Assuming we are running outside of a container, using localhost for OpenSearch host\")\n",
    "\n",
    "index = \"ntsb-demo-all\"\n",
    "os_client_args = {\n",
    "    \"hosts\": [{\"host\": \"localhost\", \"port\": 9200}],\n",
    "    \"http_compress\": True,\n",
    "    \"http_auth\": (\"admin\", \"admin\"),\n",
    "    \"use_ssl\": True,\n",
    "    \"verify_certs\": False,\n",
    "    \"ssl_assert_hostname\": False,\n",
    "    \"ssl_show_warn\": False,\n",
    "    \"timeout\": 120,\n",
    "}\n",
    "\n",
    "index_settings = {\n",
    "    \"body\": {\n",
    "        \"settings\": {\n",
    "            \"index.knn\": True,\n",
    "            \"number_of_shards\": 5,\n",
    "            \"number_of_replicas\": 1\n",
    "        },\n",
    "        \"mappings\": {\n",
    "            \"properties\": {\n",
    "                \"embedding\": {\n",
    "                  \"dimension\": 384,\n",
    "                  \"method\": {\n",
    "                    \"engine\": \"faiss\",\n",
    "                    \"space_type\": \"l2\",\n",
    "                    \"name\": \"hnsw\",\n",
    "                    \"parameters\": {}\n",
    "                  },\n",
    "                  \"type\": \"knn_vector\"\n",
    "                }\n",
    "            }\n",
    "        }\n",
    "    }\n",
    "}"
   ]
  },
  {
   "cell_type": "code",
   "execution_count": null,
   "id": "1fe68c03-b48b-4e8c-bd00-a98cab17f4b6",
   "metadata": {},
   "outputs": [],
   "source": [
    "from sycamore.transforms.embed import SentenceTransformerEmbedder\n",
    "\n",
    "embedded_docset = (\n",
    "    ds_normd\n",
    "    .spread_properties([\"entity\", \"path\"])\n",
    "    .explode()\n",
    "    .embed(embedder=SentenceTransformerEmbedder(batch_size=100, model_name=\"sentence-transformers/all-MiniLM-L6-v2\"))\n",
    "    \n",
    ")"
   ]
  },
  {
   "cell_type": "code",
   "execution_count": null,
   "id": "02abe9f4-77c5-464d-9402-3e217a5d6cfa",
   "metadata": {},
   "outputs": [],
   "source": [
    "# embedded_docset.map(validate).write.opensearch(\n",
    "embedded_docset.write.opensearch(\n",
    "    os_client_args=os_client_args,\n",
    "    index_name=index,\n",
    "    index_settings=index_settings,\n",
    ")"
   ]
  },
  {
   "cell_type": "code",
   "execution_count": null,
   "id": "9c4ea2d6-6be0-4f71-b103-d10cd2aad701",
   "metadata": {},
   "outputs": [],
   "source": [
    "from sycamore.transforms.query import OpenSearchQueryExecutor\n",
    "from sycamore.data import OpenSearchQuery\n",
    "from opensearchpy import OpenSearch\n",
    "\n",
    "os_client_args = {\n",
    "    \"hosts\": [{\"host\": \"localhost\", \"port\": 9200}],\n",
    "    \"http_compress\": True,\n",
    "    \"http_auth\": ('admin', 'admin'),\n",
    "    \"use_ssl\": True,\n",
    "    \"verify_certs\": False,\n",
    "    \"ssl_assert_hostname\": False,\n",
    "    \"ssl_show_warn\": False,\n",
    "    \"timeout\": 120\n",
    "    \n",
    "}\n",
    "\n",
    "\n",
    "client = OpenSearch(**os_client_args)\n",
    "\n",
    "osq = OpenSearchQueryExecutor(os_client_args)"
   ]
  },
  {
   "cell_type": "code",
   "execution_count": null,
   "id": "49f0fcde-8351-4b3c-8d9e-8c17b5b5342b",
   "metadata": {},
   "outputs": [],
   "source": [
    "question = \"Were there any incidents involving Cirrus airplanes\""
   ]
  },
  {
   "cell_type": "code",
   "execution_count": null,
   "id": "0beefa5e-b497-4a0f-9952-90055e864ab5",
   "metadata": {},
   "outputs": [],
   "source": [
    "query = OpenSearchQuery()\n",
    "query[\"index\"] = index\n",
    "query[\"query\"] = {\n",
    "    \"_source\": {\"excludes\": [\"embedding\"]},\n",
    "    \"query\": {\"match\": {\"text_representation\": question}},\n",
    "    \"size\": 20\n",
    "}\n",
    "result = osq.query(query)[\"result\"]"
   ]
  },
  {
   "cell_type": "code",
   "execution_count": null,
   "id": "f51ca656-68fc-4ee5-9a3e-81811feda2bf",
   "metadata": {},
   "outputs": [],
   "source": [
    "result"
   ]
  },
  {
   "cell_type": "code",
   "execution_count": null,
   "id": "af60fd78-cfda-475b-b3ba-55256c8771fa",
   "metadata": {},
   "outputs": [],
   "source": [
    "# get the embedding model ID \n",
    "import requests\n",
    "def get_model_id():\n",
    "    query = {\n",
    "        'query': {\n",
    "            'bool': {\n",
    "                'must': [\n",
    "                    {\n",
    "                        'match': {'name': 'all-MiniLM-L6-v2'},\n",
    "                    },\n",
    "                    {\n",
    "                        'term': {'model_config.model_type': 'bert'},\n",
    "                    },\n",
    "                ],\n",
    "            },\n",
    "        },\n",
    "    }\n",
    "    with requests.get(f'https://{opensearch_host}:9200/_plugins/_ml/models/_search', json=query, verify=False) as resp:\n",
    "        res = json.loads(resp.text)\n",
    "        return res['hits']['hits'][0]['_id']"
   ]
  },
  {
   "cell_type": "code",
   "execution_count": null,
   "id": "61a10458-097c-4b6e-8519-9911923b16f2",
   "metadata": {},
   "outputs": [],
   "source": [
    "# RAG config\n",
    "embedding_model_id = get_model_id()\n",
    "search_pipeline = \"hybrid_rag_pipeline\"\n",
    "llm = \"gpt-4o\"\n",
    "\n",
    "rag_query = OpenSearchQuery()\n",
    "rag_query[\"index\"] = index\n",
    "\n",
    "# hybrid searc\n",
    "rag_query[\"query\"] = {\n",
    "    \"_source\": {\"excludes\": [\"embedding\"]},\n",
    "    \"query\": {\n",
    "        \"hybrid\": {\n",
    "            \"queries\": [\n",
    "                {\"match\": {\"text_representation\": question}},\n",
    "                {\n",
    "                    \"neural\": {\n",
    "                        \"embedding\": {\n",
    "                            \"query_text\": question,\n",
    "                            \"model_id\": embedding_model_id,\n",
    "                            \"k\": 100,\n",
    "                        }\n",
    "                    }\n",
    "                },\n",
    "            ]\n",
    "        }\n",
    "    },\n",
    "    \"size\": 20\n",
    "}\n",
    "\n",
    "# RAG params\n",
    "rag_query[\"params\"] = {\"search_pipeline\": search_pipeline}\n",
    "rag_query[\"query\"][\"ext\"] = {\n",
    "    \"generative_qa_parameters\": {\n",
    "        \"llm_question\": question,\n",
    "        \"context_size\": 10,\n",
    "        \"llm_model\": llm,\n",
    "    }\n",
    "}\n",
    "rag_result = osq.query(rag_query)[\"result\"]"
   ]
  },
  {
   "cell_type": "code",
   "execution_count": null,
   "id": "22f9aeb9-7907-4aea-979a-0a34f41d0dbb",
   "metadata": {},
   "outputs": [],
   "source": [
    "rag_result[\"ext\"][\"retrieval_augmented_generation\"][\"answer\"]"
   ]
  },
  {
   "cell_type": "code",
   "execution_count": null,
   "id": "686ef630-015a-45ee-b270-35eb769b13cc",
   "metadata": {},
   "outputs": [],
   "source": [
    "filtered_rag_query = OpenSearchQuery()\n",
    "filtered_rag_query[\"index\"] = index\n",
    "question = \"Were there any airplace incidents in Indiana on January 24, 2023?\"\n",
    "filter = {\n",
    "    \"bool\": {\n",
    "        \"must\": [\n",
    "          {\n",
    "            \"match_phrase\": {\n",
    "              \"properties.entity.location\": \"Indiana\"\n",
    "            }\n",
    "          }\n",
    "          \n",
    "        ]\n",
    "    }\n",
    "}\n",
    "\n",
    "# hybrid search\n",
    "filtered_rag_query[\"query\"] = {\n",
    "    \"_source\": {\"excludes\": [\"embedding\"]},\n",
    "    \"query\": {\n",
    "        \"hybrid\": {\n",
    "            \"queries\": [\n",
    "                {\n",
    "                  \"bool\": {\n",
    "                      \"must\": [\n",
    "                          {\n",
    "                              \"match\": {\n",
    "                                  \"text_representation\": question\n",
    "                              }\n",
    "                          }\n",
    "                      ],\n",
    "                      \"filter\": filter\n",
    "                  }\n",
    "                },\n",
    "                {\n",
    "                    \"neural\": {\n",
    "                        \"embedding\": {\n",
    "                            \"query_text\": question,\n",
    "                            \"model_id\": embedding_model_id,\n",
    "                            \"k\": 100,\n",
    "                            \"filter\": filter\n",
    "                        }\n",
    "                    }\n",
    "                },\n",
    "            ]\n",
    "        }\n",
    "    },\n",
    "    \"size\": 20\n",
    "}\n",
    "\n",
    "# RAG params\n",
    "filtered_rag_query[\"params\"] = {\"search_pipeline\": search_pipeline}\n",
    "\n",
    "filtered_rag_query[\"query\"][\"ext\"] = {\n",
    "    \"generative_qa_parameters\": {\n",
    "        \"llm_question\": question,\n",
    "        \"context_size\": 10,\n",
    "        \"llm_model\": llm,\n",
    "    }\n",
    "}"
   ]
  },
  {
   "cell_type": "code",
   "execution_count": null,
   "id": "f07ac2f7-030c-425f-a46b-cb338cd85628",
   "metadata": {},
   "outputs": [],
   "source": [
    "filtered_rag_result = osq.query(filtered_rag_query)[\"result\"]"
   ]
  },
  {
   "cell_type": "code",
   "execution_count": null,
   "id": "fb8528fa-b9f9-4bdf-8af0-825d11bfeff5",
   "metadata": {},
   "outputs": [],
   "source": [
    "filtered_rag_result[\"ext\"][\"retrieval_augmented_generation\"][\"answer\"]"
   ]
  },
  {
   "cell_type": "code",
   "execution_count": null,
   "id": "45b6c6a4-144e-4823-b34b-139e3fb85b93",
   "metadata": {},
   "outputs": [],
   "source": []
  }
 ],
 "metadata": {
  "kernelspec": {
   "display_name": "Python 3 (ipykernel)",
   "language": "python",
   "name": "python3"
  },
  "language_info": {
   "codemirror_mode": {
    "name": "ipython",
    "version": 3
   },
   "file_extension": ".py",
   "mimetype": "text/x-python",
   "name": "python",
   "nbconvert_exporter": "python",
   "pygments_lexer": "ipython3",
   "version": "3.10.14"
  }
 },
 "nbformat": 4,
 "nbformat_minor": 5
}
