{
 "cells": [
  {
   "cell_type": "code",
   "execution_count": 1,
   "metadata": {},
   "outputs": [],
   "source": [
    "import pyarrow.fs\n",
    "from ray.data import ActorPoolStrategy\n",
    "import sycamore\n",
    "from sycamore.functions.tokenizer import HuggingFaceTokenizer\n",
    "from sycamore.llms import OpenAIModels, OpenAI\n",
    "from sycamore.transforms import COALESCE_WHITESPACE\n",
    "from sycamore.transforms.merge_elements import MarkedMerger\n",
    "from sycamore.transforms.partition import SycamorePartitioner\n",
    "from sycamore.transforms.extract_schema import OpenAISchemaExtractor, OpenAIPropertyExtractor\n",
    "from sycamore.transforms.embed import SentenceTransformerEmbedder"
   ]
  },
  {
   "cell_type": "code",
   "execution_count": 2,
   "metadata": {},
   "outputs": [],
   "source": [
    "from sycamore.data.document import Document\n",
    "from dateutil import parser\n",
    "def convert_timestamp(doc: Document) -> Document:\n",
    "    if \"dateAndTime\" not in doc.properties['entity'] and \"dateTime\" not in doc.properties['entity']:\n",
    "        return doc\n",
    "    raw_date: str = doc.properties['entity'].get('dateAndTime') or doc.properties['entity'].get('dateTime')\n",
    "    raw_date = raw_date.replace(\"Local\", \"\")\n",
    "    parsed_date = parser.parse(raw_date, fuzzy=True)\n",
    "    extracted_date = parsed_date.date()\n",
    "    doc.properties['entity']['day'] = extracted_date.day\n",
    "    doc.properties['entity']['month'] = extracted_date.month\n",
    "    doc.properties['entity']['year'] = extracted_date.year\n",
    "    if parsed_date.utcoffset():\n",
    "        doc.properties['entity']['dateTime'] = parsed_date.isoformat()\n",
    "    else:\n",
    "        doc.properties['entity']['dateTime'] = parsed_date.isoformat() + \"Z\"\n",
    "    \n",
    "    return doc"
   ]
  },
  {
   "cell_type": "code",
   "execution_count": 3,
   "metadata": {},
   "outputs": [],
   "source": [
    "paths = [\"s3://aryn-public/ntsb/\"]\n",
    "fsys = pyarrow.fs.S3FileSystem(region=\"us-east-1\", anonymous=True)\n",
    "\n",
    "llm = OpenAI(OpenAIModels.GPT_3_5_TURBO.value)\n",
    "tokenizer = HuggingFaceTokenizer(\"thenlper/gte-small\")\n",
    "\n",
    "ctx = sycamore.init()\n",
    "\n",
    "ds = (\n",
    "    ctx.read.binary(paths, binary_format=\"pdf\", filesystem=fsys)\n",
    "    # Parition with the sycamore partitioner, pulling out tables and images. ActorPoolStrategy(size=3) works best on my particular hardware\n",
    "    # but your mileage may vary depending on your RAM.\n",
    "    .partition(partitioner=SycamorePartitioner(extract_table_structure=True, extract_images=True, use_cache=False), compute=ActorPoolStrategy(size=3))\n",
    "    # Get rid of spurious whitespace charaters\n",
    "    .regex_replace(COALESCE_WHITESPACE)\n",
    "    # Automatically determine a schema of additional metadata to extract from documents\n",
    "    .extract_batch_schema(schema_extractor=OpenAISchemaExtractor(\"FlightAccidentReport\", llm=llm, num_of_elements=35))\n",
    "    # Extract the metadata specified by that schema\n",
    "    .extract_properties(property_extractor=OpenAIPropertyExtractor(llm=llm, num_of_elements=35))\n",
    "    # Merge elements into larger chunks\n",
    "    .mark_bbox_preset(tokenizer=tokenizer)\n",
    "    .merge(merger=MarkedMerger())\n",
    "    # Convert extracted timestamps to better-structured form using the function above\n",
    "    .map(convert_timestamp)\n",
    "    # Copy document properties to each document's sub-elements\n",
    "    .spread_properties([\"path\", \"entity\"])\n",
    "    # Split elements that are too big to embed\n",
    "    .split_elements(tokenizer=tokenizer, max_tokens=512)\n",
    "    # Convert all Elements to Documents\n",
    "    .explode()\n",
    "    # Generate a series of hashes to represent each document. For use with near-duplicate detection\n",
    "    .sketch()\n",
    "    # Embed each document\n",
    "    .embed(embedder=SentenceTransformerEmbedder(model_name=\"sentence-transformers/all-MiniLM-L6-v2\", batch_size=100))\n",
    ")"
   ]
  },
  {
   "cell_type": "code",
   "execution_count": 4,
   "metadata": {},
   "outputs": [
    {
     "name": "stderr",
     "output_type": "stream",
     "text": [
      "2024-07-05 12:06:31,061\tWARNING util.py:560 -- The argument ``compute`` is deprecated in Ray 2.9. Please specify argument ``concurrency`` instead. For more information, see https://docs.ray.io/en/master/data/transforming-data.html#stateful-transforms.\n",
      "2024-07-05 12:06:31,062\tWARNING util.py:560 -- The argument ``compute`` is deprecated in Ray 2.9. Please specify argument ``concurrency`` instead. For more information, see https://docs.ray.io/en/master/data/transforming-data.html#stateful-transforms.\n",
      "2024-07-05 12:06:31,066\tWARNING util.py:560 -- The argument ``compute`` is deprecated in Ray 2.9. Please specify argument ``concurrency`` instead. For more information, see https://docs.ray.io/en/master/data/transforming-data.html#stateful-transforms.\n",
      "2024-07-05 12:06:31,070\tINFO streaming_executor.py:112 -- Starting execution of Dataset. Full logs are in /tmp/ray/session_2024-07-05_12-06-27_345614_98706/logs/ray-data\n",
      "2024-07-05 12:06:31,070\tINFO streaming_executor.py:113 -- Execution plan of Dataset: InputDataBuffer[Input] -> ActorPoolMapOperator[ReadBinary->Map(BinaryScan._to_document)->MapBatches(BaseMapTransformCallable___wrap)] -> ActorPoolMapOperator[MapBatches(regex_replace)->MapBatches(BaseMapTransformCustom__Extract)] -> ActorPoolMapOperator[MapBatches(extract_properties)->MapBatches(sort_by_page_bbox)->MapBatches(mark_drop_tiny)->MapBatches(mark_drop_header_and_footer)->MapBatches(mark_break_page)->MapBatches(mark_break_by_column)->MapBatches(mark_break_by_tokens)->MapBatches(merge_elements)->MapBatches(convert_timestamp)->MapBatches(spread_properties)->MapBatches(split_doc)->MapBatches(explode)->MapBatches(sketcher)->MapBatches(SentenceTransformerEmbedder)->MapBatches(BaseMapTransformCallable__duckdb_write_documents)]\n"
     ]
    },
    {
     "data": {
      "application/vnd.jupyter.widget-view+json": {
       "model_id": "a5efc851ed444047afbb95df4e408f2f",
       "version_major": 2,
       "version_minor": 0
      },
      "text/plain": [
       "- ReadBinary->Map(BinaryScan._to_document)->MapBatches(BaseMapTransformCallable___wrap) 1:   0%|          | 0/…"
      ]
     },
     "metadata": {},
     "output_type": "display_data"
    },
    {
     "data": {
      "application/vnd.jupyter.widget-view+json": {
       "model_id": "f1a31a0f61a44d489172ce6f264e6835",
       "version_major": 2,
       "version_minor": 0
      },
      "text/plain": [
       "- MapBatches(regex_replace)->MapBatches(BaseMapTransformCustom__Extract) 2:   0%|          | 0/65 [00:00<?, ?i…"
      ]
     },
     "metadata": {},
     "output_type": "display_data"
    },
    {
     "data": {
      "application/vnd.jupyter.widget-view+json": {
       "model_id": "eceb76a31adb49e7a7c41d27fd2677ec",
       "version_major": 2,
       "version_minor": 0
      },
      "text/plain": [
       "- MapBatches(extract_properties)->MapBatches(sort_by_page_bbox)->MapBatches(mark_drop_tiny)->MapBatches(mark_d…"
      ]
     },
     "metadata": {},
     "output_type": "display_data"
    },
    {
     "data": {
      "application/vnd.jupyter.widget-view+json": {
       "model_id": "7b2ed36bd71a438b804470e23d042d54",
       "version_major": 2,
       "version_minor": 0
      },
      "text/plain": [
       "Running 0:   0%|          | 0/65 [00:00<?, ?it/s]"
      ]
     },
     "metadata": {},
     "output_type": "display_data"
    },
    {
     "name": "stderr",
     "output_type": "stream",
     "text": [
      "(MapWorker(ReadBinary->Map(BinaryScan._to_document)->MapBatches(BaseMapTransformCallable___wrap)) pid=98732) The `max_size` parameter is deprecated and will be removed in v4.26. Please specify in `size['longest_edge'] instead`.\n"
     ]
    },
    {
     "name": "stdout",
     "output_type": "stream",
     "text": [
      "<IPython.core.display.HTML object>e)->MapBatches(BaseMapTransformCustom__Extract)) pid=98735) \n",
      "<IPython.core.display.HTML object>e)->MapBatches(BaseMapTransformCustom__Extract)) pid=98735) \n",
      "<IPython.core.display.HTML object>e)->MapBatches(BaseMapTransformCustom__Extract)) pid=98735) \n",
      "<IPython.core.display.HTML object>e)->MapBatches(BaseMapTransformCustom__Extract)) pid=98735) \n"
     ]
    },
    {
     "name": "stderr",
     "output_type": "stream",
     "text": [
      "(MapWorker(ReadBinary->Map(BinaryScan._to_document)->MapBatches(BaseMapTransformCallable___wrap)) pid=98733) The `max_size` parameter is deprecated and will be removed in v4.26. Please specify in `size['longest_edge'] instead`.\n",
      "(MapWorker(ReadBinary->Map(BinaryScan._to_document)->MapBatches(BaseMapTransformCallable___wrap)) pid=98734) The `max_size` parameter is deprecated and will be removed in v4.26. Please specify in `size['longest_edge'] instead`.\n"
     ]
    },
    {
     "name": "stdout",
     "output_type": "stream",
     "text": [
      "<IPython.core.display.HTML object>erties)->MapBatches(sort_by_page_bbox)->MapBatches(mark_drop_tiny)->MapBatches(mark_drop_header_and_footer)->MapBatches(mark_break_page)->MapBatches(mark_break_by_column)->MapBatches(mark_break_by_tokens)->MapBatches(merge_elements)->MapBatches(convert_timestamp)->MapBatches(spread_properties)->MapBatches(split_doc)->MapBatches(explode)->MapBatches(sketcher)->MapBatches(SentenceTransformerEmbedder)->MapBatches(BaseMapTransformCallable__duckdb_write_documents)) pid=98736)  [repeated 3x across cluster] (Ray deduplicates logs by default. Set RAY_DEDUP_LOGS=0 to disable log deduplication, or see https://docs.ray.io/en/master/ray-observability/user-guides/configure-logging.html#log-deduplication for more options.)\n",
      "<IPython.core.display.HTML object>erties)->MapBatches(sort_by_page_bbox)->MapBatches(mark_drop_tiny)->MapBatches(mark_drop_header_and_footer)->MapBatches(mark_break_page)->MapBatches(mark_break_by_column)->MapBatches(mark_break_by_tokens)->MapBatches(merge_elements)->MapBatches(convert_timestamp)->MapBatches(spread_properties)->MapBatches(split_doc)->MapBatches(explode)->MapBatches(sketcher)->MapBatches(SentenceTransformerEmbedder)->MapBatches(BaseMapTransformCallable__duckdb_write_documents)) pid=98736)  [repeated 66x across cluster]\n"
     ]
    },
    {
     "name": "stderr",
     "output_type": "stream",
     "text": [
      "(MapWorker(MapBatches(extract_properties)->MapBatches(sort_by_page_bbox)->MapBatches(mark_drop_tiny)->MapBatches(mark_drop_header_and_footer)->MapBatches(mark_break_page)->MapBatches(mark_break_by_column)->MapBatches(mark_break_by_tokens)->MapBatches(merge_elements)->MapBatches(convert_timestamp)->MapBatches(spread_properties)->MapBatches(split_doc)->MapBatches(explode)->MapBatches(sketcher)->MapBatches(SentenceTransformerEmbedder)->MapBatches(BaseMapTransformCallable__duckdb_write_documents)) pid=98736) /Users/karansampath/Library/Caches/pypoetry/virtualenvs/sycamore-ai--zTjaFUY-py3.10/lib/python3.10/site-packages/huggingface_hub/file_download.py:1132: FutureWarning: `resume_download` is deprecated and will be removed in version 1.0.0. Downloads always resume when possible. If you want to force a new download, use `force_download=True`.\n",
      "(MapWorker(MapBatches(extract_properties)->MapBatches(sort_by_page_bbox)->MapBatches(mark_drop_tiny)->MapBatches(mark_drop_header_and_footer)->MapBatches(mark_break_page)->MapBatches(mark_break_by_column)->MapBatches(mark_break_by_tokens)->MapBatches(merge_elements)->MapBatches(convert_timestamp)->MapBatches(spread_properties)->MapBatches(split_doc)->MapBatches(explode)->MapBatches(sketcher)->MapBatches(SentenceTransformerEmbedder)->MapBatches(BaseMapTransformCallable__duckdb_write_documents)) pid=98736)   warnings.warn(\n",
      "(MapWorker(MapBatches(extract_properties)->MapBatches(sort_by_page_bbox)->MapBatches(mark_drop_tiny)->MapBatches(mark_drop_header_and_footer)->MapBatches(mark_break_page)->MapBatches(mark_break_by_column)->MapBatches(mark_break_by_tokens)->MapBatches(merge_elements)->MapBatches(convert_timestamp)->MapBatches(spread_properties)->MapBatches(split_doc)->MapBatches(explode)->MapBatches(sketcher)->MapBatches(SentenceTransformerEmbedder)->MapBatches(BaseMapTransformCallable__duckdb_write_documents)) pid=98736) huggingface/tokenizers: The current process just got forked, after parallelism has already been used. Disabling parallelism to avoid deadlocks...\n",
      "(MapWorker(MapBatches(extract_properties)->MapBatches(sort_by_page_bbox)->MapBatches(mark_drop_tiny)->MapBatches(mark_drop_header_and_footer)->MapBatches(mark_break_page)->MapBatches(mark_break_by_column)->MapBatches(mark_break_by_tokens)->MapBatches(merge_elements)->MapBatches(convert_timestamp)->MapBatches(spread_properties)->MapBatches(split_doc)->MapBatches(explode)->MapBatches(sketcher)->MapBatches(SentenceTransformerEmbedder)->MapBatches(BaseMapTransformCallable__duckdb_write_documents)) pid=98736) To disable this warning, you can either:\n",
      "(MapWorker(MapBatches(extract_properties)->MapBatches(sort_by_page_bbox)->MapBatches(mark_drop_tiny)->MapBatches(mark_drop_header_and_footer)->MapBatches(mark_break_page)->MapBatches(mark_break_by_column)->MapBatches(mark_break_by_tokens)->MapBatches(merge_elements)->MapBatches(convert_timestamp)->MapBatches(spread_properties)->MapBatches(split_doc)->MapBatches(explode)->MapBatches(sketcher)->MapBatches(SentenceTransformerEmbedder)->MapBatches(BaseMapTransformCallable__duckdb_write_documents)) pid=98736) \t- Avoid using `tokenizers` before the fork if possible\n",
      "(MapWorker(MapBatches(extract_properties)->MapBatches(sort_by_page_bbox)->MapBatches(mark_drop_tiny)->MapBatches(mark_drop_header_and_footer)->MapBatches(mark_break_page)->MapBatches(mark_break_by_column)->MapBatches(mark_break_by_tokens)->MapBatches(merge_elements)->MapBatches(convert_timestamp)->MapBatches(spread_properties)->MapBatches(split_doc)->MapBatches(explode)->MapBatches(sketcher)->MapBatches(SentenceTransformerEmbedder)->MapBatches(BaseMapTransformCallable__duckdb_write_documents)) pid=98736) \t- Explicitly set the environment variable TOKENIZERS_PARALLELISM=(true | false)\n"
     ]
    },
    {
     "name": "stdout",
     "output_type": "stream",
     "text": [
      "<IPython.core.display.HTML object>erties)->MapBatches(sort_by_page_bbox)->MapBatches(mark_drop_tiny)->MapBatches(mark_drop_header_and_footer)->MapBatches(mark_break_page)->MapBatches(mark_break_by_column)->MapBatches(mark_break_by_tokens)->MapBatches(merge_elements)->MapBatches(convert_timestamp)->MapBatches(spread_properties)->MapBatches(split_doc)->MapBatches(explode)->MapBatches(sketcher)->MapBatches(SentenceTransformerEmbedder)->MapBatches(BaseMapTransformCallable__duckdb_write_documents)) pid=98736)  [repeated 60x across cluster]\n",
      "<IPython.core.display.HTML object>erties)->MapBatches(sort_by_page_bbox)->MapBatches(mark_drop_tiny)->MapBatches(mark_drop_header_and_footer)->MapBatches(mark_break_page)->MapBatches(mark_break_by_column)->MapBatches(mark_break_by_tokens)->MapBatches(merge_elements)->MapBatches(convert_timestamp)->MapBatches(spread_properties)->MapBatches(split_doc)->MapBatches(explode)->MapBatches(sketcher)->MapBatches(SentenceTransformerEmbedder)->MapBatches(BaseMapTransformCallable__duckdb_write_documents)) pid=98736)  [repeated 62x across cluster]\n",
      "(MapWorker(MapBatches(extract_properties)->MapBatches(sort_by_page_bbox)->MapBatches(mark_drop_tiny)->MapBatches(mark_drop_header_and_footer)->MapBatches(mark_break_page)->MapBatches(mark_break_by_column)->MapBatches(mark_break_by_tokens)->MapBatches(merge_elements)->MapBatches(convert_timestamp)->MapBatches(spread_properties)->MapBatches(split_doc)->MapBatches(explode)->MapBatches(sketcher)->MapBatches(SentenceTransformerEmbedder)->MapBatches(BaseMapTransformCallable__duckdb_write_documents)) pid=98736) Error creating table demo_table in database demo.db: Catalog Error: Table with name \"demo_table\" already exists!\n",
      "<IPython.core.display.HTML object>erties)->MapBatches(sort_by_page_bbox)->MapBatches(mark_drop_tiny)->MapBatches(mark_drop_header_and_footer)->MapBatches(mark_break_page)->MapBatches(mark_break_by_column)->MapBatches(mark_break_by_tokens)->MapBatches(merge_elements)->MapBatches(convert_timestamp)->MapBatches(spread_properties)->MapBatches(split_doc)->MapBatches(explode)->MapBatches(sketcher)->MapBatches(SentenceTransformerEmbedder)->MapBatches(BaseMapTransformCallable__duckdb_write_documents)) pid=98736)  [repeated 37x across cluster]\n",
      "<IPython.core.display.HTML object>erties)->MapBatches(sort_by_page_bbox)->MapBatches(mark_drop_tiny)->MapBatches(mark_drop_header_and_footer)->MapBatches(mark_break_page)->MapBatches(mark_break_by_column)->MapBatches(mark_break_by_tokens)->MapBatches(merge_elements)->MapBatches(convert_timestamp)->MapBatches(spread_properties)->MapBatches(split_doc)->MapBatches(explode)->MapBatches(sketcher)->MapBatches(SentenceTransformerEmbedder)->MapBatches(BaseMapTransformCallable__duckdb_write_documents)) pid=98736)  [repeated 3x across cluster]\n",
      "(MapWorker(MapBatches(extract_properties)->MapBatches(sort_by_page_bbox)->MapBatches(mark_drop_tiny)->MapBatches(mark_drop_header_and_footer)->MapBatches(mark_break_page)->MapBatches(mark_break_by_column)->MapBatches(mark_break_by_tokens)->MapBatches(merge_elements)->MapBatches(convert_timestamp)->MapBatches(spread_properties)->MapBatches(split_doc)->MapBatches(explode)->MapBatches(sketcher)->MapBatches(SentenceTransformerEmbedder)->MapBatches(BaseMapTransformCallable__duckdb_write_documents)) pid=98736) \n",
      "(MapWorker(MapBatches(extract_properties)->MapBatches(sort_by_page_bbox)->MapBatches(mark_drop_tiny)->MapBatches(mark_drop_header_and_footer)->MapBatches(mark_break_page)->MapBatches(mark_break_by_column)->MapBatches(mark_break_by_tokens)->MapBatches(merge_elements)->MapBatches(convert_timestamp)->MapBatches(spread_properties)->MapBatches(split_doc)->MapBatches(explode)->MapBatches(sketcher)->MapBatches(SentenceTransformerEmbedder)->MapBatches(BaseMapTransformCallable__duckdb_write_documents)) pid=98736) \n",
      "<IPython.core.display.HTML object>erties)->MapBatches(sort_by_page_bbox)->MapBatches(mark_drop_tiny)->MapBatches(mark_drop_header_and_footer)->MapBatches(mark_break_page)->MapBatches(mark_break_by_column)->MapBatches(mark_break_by_tokens)->MapBatches(merge_elements)->MapBatches(convert_timestamp)->MapBatches(spread_properties)->MapBatches(split_doc)->MapBatches(explode)->MapBatches(sketcher)->MapBatches(SentenceTransformerEmbedder)->MapBatches(BaseMapTransformCallable__duckdb_write_documents)) pid=98736)  [repeated 66x across cluster]\n",
      "(MapWorker(MapBatches(extract_properties)->MapBatches(sort_by_page_bbox)->MapBatches(mark_drop_tiny)->MapBatches(mark_drop_header_and_footer)->MapBatches(mark_break_page)->MapBatches(mark_break_by_column)->MapBatches(mark_break_by_tokens)->MapBatches(merge_elements)->MapBatches(convert_timestamp)->MapBatches(spread_properties)->MapBatches(split_doc)->MapBatches(explode)->MapBatches(sketcher)->MapBatches(SentenceTransformerEmbedder)->MapBatches(BaseMapTransformCallable__duckdb_write_documents)) pid=98736) Error creating table demo_table in database demo.db: Catalog Error: Table with name \"demo_table\" already exists!\n"
     ]
    },
    {
     "name": "stderr",
     "output_type": "stream",
     "text": [
      "(MapWorker(MapBatches(extract_properties)->MapBatches(sort_by_page_bbox)->MapBatches(mark_drop_tiny)->MapBatches(mark_drop_header_and_footer)->MapBatches(mark_break_page)->MapBatches(mark_break_by_column)->MapBatches(mark_break_by_tokens)->MapBatches(merge_elements)->MapBatches(convert_timestamp)->MapBatches(spread_properties)->MapBatches(split_doc)->MapBatches(explode)->MapBatches(sketcher)->MapBatches(SentenceTransformerEmbedder)->MapBatches(BaseMapTransformCallable__duckdb_write_documents)) pid=98736) /Users/karansampath/miniforge3/lib/python3.10/multiprocessing/resource_tracker.py:224: UserWarning: resource_tracker: There appear to be 1 leaked semaphore objects to clean up at shutdown\n",
      "(MapWorker(MapBatches(extract_properties)->MapBatches(sort_by_page_bbox)->MapBatches(mark_drop_tiny)->MapBatches(mark_drop_header_and_footer)->MapBatches(mark_break_page)->MapBatches(mark_break_by_column)->MapBatches(mark_break_by_tokens)->MapBatches(merge_elements)->MapBatches(convert_timestamp)->MapBatches(spread_properties)->MapBatches(split_doc)->MapBatches(explode)->MapBatches(sketcher)->MapBatches(SentenceTransformerEmbedder)->MapBatches(BaseMapTransformCallable__duckdb_write_documents)) pid=98736)   warnings.warn('resource_tracker: There appear to be %d '"
     ]
    }
   ],
   "source": [
    "# Write to a persistent duckdb database\n",
    "# - into a specific database (as specified by url) \n",
    "# - into a specific table (as specified by table name)\n",
    "persistent_db = \"demo.db\"\n",
    "persistent_table = \"demo_table\"\n",
    "ds.write.duckdb(\n",
    "    db_url=persistent_db,\n",
    "    table_name=persistent_table,\n",
    "    dimensions=384\n",
    ")"
   ]
  },
  {
   "cell_type": "code",
   "execution_count": 6,
   "metadata": {},
   "outputs": [],
   "source": [
    "# We connect to the DuckDB to perform operations\n",
    "import duckdb\n",
    "data_conn = duckdb.connect(\"demo.db\")"
   ]
  },
  {
   "cell_type": "code",
   "execution_count": 7,
   "metadata": {},
   "outputs": [
    {
     "data": {
      "text/plain": [
       "<duckdb.duckdb.DuckDBPyConnection at 0x32b8dd170>"
      ]
     },
     "execution_count": 7,
     "metadata": {},
     "output_type": "execute_result"
    }
   ],
   "source": [
    "# DuckDB is not production ready yet for efficient Vector Similarity Search on persistent databases (https://duckdb.org/docs/extensions/vss.html), \n",
    "# so we load our data into an in-memory database for this demo. In future versions, once DuckDB productionizes this feature, there will be no more need for this code cell\n",
    "\n",
    "# Load from disk into Pandas Dataframe as an intermediate step\n",
    "df = data_conn.execute(\"SELECT * FROM demo_table\").fetchdf()\n",
    "df.dropna(subset=[\"embeddings\"],inplace=True)\n",
    "\n",
    "# Now, we load the data into an in-memory database. Notice that we specify beforehand since we need the embedding column (must be specified as a FLOAT[N] where N is specified) \n",
    "# for Vector Similarity Search using HNSW to work\n",
    "schema = {\n",
    "            \"doc_id\": \"VARCHAR\",\n",
    "            \"embeddings\": \"FLOAT[384]\",\n",
    "            \"properties\": \"MAP(VARCHAR, VARCHAR)\",\n",
    "            \"text_representation\": \"VARCHAR\",\n",
    "            \"bbox\": \"DOUBLE[]\",\n",
    "            \"shingles\": \"BIGINT[]\",\n",
    "            \"type\": \"VARCHAR\",\n",
    "        }\n",
    "in_memory_db = duckdb.connect(\":default:\")\n",
    "in_memory_db.install_extension(\"vss\")\n",
    "in_memory_db.load_extension(\"vss\")\n",
    "in_memory_db.execute(f\"\"\"CREATE TABLE in_memory_table (doc_id {schema.get('doc_id')},\n",
    "                      embeddings {schema.get('embeddings')}, properties {schema.get('properties')}, \n",
    "                      text_representation {schema.get('text_representation')}, bbox {schema.get('bbox')}, \n",
    "                      shingles {schema.get('shingles')}, type {schema.get('type')})\"\"\"\n",
    "    )\n",
    "in_memory_db.execute(\"\"\"INSERT INTO in_memory_table SELECT * FROM df; \n",
    "                      CREATE INDEX in_memory_table_index ON in_memory_table USING HNSW(embeddings)\"\"\")"
   ]
  },
  {
   "cell_type": "code",
   "execution_count": 8,
   "metadata": {},
   "outputs": [
    {
     "name": "stderr",
     "output_type": "stream",
     "text": [
      "/Users/karansampath/Library/Caches/pypoetry/virtualenvs/sycamore-ai--zTjaFUY-py3.10/lib/python3.10/site-packages/huggingface_hub/file_download.py:1132: FutureWarning: `resume_download` is deprecated and will be removed in version 1.0.0. Downloads always resume when possible. If you want to force a new download, use `force_download=True`.\n",
      "  warnings.warn(\n"
     ]
    }
   ],
   "source": [
    "# For queries, let's define an embedding function for the question that helps us easily compare the two vectors and generate optimal results // Run NN search\n",
    "from sentence_transformers import SentenceTransformer\n",
    "minilm = SentenceTransformer(\"sentence-transformers/all-MiniLM-L6-v2\")\n",
    "\n",
    "class Embedder():\n",
    "    def __init__(self, llm):\n",
    "        self.llm = llm\n",
    "    \n",
    "    def embed_query(self, question):\n",
    "        v = self.llm.encode(question).tolist()\n",
    "        return v\n",
    "\n",
    "embedder = Embedder(minilm)"
   ]
  },
  {
   "cell_type": "code",
   "execution_count": 9,
   "metadata": {},
   "outputs": [
    {
     "data": {
      "text/plain": [
       "┌──────────────────────┬──────────────────────┬────────────────────────────────────────────────────────────────────────┐\n",
       "│        doc_id        │ text_representation  │                               properties                               │\n",
       "│       varchar        │       varchar        │                         map(varchar, varchar)                          │\n",
       "├──────────────────────┼──────────────────────┼────────────────────────────────────────────────────────────────────────┤\n",
       "│ 9061a466-abae-4889…  │ The National Trans…  │ {score=0.8915606737136841, page_numbers=[1], page_number=1, path=s3:…  │\n",
       "│ a382f8ad-70a1-4e89…  │ The National Trans…  │ {score=0.8774372339248657, page_numbers=[1], page_number=1, path=s3:…  │\n",
       "│ 3be945d2-eb3c-412a…  │ The National Trans…  │ {score=0.7743222713470459, page_numbers=[1], page_number=1, path=s3:…  │\n",
       "│ a6bd8f8c-759f-42ae…  │ The National Trans…  │ {score=0.7248827219009399, page_numbers=[1], page_number=1, path=s3:…  │\n",
       "│ 4d5d7f1e-b035-406c…  │ The National Trans…  │ {score=0.7322630286216736, page_numbers=[1], page_number=1, path=s3:…  │\n",
       "│ b245c898-24b8-42bf…  │ The National Trans…  │ {score=0.7365314364433289, page_numbers=[1], page_number=1, path=s3:…  │\n",
       "│ e21e083b-13bd-4521…  │ The National Trans…  │ {score=0.6194686889648438, page_numbers=[1], page_number=1, path=s3:…  │\n",
       "│ 13eac937-1426-4590…  │ The National Trans…  │ {score=0.8677337765693665, page_numbers=[1], page_number=1, path=s3:…  │\n",
       "│ 9dd046b2-7e9b-405e…  │ The National Trans…  │ {score=0.8568803071975708, page_numbers=[1], page_number=1, path=s3:…  │\n",
       "│ 14dad9c2-d4b4-4696…  │ The National Trans…  │ {score=0.8405874371528625, page_numbers=[1], page_number=1, path=s3:…  │\n",
       "├──────────────────────┴──────────────────────┴────────────────────────────────────────────────────────────────────────┤\n",
       "│ 10 rows                                                                                                    3 columns │\n",
       "└──────────────────────────────────────────────────────────────────────────────────────────────────────────────────────┘"
      ]
     },
     "execution_count": 9,
     "metadata": {},
     "output_type": "execute_result"
    }
   ],
   "source": [
    "q = \"What automobile type is the most accident prone?\"\n",
    "in_memory_db.sql(f\"SELECT doc_id, text_representation, properties FROM in_memory_table ORDER BY array_distance(embeddings, {embedder.embed_query(q)}::FLOAT[384]) LIMIT 10;\")\n",
    "# Pretty print tables\n",
    "# text representation --> print one cell out (of the top result). "
   ]
  },
  {
   "cell_type": "code",
   "execution_count": 10,
   "metadata": {},
   "outputs": [
    {
     "name": "stdout",
     "output_type": "stream",
     "text": [
      "+--------------------------------------+------------------------------------------------------------------------------------------------------------------------------------------------------+-------------------------------------------------------------------------------------------------------------------------------------------------------------------------------------------------------------------------------------------------------------------------------------------------------------------------------------------------------------------------------------------------------------------------------------------------------------------------------------------------------------------------------------------------------------------------------------------------------------------------------------------------------------------------------------------------------------------------------------------------------------------------------------------------------------------------------------------------------------------------------------------+\n",
      "| doc_id                               | text_representation                                                                                                                                  | properties                                                                                                                                                                                                                                                                                                                                                                                                                                                                                                                                                                                                                                                                                                                                                                                                                                                                                |\n",
      "+======================================+======================================================================================================================================================+===========================================================================================================================================================================================================================================================================================================================================================================================================================================================================================================================================================================================================================================================================================================================================================================================================================================================================================+\n",
      "| 9061a466-abae-4889-a215-aa0477d89c2f | The National Transportation Safety Board determines the probable cause(s) of this accident to be:                                                    | {'key': ['score', 'page_numbers', 'page_number', 'path', 'entity', '_schema', '_schema_class'], 'value': ['0.8915606737136841', '[1]', '1', 's3://aryn-public/ntsb/94.pdf', '{\"reportTitle\":\"Aviation Investigation Final Report\",\"location\":\"Opa-locka, Florida\",\"accidentNumber\":\"ERA23LA104\",\"dateTime\":\"2023-01-03T12:35:00Z\",\"registration\":\"N2354E\",\"aircraft\":\"Cessna 172N\",\"definingEvent\":\"Prop/jet/rotor blast/suction\",\"day\":3,\"month\":1,\"year\":2023}', '{\"type\":\"object\",\"properties\":{\"reportTitle\":{\"type\":\"string\"},\"location\":{\"type\":\"string\"},\"accidentNumber\":{\"type\":\"string\"},\"dateTime\":{\"type\":\"string\"},\"registration\":{\"type\":\"string\"},\"aircraft\":{\"type\":\"string\"},\"definingEvent\":{\"type\":\"string\"}},\"required\":[\"reportTitle\",\"location\",\"accidentNumber\",\"dateTime\",\"registration\",\"aircraft\",\"definingEvent\"]}', 'FlightAccidentReport']}                  |\n",
      "|                                      | Page 1 of 6                                                                                                                                          |                                                                                                                                                                                                                                                                                                                                                                                                                                                                                                                                                                                                                                                                                                                                                                                                                                                                                           |\n",
      "+--------------------------------------+------------------------------------------------------------------------------------------------------------------------------------------------------+-------------------------------------------------------------------------------------------------------------------------------------------------------------------------------------------------------------------------------------------------------------------------------------------------------------------------------------------------------------------------------------------------------------------------------------------------------------------------------------------------------------------------------------------------------------------------------------------------------------------------------------------------------------------------------------------------------------------------------------------------------------------------------------------------------------------------------------------------------------------------------------------+\n",
      "| a382f8ad-70a1-4e89-bf20-dd9881fc7f62 | The National Transportation Safety Board determines the probable cause(s) of this accident to be:                                                    | {'key': ['score', 'page_numbers', 'page_number', 'path', 'entity', '_schema', '_schema_class'], 'value': ['0.8774372339248657', '[1]', '1', 's3://aryn-public/ntsb/57.pdf', '{\"reportTitle\":\"Accident near Brashear, Texas\",\"location\":\"Brashear, Texas\",\"accidentNumber\":\"CEN23LA083\",\"dateTime\":\"2023-01-15T09:30:00Z\",\"registration\":\"N1957P\",\"aircraft\":\"CHEEK CARROLL HATZ/CHEEK\",\"definingEvent\":\"Fuel related\",\"day\":15,\"month\":1,\"year\":2023}', '{\"type\":\"object\",\"properties\":{\"reportTitle\":{\"type\":\"string\"},\"location\":{\"type\":\"string\"},\"accidentNumber\":{\"type\":\"string\"},\"dateTime\":{\"type\":\"string\"},\"registration\":{\"type\":\"string\"},\"aircraft\":{\"type\":\"string\"},\"definingEvent\":{\"type\":\"string\"}},\"required\":[\"reportTitle\",\"location\",\"accidentNumber\",\"dateTime\",\"registration\",\"aircraft\",\"definingEvent\"]}', 'FlightAccidentReport']}                             |\n",
      "|                                      | Page 1 of 6                                                                                                                                          |                                                                                                                                                                                                                                                                                                                                                                                                                                                                                                                                                                                                                                                                                                                                                                                                                                                                                           |\n",
      "+--------------------------------------+------------------------------------------------------------------------------------------------------------------------------------------------------+-------------------------------------------------------------------------------------------------------------------------------------------------------------------------------------------------------------------------------------------------------------------------------------------------------------------------------------------------------------------------------------------------------------------------------------------------------------------------------------------------------------------------------------------------------------------------------------------------------------------------------------------------------------------------------------------------------------------------------------------------------------------------------------------------------------------------------------------------------------------------------------------+\n",
      "| 3be945d2-eb3c-412a-8beb-620d0d82b16f | The National Transportation Safety Board determines the probable cause(s) of this accident to be:                                                    | {'key': ['score', 'page_numbers', 'page_number', 'path', 'entity', '_schema', '_schema_class'], 'value': ['0.7743222713470459', '[1]', '1', 's3://aryn-public/ntsb/88.pdf', '{\"FlightAccidentReport\":{\"reportTitle\":\"Aviation Investigation Final Report\",\"location\":\"Council Bluffs, Iowa\",\"accidentNumber\":\"CEN23LA076\",\"dateTime\":\"January 5, 2023, 11:20 Local\",\"registration\":\"N71494\",\"aircraft\":\"Cessna 182M\",\"definingEvent\":\"Unknown or undetermined\"}}', '{\"type\":\"object\",\"properties\":{\"reportTitle\":{\"type\":\"string\"},\"location\":{\"type\":\"string\"},\"accidentNumber\":{\"type\":\"string\"},\"dateTime\":{\"type\":\"string\"},\"registration\":{\"type\":\"string\"},\"aircraft\":{\"type\":\"string\"},\"definingEvent\":{\"type\":\"string\"}},\"required\":[\"reportTitle\",\"location\",\"accidentNumber\",\"dateTime\",\"registration\",\"aircraft\",\"definingEvent\"]}', 'FlightAccidentReport']}                  |\n",
      "|                                      | The partial loss of engine power for reasons that could not be determined.                                                                           |                                                                                                                                                                                                                                                                                                                                                                                                                                                                                                                                                                                                                                                                                                                                                                                                                                                                                           |\n",
      "|                                      | Page 1 of 6                                                                                                                                          |                                                                                                                                                                                                                                                                                                                                                                                                                                                                                                                                                                                                                                                                                                                                                                                                                                                                                           |\n",
      "+--------------------------------------+------------------------------------------------------------------------------------------------------------------------------------------------------+-------------------------------------------------------------------------------------------------------------------------------------------------------------------------------------------------------------------------------------------------------------------------------------------------------------------------------------------------------------------------------------------------------------------------------------------------------------------------------------------------------------------------------------------------------------------------------------------------------------------------------------------------------------------------------------------------------------------------------------------------------------------------------------------------------------------------------------------------------------------------------------------+\n",
      "| a6bd8f8c-759f-42ae-9861-d31d24c05c5b | The National Transportation Safety Board determines the probable cause(s) of this accident to be:                                                    | {'key': ['score', 'page_numbers', 'page_number', 'path', 'entity', '_schema', '_schema_class'], 'value': ['0.7248827219009399', '[1]', '1', 's3://aryn-public/ntsb/63.pdf', '{\"reportTitle\":\"Aviation Investigation Final Report\",\"location\":\"Glennallen, Alaska\",\"accidentNumber\":\"ANC23LA018\",\"dateTime\":\"2023-01-13T12:01:00Z\",\"registration\":\"N5373Y\",\"aircraft\":\"Piper PA-18-180\",\"definingEvent\":\"Collision with terr/obj (non-CFIT)\",\"day\":13,\"month\":1,\"year\":2023}', '{\"type\":\"object\",\"properties\":{\"reportTitle\":{\"type\":\"string\"},\"location\":{\"type\":\"string\"},\"accidentNumber\":{\"type\":\"string\"},\"dateTime\":{\"type\":\"string\"},\"registration\":{\"type\":\"string\"},\"aircraft\":{\"type\":\"string\"},\"definingEvent\":{\"type\":\"string\"}},\"required\":[\"reportTitle\",\"location\",\"accidentNumber\",\"dateTime\",\"registration\",\"aircraft\",\"definingEvent\"]}', 'FlightAccidentReport']}       |\n",
      "|                                      | The pilot’s failure to maintain airspeed during a drag maneuver, which resulted in an overrun and subsequent impact with terrain.                    |                                                                                                                                                                                                                                                                                                                                                                                                                                                                                                                                                                                                                                                                                                                                                                                                                                                                                           |\n",
      "|                                      | Page 1 of 5                                                                                                                                          |                                                                                                                                                                                                                                                                                                                                                                                                                                                                                                                                                                                                                                                                                                                                                                                                                                                                                           |\n",
      "+--------------------------------------+------------------------------------------------------------------------------------------------------------------------------------------------------+-------------------------------------------------------------------------------------------------------------------------------------------------------------------------------------------------------------------------------------------------------------------------------------------------------------------------------------------------------------------------------------------------------------------------------------------------------------------------------------------------------------------------------------------------------------------------------------------------------------------------------------------------------------------------------------------------------------------------------------------------------------------------------------------------------------------------------------------------------------------------------------------+\n",
      "| 4d5d7f1e-b035-406c-81d6-fe93455768fb | The National Transportation Safety Board determines the probable cause(s) of this accident to be:                                                    | {'key': ['score', 'page_numbers', 'page_number', 'path', 'entity', '_schema', '_schema_class'], 'value': ['0.7322630286216736', '[1]', '1', 's3://aryn-public/ntsb/18.pdf', '{\"reportTitle\":\"Eagle River, Wisconsin Accident Report\",\"location\":\"Eagle River, Wisconsin\",\"accidentNumber\":\"CEN23LA098\",\"dateTime\":\"2023-01-25T13:00:00Z\",\"registration\":\"N73034\",\"aircraft\":\"Cessna 120\",\"definingEvent\":\"Collision during takeoff/land\",\"day\":25,\"month\":1,\"year\":2023}', '{\"type\":\"object\",\"properties\":{\"reportTitle\":{\"type\":\"string\"},\"location\":{\"type\":\"string\"},\"accidentNumber\":{\"type\":\"string\"},\"dateTime\":{\"type\":\"string\"},\"registration\":{\"type\":\"string\"},\"aircraft\":{\"type\":\"string\"},\"definingEvent\":{\"type\":\"string\"}},\"required\":[\"reportTitle\",\"location\",\"accidentNumber\",\"dateTime\",\"registration\",\"aircraft\",\"definingEvent\"]}', 'FlightAccidentReport']}          |\n",
      "|                                      | The pilot’s decision to takeoff from an unsuitable surface which resulted in collision with an object.                                               |                                                                                                                                                                                                                                                                                                                                                                                                                                                                                                                                                                                                                                                                                                                                                                                                                                                                                           |\n",
      "|                                      | Findings                                                                                                                                             |                                                                                                                                                                                                                                                                                                                                                                                                                                                                                                                                                                                                                                                                                                                                                                                                                                                                                           |\n",
      "+--------------------------------------+------------------------------------------------------------------------------------------------------------------------------------------------------+-------------------------------------------------------------------------------------------------------------------------------------------------------------------------------------------------------------------------------------------------------------------------------------------------------------------------------------------------------------------------------------------------------------------------------------------------------------------------------------------------------------------------------------------------------------------------------------------------------------------------------------------------------------------------------------------------------------------------------------------------------------------------------------------------------------------------------------------------------------------------------------------+\n",
      "| b245c898-24b8-42bf-a6d3-da1a6fef3b63 | The National Transportation Safety Board determines the probable cause(s) of this accident to be:                                                    | {'key': ['score', 'page_numbers', 'page_number', 'path', 'entity', '_schema', '_schema_class'], 'value': ['0.7365314364433289', '[1]', '1', 's3://aryn-public/ntsb/74.pdf', '{\"reportTitle\":\"Aviation Investigation Final Report\",\"location\":\"Fowlerton, Texas\",\"accidentNumber\":\"CEN23LA086\",\"dateTime\":\"2023-01-10T12:40:00Z\",\"registration\":\"N811S\",\"aircraft\":\"ROBINSON HELICOPTER R44\",\"definingEvent\":\"Collision with terr/obj (non-CFIT)\",\"day\":10,\"month\":1,\"year\":2023}', '{\"type\":\"object\",\"properties\":{\"reportTitle\":{\"type\":\"string\"},\"location\":{\"type\":\"string\"},\"accidentNumber\":{\"type\":\"string\"},\"dateTime\":{\"type\":\"string\"},\"registration\":{\"type\":\"string\"},\"aircraft\":{\"type\":\"string\"},\"definingEvent\":{\"type\":\"string\"}},\"required\":[\"reportTitle\",\"location\",\"accidentNumber\",\"dateTime\",\"registration\",\"aircraft\",\"definingEvent\"]}', 'FlightAccidentReport']}  |\n",
      "|                                      | The pilot’s failure to maintain clearance with trees, which resulted in an uncontrollable spin due to tail rotor damage.                             |                                                                                                                                                                                                                                                                                                                                                                                                                                                                                                                                                                                                                                                                                                                                                                                                                                                                                           |\n",
      "|                                      | Page 1 of 5                                                                                                                                          |                                                                                                                                                                                                                                                                                                                                                                                                                                                                                                                                                                                                                                                                                                                                                                                                                                                                                           |\n",
      "+--------------------------------------+------------------------------------------------------------------------------------------------------------------------------------------------------+-------------------------------------------------------------------------------------------------------------------------------------------------------------------------------------------------------------------------------------------------------------------------------------------------------------------------------------------------------------------------------------------------------------------------------------------------------------------------------------------------------------------------------------------------------------------------------------------------------------------------------------------------------------------------------------------------------------------------------------------------------------------------------------------------------------------------------------------------------------------------------------------+\n",
      "| e21e083b-13bd-4521-9d32-ae08048d4bad | The National Transportation Safety Board determines the probable cause(s) of this accident to be:                                                    | {'key': ['score', 'page_numbers', 'page_number', 'path', 'entity', '_schema', '_schema_class'], 'value': ['0.6194686889648438', '[1]', '1', 's3://aryn-public/ntsb/67.pdf', '{\"reportTitle\":\"Aviation Investigation Final Report\",\"location\":\"Agua Caliente Springs, California\",\"accidentNumber\":\"WPR23LA088\",\"dateTime\":\"2023-01-12T11:00:00Z\",\"registration\":\"N2875K\",\"aircraft\":\"Cessna 180K\",\"definingEvent\":\"Collision during takeoff/land\",\"day\":12,\"month\":1,\"year\":2023}', '{\"type\":\"object\",\"properties\":{\"reportTitle\":{\"type\":\"string\"},\"location\":{\"type\":\"string\"},\"accidentNumber\":{\"type\":\"string\"},\"dateTime\":{\"type\":\"string\"},\"registration\":{\"type\":\"string\"},\"aircraft\":{\"type\":\"string\"},\"definingEvent\":{\"type\":\"string\"}},\"required\":[\"reportTitle\",\"location\",\"accidentNumber\",\"dateTime\",\"registration\",\"aircraft\",\"definingEvent\"]}', 'FlightAccidentReport']} |\n",
      "|                                      | The pilot’s failure to maintain aircraft control during an aborted approach, which resulted in a collision with terrain.                             |                                                                                                                                                                                                                                                                                                                                                                                                                                                                                                                                                                                                                                                                                                                                                                                                                                                                                           |\n",
      "|                                      | Findings                                                                                                                                             |                                                                                                                                                                                                                                                                                                                                                                                                                                                                                                                                                                                                                                                                                                                                                                                                                                                                                           |\n",
      "|                                      | Page 1 of 4                                                                                                                                          |                                                                                                                                                                                                                                                                                                                                                                                                                                                                                                                                                                                                                                                                                                                                                                                                                                                                                           |\n",
      "+--------------------------------------+------------------------------------------------------------------------------------------------------------------------------------------------------+-------------------------------------------------------------------------------------------------------------------------------------------------------------------------------------------------------------------------------------------------------------------------------------------------------------------------------------------------------------------------------------------------------------------------------------------------------------------------------------------------------------------------------------------------------------------------------------------------------------------------------------------------------------------------------------------------------------------------------------------------------------------------------------------------------------------------------------------------------------------------------------------+\n",
      "| 13eac937-1426-4590-aec6-a9a3100d0070 | The National Transportation Safety Board determines the probable cause(s) of this accident to be:                                                    | {'key': ['score', 'page_numbers', 'page_number', 'path', 'entity', '_schema', '_schema_class'], 'value': ['0.8677337765693665', '[1]', '1', 's3://aryn-public/ntsb/5.pdf', '{\"reportTitle\":\"Aviation Investigation Final Report\",\"location\":\"Sandpoint, Idaho\",\"accidentNumber\":\"WPR23LA106\",\"dateTime\":\"2023-01-29T16:00:00Z\",\"registration\":\"N1791P\",\"aircraft\":\"Piper PA-22\",\"definingEvent\":\"Loss of control on ground\",\"day\":29,\"month\":1,\"year\":2023}', '{\"type\":\"object\",\"properties\":{\"reportTitle\":{\"type\":\"string\"},\"location\":{\"type\":\"string\"},\"accidentNumber\":{\"type\":\"string\"},\"dateTime\":{\"type\":\"string\"},\"registration\":{\"type\":\"string\"},\"aircraft\":{\"type\":\"string\"},\"definingEvent\":{\"type\":\"string\"}},\"required\":[\"reportTitle\",\"location\",\"accidentNumber\",\"dateTime\",\"registration\",\"aircraft\",\"definingEvent\"]}', 'FlightAccidentReport']}                       |\n",
      "|                                      | The pilot’s failure to maintain directional control during landing and subsequent failure to maintain clearance from a snow berm during a go around. |                                                                                                                                                                                                                                                                                                                                                                                                                                                                                                                                                                                                                                                                                                                                                                                                                                                                                           |\n",
      "|                                      | Page 1 of 6                                                                                                                                          |                                                                                                                                                                                                                                                                                                                                                                                                                                                                                                                                                                                                                                                                                                                                                                                                                                                                                           |\n",
      "+--------------------------------------+------------------------------------------------------------------------------------------------------------------------------------------------------+-------------------------------------------------------------------------------------------------------------------------------------------------------------------------------------------------------------------------------------------------------------------------------------------------------------------------------------------------------------------------------------------------------------------------------------------------------------------------------------------------------------------------------------------------------------------------------------------------------------------------------------------------------------------------------------------------------------------------------------------------------------------------------------------------------------------------------------------------------------------------------------------+\n",
      "| 9dd046b2-7e9b-405e-887b-d30dd84aae30 | The National Transportation Safety Board determines the probable cause(s) of this accident to be:                                                    | {'key': ['score', 'page_numbers', 'page_number', 'path', 'entity', '_schema', '_schema_class'], 'value': ['0.8568803071975708', '[1]', '1', 's3://aryn-public/ntsb/91.pdf', '{\"reportTitle\":\"Aviation Investigation Final Report\",\"location\":\"Yukon, Oklahoma\",\"accidentNumber\":\"CEN23LA075\",\"dateTime\":\"2023-01-03T17:04:00Z\",\"registration\":\"N7769E\",\"aircraft\":\"Cessna 150\",\"definingEvent\":\"Loss of control on ground\",\"day\":3,\"month\":1,\"year\":2023}', '{\"type\":\"object\",\"properties\":{\"reportTitle\":{\"type\":\"string\"},\"location\":{\"type\":\"string\"},\"accidentNumber\":{\"type\":\"string\"},\"dateTime\":{\"type\":\"string\"},\"registration\":{\"type\":\"string\"},\"aircraft\":{\"type\":\"string\"},\"definingEvent\":{\"type\":\"string\"}},\"required\":[\"reportTitle\",\"location\",\"accidentNumber\",\"dateTime\",\"registration\",\"aircraft\",\"definingEvent\"]}', 'FlightAccidentReport']}                         |\n",
      "|                                      | The pilot’s failure to maintain directional control during the landing roll.                                                                         |                                                                                                                                                                                                                                                                                                                                                                                                                                                                                                                                                                                                                                                                                                                                                                                                                                                                                           |\n",
      "|                                      | Page 1 of 6                                                                                                                                          |                                                                                                                                                                                                                                                                                                                                                                                                                                                                                                                                                                                                                                                                                                                                                                                                                                                                                           |\n",
      "+--------------------------------------+------------------------------------------------------------------------------------------------------------------------------------------------------+-------------------------------------------------------------------------------------------------------------------------------------------------------------------------------------------------------------------------------------------------------------------------------------------------------------------------------------------------------------------------------------------------------------------------------------------------------------------------------------------------------------------------------------------------------------------------------------------------------------------------------------------------------------------------------------------------------------------------------------------------------------------------------------------------------------------------------------------------------------------------------------------+\n",
      "| 14dad9c2-d4b4-4696-92f3-f87a0d7ada1b | The National Transportation Safety Board determines the probable cause(s) of this accident to be:                                                    | {'key': ['score', 'page_numbers', 'page_number', 'path', 'entity', '_schema', '_schema_class'], 'value': ['0.8405874371528625', '[1]', '1', 's3://aryn-public/ntsb/39.pdf', '{\"reportTitle\":\"Aviation Investigation Final Report\",\"location\":\"San Antonio, Texas\",\"accidentNumber\":\"CEN23LA089\",\"dateTime\":\"2023-01-20T08:50:00Z\",\"registration\":\"N5610U\",\"aircraft\":\"Piper PA-28-140\",\"definingEvent\":\"Loss of control on ground\",\"day\":20,\"month\":1,\"year\":2023}', '{\"type\":\"object\",\"properties\":{\"reportTitle\":{\"type\":\"string\"},\"location\":{\"type\":\"string\"},\"accidentNumber\":{\"type\":\"string\"},\"dateTime\":{\"type\":\"string\"},\"registration\":{\"type\":\"string\"},\"aircraft\":{\"type\":\"string\"},\"definingEvent\":{\"type\":\"string\"}},\"required\":[\"reportTitle\",\"location\",\"accidentNumber\",\"dateTime\",\"registration\",\"aircraft\",\"definingEvent\"]}', 'FlightAccidentReport']}                |\n",
      "|                                      | The pilot’s failure to maintain directional control during the landing roll.                                                                         |                                                                                                                                                                                                                                                                                                                                                                                                                                                                                                                                                                                                                                                                                                                                                                                                                                                                                           |\n",
      "|                                      | Page 1 of 6                                                                                                                                          |                                                                                                                                                                                                                                                                                                                                                                                                                                                                                                                                                                                                                                                                                                                                                                                                                                                                                           |\n",
      "+--------------------------------------+------------------------------------------------------------------------------------------------------------------------------------------------------+-------------------------------------------------------------------------------------------------------------------------------------------------------------------------------------------------------------------------------------------------------------------------------------------------------------------------------------------------------------------------------------------------------------------------------------------------------------------------------------------------------------------------------------------------------------------------------------------------------------------------------------------------------------------------------------------------------------------------------------------------------------------------------------------------------------------------------------------------------------------------------------------+\n"
     ]
    }
   ],
   "source": [
    "# Let us now see the performance of the ANN HNSW search using DuckDB. We use Array Euclidean Distance as the nearest neighbor lookup\n",
    "\n",
    "from tabulate import tabulate\n",
    "\n",
    "q = \"What automobile type is the most accident prone?\"\n",
    "result = in_memory_db.sql(f\"SELECT doc_id, text_representation, properties FROM in_memory_table ORDER BY array_distance(embeddings, {embedder.embed_query(q)}::FLOAT[384]) LIMIT 10;\")\n",
    "\n",
    "# Convert the result to a list of lists\n",
    "table_data = result.fetchall()\n",
    "\n",
    "# Get column names\n",
    "headers = [desc[0] for desc in result.description]\n",
    "\n",
    "# Pretty print the table\n",
    "print(tabulate(table_data, headers=headers, tablefmt=\"grid\"))"
   ]
  },
  {
   "cell_type": "code",
   "execution_count": 11,
   "metadata": {},
   "outputs": [
    {
     "name": "stdout",
     "output_type": "stream",
     "text": [
      "Text representation of the first two values (not including headers):\n",
      "\n",
      "1. doc_id: 3be945d2-eb3c-412a-8beb-620d0d82b16f\n",
      "   Text representation:\n",
      "   The National Transportation Safety Board determines the probable cause(s) of this accident to be:\n",
      "The partial loss of engine power for reasons that could not be determined.\n",
      "Page 1 of 6\n",
      "\n",
      "--------------------------------------------------\n",
      "\n",
      "2. doc_id: a6bd8f8c-759f-42ae-9861-d31d24c05c5b\n",
      "   Text representation:\n",
      "   The National Transportation Safety Board determines the probable cause(s) of this accident to be:\n",
      "The pilot’s failure to maintain airspeed during a drag maneuver, which resulted in an overrun and subsequent impact with terrain.\n",
      "Page 1 of 5\n",
      "\n",
      "--------------------------------------------------\n"
     ]
    }
   ],
   "source": [
    "first_two = table_data[2:4]\n",
    "\n",
    "print(\"Text representation of the first two values (not including headers):\")\n",
    "for i, row in enumerate(first_two, 1):\n",
    "    print(f\"\\n{i}. doc_id: {row[0]}\")\n",
    "    print(f\"   Text representation:\\n   {row[1]}\")\n",
    "    print(\"-\" * 50)"
   ]
  },
  {
   "cell_type": "code",
   "execution_count": 12,
   "metadata": {},
   "outputs": [
    {
     "name": "stdout",
     "output_type": "stream",
     "text": [
      "Expanded EXPLAIN output:\n",
      "+---------------+------------------------------------------------------------+\n",
      "| explain_key   | explain_value                                              |\n",
      "+===============+============================================================+\n",
      "| physical_plan | ┌───────────────────────────┐                              |\n",
      "|               | │         PROJECTION        │                              |\n",
      "|               | │   ─ ─ ─ ─ ─ ─ ─ ─ ─ ─ ─   │                              |\n",
      "|               | │             #0            │                              |\n",
      "|               | │             #1            │                              |\n",
      "|               | │             #2            │                              |\n",
      "|               | └─────────────┬─────────────┘                              |\n",
      "|               | ┌─────────────┴─────────────┐                              |\n",
      "|               | │         PROJECTION        │                              |\n",
      "|               | │   ─ ─ ─ ─ ─ ─ ─ ─ ─ ─ ─   │                              |\n",
      "|               | │           doc_id          │                              |\n",
      "|               | │    text_representation    │                              |\n",
      "|               | │         properties        │                              |\n",
      "|               | │            NULL           │                              |\n",
      "|               | └─────────────┬─────────────┘                              |\n",
      "|               | ┌─────────────┴─────────────┐                              |\n",
      "|               | │      HNSW_INDEX_SCAN      │                              |\n",
      "|               | │   ─ ─ ─ ─ ─ ─ ─ ─ ─ ─ ─   │                              |\n",
      "|               | │in_memory_table (HNSW INDEX│                              |\n",
      "|               | │ SCAN : in_memory_table_ind│                              |\n",
      "|               | │            ex)            │                              |\n",
      "|               | │   ─ ─ ─ ─ ─ ─ ─ ─ ─ ─ ─   │                              |\n",
      "|               | │           doc_id          │                              |\n",
      "|               | │    text_representation    │                              |\n",
      "|               | │         properties        │                              |\n",
      "|               | │         embeddings        │                              |\n",
      "|               | │   ─ ─ ─ ─ ─ ─ ─ ─ ─ ─ ─   │                              |\n",
      "|               | │           EC: 10          │                              |\n",
      "|               | └───────────────────────────┘                              |\n",
      "+---------------+------------------------------------------------------------+\n"
     ]
    }
   ],
   "source": [
    "# We can also see the performance of the DuckDB query and check the index is being used by using the in-built visualization below \n",
    "q = \"What automobile type is the most accident prone?\"\n",
    "explain_result = in_memory_db.sql(f\"EXPLAIN SELECT doc_id, text_representation, properties FROM in_memory_table ORDER BY array_distance(embeddings, {embedder.embed_query(q)}::FLOAT[384]) LIMIT 10\")\n",
    "\n",
    "# Convert the result to a list of lists\n",
    "explain_data = explain_result.fetchall()\n",
    "\n",
    "# Get column names\n",
    "headers = [desc[0] for desc in explain_result.description]\n",
    "\n",
    "# Pretty print the EXPLAIN output\n",
    "print(\"Expanded EXPLAIN output:\")\n",
    "print(tabulate(explain_data, headers=headers, tablefmt=\"grid\"))"
   ]
  },
  {
   "cell_type": "code",
   "execution_count": 13,
   "metadata": {},
   "outputs": [
    {
     "data": {
      "text/plain": [
       "┌──────────────────────┬──────────────────────┬────────────────────────────────────────────────────────────────────────┐\n",
       "│        doc_id        │ text_representation  │                               properties                               │\n",
       "│       varchar        │       varchar        │                         map(varchar, varchar)                          │\n",
       "├──────────────────────┼──────────────────────┼────────────────────────────────────────────────────────────────────────┤\n",
       "│ 9061a466-abae-4889…  │ The National Trans…  │ {score=0.8915606737136841, page_numbers=[1], page_number=1, path=s3:…  │\n",
       "│ a382f8ad-70a1-4e89…  │ The National Trans…  │ {score=0.8774372339248657, page_numbers=[1], page_number=1, path=s3:…  │\n",
       "│ 3be945d2-eb3c-412a…  │ The National Trans…  │ {score=0.7743222713470459, page_numbers=[1], page_number=1, path=s3:…  │\n",
       "│ a6bd8f8c-759f-42ae…  │ The National Trans…  │ {score=0.7248827219009399, page_numbers=[1], page_number=1, path=s3:…  │\n",
       "│ 4d5d7f1e-b035-406c…  │ The National Trans…  │ {score=0.7322630286216736, page_numbers=[1], page_number=1, path=s3:…  │\n",
       "│ b245c898-24b8-42bf…  │ The National Trans…  │ {score=0.7365314364433289, page_numbers=[1], page_number=1, path=s3:…  │\n",
       "│ e21e083b-13bd-4521…  │ The National Trans…  │ {score=0.6194686889648438, page_numbers=[1], page_number=1, path=s3:…  │\n",
       "│ 13eac937-1426-4590…  │ The National Trans…  │ {score=0.8677337765693665, page_numbers=[1], page_number=1, path=s3:…  │\n",
       "│ 9dd046b2-7e9b-405e…  │ The National Trans…  │ {score=0.8568803071975708, page_numbers=[1], page_number=1, path=s3:…  │\n",
       "│ 14dad9c2-d4b4-4696…  │ The National Trans…  │ {score=0.8405874371528625, page_numbers=[1], page_number=1, path=s3:…  │\n",
       "├──────────────────────┴──────────────────────┴────────────────────────────────────────────────────────────────────────┤\n",
       "│ 10 rows                                                                                                    3 columns │\n",
       "└──────────────────────────────────────────────────────────────────────────────────────────────────────────────────────┘"
      ]
     },
     "execution_count": 13,
     "metadata": {},
     "output_type": "execute_result"
    }
   ],
   "source": [
    "# Finally we can build an index with other distance metrics, the default is Euclidean Distance ('l2sq'), with Cosine similarity ('cosine', 'array_cosine_simarlity') \n",
    "# and Inner Product ('ip', 'array_inner_product') also supported\n",
    "in_memory_db.execute(\"CREATE INDEX in_memory_ip_index ON in_memory_table USING HNSW(embeddings) WITH (metric = 'ip')\")\n",
    "in_memory_db.sql(f\"SELECT doc_id, text_representation, properties FROM in_memory_table ORDER BY array_inner_product(embeddings, {embedder.embed_query(q)}::FLOAT[384]) LIMIT 10;\")"
   ]
  },
  {
   "cell_type": "code",
   "execution_count": 14,
   "metadata": {},
   "outputs": [],
   "source": [
    "# We can now perform RAG on this table using Langchain. To make it work, we must add a metadata column that contains a 'source' value which we do\n",
    "# as a placeholder below\n",
    "in_memory_db.sql(\"ALTER TABLE in_memory_table ADD COLUMN IF NOT EXISTS metadata VARCHAR DEFAULT '{\\\"source\\\": \\\"default\\\"}'\")\n"
   ]
  },
  {
   "cell_type": "code",
   "execution_count": 15,
   "metadata": {},
   "outputs": [
    {
     "name": "stdout",
     "output_type": "stream",
     "text": [
      "[Document(page_content='Passenger Information\\n', metadata={'source': 'default', '_similarity_score': 0.3923537060189796}), Document(page_content='Passenger Information\\n', metadata={'source': 'default', '_similarity_score': 0.3923537060189796}), Document(page_content='Passenger Information\\n', metadata={'source': 'default', '_similarity_score': 0.3923537060189796}), Document(page_content='Passenger Information\\n', metadata={'source': 'default', '_similarity_score': 0.3923537060189796})]\n"
     ]
    }
   ],
   "source": [
    "# We now initialize a vector store on DuckDB using the LangChain integration. We perform similarity search using the integration here\n",
    "from langchain_community.vectorstores.duckdb import DuckDB\n",
    "vector_store = DuckDB(connection=in_memory_db, embedding=embedder, id_key= \"doc_id\", text_key=\"text_representation\", vector_key=\"embeddings\", table_name=\"in_memory_table\")\n",
    "result = vector_store.similarity_search('traffic')\n",
    "print(result)"
   ]
  },
  {
   "cell_type": "code",
   "execution_count": 16,
   "metadata": {},
   "outputs": [
    {
     "name": "stdout",
     "output_type": "stream",
     "text": [
      "\n",
      "\n",
      "> Entering new RetrievalQAWithSourcesChain chain...\n"
     ]
    },
    {
     "name": "stderr",
     "output_type": "stream",
     "text": [
      "huggingface/tokenizers: The current process just got forked, after parallelism has already been used. Disabling parallelism to avoid deadlocks...\n",
      "To disable this warning, you can either:\n",
      "\t- Avoid using `tokenizers` before the fork if possible\n",
      "\t- Explicitly set the environment variable TOKENIZERS_PARALLELISM=(true | false)\n"
     ]
    },
    {
     "name": "stdout",
     "output_type": "stream",
     "text": [
      "\n",
      "> Finished chain.\n"
     ]
    },
    {
     "data": {
      "text/plain": [
       "{'question': 'How many accidents happened?',\n",
       " 'answer': 'There were a total of 7 accidents that happened.\\n',\n",
       " 'sources': 'default'}"
      ]
     },
     "execution_count": 16,
     "metadata": {},
     "output_type": "execute_result"
    }
   ],
   "source": [
    "from langchain_openai import ChatOpenAI  \n",
    "from langchain.chains import RetrievalQAWithSourcesChain  \n",
    "import os\n",
    "# Finally, we initialize a RAG agent and ask a model question of the data\n",
    "llm = ChatOpenAI(  \n",
    "    openai_api_key=os.environ.get(\"OPENAI_API_KEY\"),  \n",
    "    model_name='gpt-3.5-turbo',  \n",
    "    temperature=0.8  \n",
    ")  \n",
    "qa = RetrievalQAWithSourcesChain.from_chain_type(  \n",
    "    llm=llm,  \n",
    "    chain_type=\"stuff\",  \n",
    "    retriever=vector_store.as_retriever() , verbose=True\n",
    ")  \n",
    "qa.invoke({\"question\": \"How many accidents happened?\"})"
   ]
  },
  {
   "cell_type": "code",
   "execution_count": 17,
   "metadata": {},
   "outputs": [],
   "source": [
    "# OPTIONAL: If you would like to remove your database after running the code above, please run this code cell\n",
    "try:\n",
    "    os.unlink(persistent_db)\n",
    "except Exception as e:\n",
    "    print(f\"Error deleting {persistent_db}: {e}\")"
   ]
  }
 ],
 "metadata": {
  "kernelspec": {
   "display_name": "sycamore-ai--zTjaFUY-py3.10",
   "language": "python",
   "name": "python3"
  },
  "language_info": {
   "codemirror_mode": {
    "name": "ipython",
    "version": 3
   },
   "file_extension": ".py",
   "mimetype": "text/x-python",
   "name": "python",
   "nbconvert_exporter": "python",
   "pygments_lexer": "ipython3",
   "version": "3.10.14"
  }
 },
 "nbformat": 4,
 "nbformat_minor": 2
}
