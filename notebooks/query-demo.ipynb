{
 "cells": [
  {
   "cell_type": "markdown",
   "id": "b5359bf5-500e-47aa-9765-d69eaf67b196",
   "metadata": {},
   "source": [
    "# Sycamore Query Demo\n",
    "\n",
    "This notebook shows how to use the `SycamoreQueryClient` API to issue queries using Sycamore against an OpenSearch index.\n",
    "\n",
    "Sycamore Query takes in an English query description and translates it\n",
    "into a Sycamore pipeline to query an index, using operations that leverage\n",
    "both OpenSearch's built-in search capabilities, as well as LLM-powered\n",
    "operations for things like semantic filtering of records.\n",
    "\n",
    "Before running this notebook, be sure OpenSearch is running locally on\n",
    "port 9200 and is populated with some data. The examples below use an\n",
    "example index called `const_ntsb` that is assumed to be populated with\n",
    "NTSB incident reports."
   ]
  },
  {
   "cell_type": "code",
   "execution_count": null,
   "id": "9cb3d9f5-d834-461f-940d-feac32d3d35d",
   "metadata": {},
   "outputs": [],
   "source": [
    "!pip install matplotlib"
   ]
  },
  {
   "cell_type": "code",
   "execution_count": null,
   "id": "0e9c2042-5591-4d09-9816-0fa04e95f362",
   "metadata": {},
   "outputs": [],
   "source": [
    "from sycamore.query.client import SycamoreQueryClient\n",
    "from sycamore.query.visualize import visualize_plan\n",
    "from rich.console import Console\n",
    "\n",
    "console = Console()\n",
    "client = SycamoreQueryClient()"
   ]
  },
  {
   "cell_type": "code",
   "execution_count": null,
   "id": "f0ec88a7-9776-4eb2-ba03-b274a4be2373",
   "metadata": {},
   "outputs": [],
   "source": [
    "# This is the index name to query.\n",
    "OS_INDEX = \"const_ntsb\"\n",
    "\n",
    "# Here is your query text.\n",
    "QUERY = \"How many airplane incidents were there in Washington in 2023?\""
   ]
  },
  {
   "cell_type": "code",
   "execution_count": null,
   "id": "4c31df1b-271a-4193-b44b-1c63e01da815",
   "metadata": {},
   "outputs": [],
   "source": [
    "# First, get the schema and show it.\n",
    "\n",
    "schema = client.get_opensearch_schema(OS_INDEX)\n",
    "console.print(schema)"
   ]
  },
  {
   "cell_type": "code",
   "execution_count": null,
   "id": "912412e1-b860-47de-92de-2f37f0c8084e",
   "metadata": {},
   "outputs": [],
   "source": [
    "# Generate a query plan and visualize it.\n",
    "\n",
    "plan = client.generate_plan(QUERY, OS_INDEX, schema)\n",
    "plan.show(verbose=True)\n",
    "visualize_plan(plan)"
   ]
  },
  {
   "cell_type": "code",
   "execution_count": null,
   "id": "74f0c6a3-4d21-4f67-a0a8-2572a8384f65",
   "metadata": {},
   "outputs": [],
   "source": [
    "# Run the query plan.\n",
    "\n",
    "query_id, result = client.run_plan(plan)\n",
    "console.rule(\"Query result\")\n",
    "console.print(result)"
   ]
  }
 ],
 "metadata": {
  "kernelspec": {
   "display_name": "Python 3 (ipykernel)",
   "language": "python",
   "name": "python3"
  },
  "language_info": {
   "codemirror_mode": {
    "name": "ipython",
    "version": 3
   },
   "file_extension": ".py",
   "mimetype": "text/x-python",
   "name": "python",
   "nbconvert_exporter": "python",
   "pygments_lexer": "ipython3",
   "version": "3.10.9"
  }
 },
 "nbformat": 4,
 "nbformat_minor": 5
}
