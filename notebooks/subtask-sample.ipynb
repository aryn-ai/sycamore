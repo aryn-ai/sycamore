{
 "cells": [
  {
   "cell_type": "code",
   "execution_count": null,
   "metadata": {},
   "outputs": [],
   "source": [
    "from dotenv import load_dotenv\n",
    "import os\n",
    "\n",
    "# add OPENAI_API_KEY to .env\n",
    "load_dotenv(\".env\")\n",
    "\n",
    "import sycamore\n",
    "from sycamore.evaluation import EvaluationDataPoint\n",
    "from sycamore.evaluation.pipeline import EvaluationPipeline\n",
    "from sycamore.transforms.embed import SentenceTransformerEmbedder\n",
    "from sycamore.transforms.query import OpenSearchQueryExecutor\n",
    "from sycamore.evaluation.subtasks import SubtaskExecutor\n",
    "from sycamore.functions import HuggingFaceTokenizer\n",
    "from sycamore.llms import OpenAI, OpenAIModels\n",
    "from sycamore.transforms import COALESCE_WHITESPACE\n",
    "from sycamore.transforms.merge_elements import GreedyTextElementMerger\n",
    "from sycamore.transforms.partition import ArynPartitioner\n",
    "from sycamore.connectors.file.materialized_scan import DocScan\n",
    "from sycamore.docset import DocSet\n",
    "import sycamore\n"
   ]
  },
  {
   "cell_type": "markdown",
   "metadata": {},
   "source": [
    "## Ingestion"
   ]
  },
  {
   "cell_type": "code",
   "execution_count": null,
   "metadata": {},
   "outputs": [],
   "source": [
    "# Using the Amazon 2017 10K PDF\n",
    "\n",
    "! curl -o amazon_2017_10k.pdf https://d18rn0p25nwr6d.cloudfront.net/CIK-0001018724/02da2a86-7bb9-4bcb-95ae-4ce27ea5e3bc.pdf"
   ]
  },
  {
   "cell_type": "code",
   "execution_count": null,
   "metadata": {},
   "outputs": [],
   "source": [
    "path = \"amazon_2017_10k.pdf\"\n",
    "index = \"sample0\"\n",
    "\n",
    "openai_llm = OpenAI(OpenAIModels.GPT_4O.value)\n",
    "\n",
    "hf_model = \"sentence-transformers/all-mpnet-base-v2\"\n",
    "tokenizer = HuggingFaceTokenizer(hf_model)\n",
    "embedder = SentenceTransformerEmbedder(model_name=hf_model, batch_size=100)\n",
    "\n",
    "context = sycamore.init()"
   ]
  },
  {
   "cell_type": "code",
   "execution_count": null,
   "metadata": {},
   "outputs": [],
   "source": [
    "if os.path.exists(\"/.dockerenv\"):\n",
    "    opensearch_host = \"opensearch\"\n",
    "    print(\"Assuming we are in a sycamore jupyter container, using opensearch for opensearch host\")\n",
    "else:\n",
    "    opensearch_host = \"localhost\"\n",
    "    print(\"Assuming we are running outside of a container, using localhost for opensearch host\")\n",
    "\n",
    "os_client_args = {\n",
    "    \"hosts\": [{\"host\": opensearch_host, \"port\": 9200}],\n",
    "    \"http_compress\": True,\n",
    "    \"http_auth\": ('admin', 'admin'),\n",
    "    \"use_ssl\": True,\n",
    "    \"verify_certs\": False,\n",
    "    \"ssl_assert_hostname\": False,\n",
    "    \"ssl_show_warn\": False,\n",
    "    \"timeout\": 120\n",
    "}\n",
    "\n",
    "index_settings = {\n",
    "    \"body\": {\n",
    "        \"settings\": {\n",
    "            \"index.knn\": True,\n",
    "            \"number_of_shards\": 5,\n",
    "            \"number_of_replicas\": 1\n",
    "        },\n",
    "        \"mappings\": {\n",
    "            \"properties\": {\n",
    "                \"embedding\": {\n",
    "                  \"dimension\": 768,\n",
    "                  \"method\": {\n",
    "                    \"engine\": \"faiss\",\n",
    "                    \"space_type\": \"l2\",\n",
    "                    \"name\": \"hnsw\",\n",
    "                    \"parameters\": {}\n",
    "                  },\n",
    "                  \"type\": \"knn_vector\"\n",
    "                },\n",
    "            }\n",
    "        }\n",
    "    }\n",
    "}"
   ]
  },
  {
   "cell_type": "code",
   "execution_count": null,
   "metadata": {},
   "outputs": [],
   "source": [
    "ds = (\n",
    "    context.read.binary(path, binary_format=\"pdf\")\n",
    "    .partition(partitioner=ArynPartitioner(extract_table_structure=True, threshold=0.35, use_ocr=True), num_gpus=0.1, parallelism=1)\n",
    "    .regex_replace(COALESCE_WHITESPACE)\n",
    "    .merge(merger=GreedyTextElementMerger(tokenizer, 512))\n",
    "    .spread_properties([\"path\", \"company\", \"year\", \"doc-type\"])\n",
    "    .explode()\n",
    "    .embed(embedder=embedder, num_gpus=0.1)\n",
    ")"
   ]
  },
  {
   "cell_type": "code",
   "execution_count": null,
   "metadata": {},
   "outputs": [],
   "source": [
    "ds.write.opensearch(\n",
    "    os_client_args=os_client_args,\n",
    "    index_name=index,\n",
    "    index_settings=index_settings,\n",
    ")"
   ]
  },
  {
   "cell_type": "markdown",
   "metadata": {},
   "source": [
    "## Querying"
   ]
  },
  {
   "cell_type": "markdown",
   "metadata": {},
   "source": [
    "#### Without Subtasks"
   ]
  },
  {
   "cell_type": "code",
   "execution_count": null,
   "metadata": {},
   "outputs": [],
   "source": [
    "# Question taken from FinanceBench\n",
    "\n",
    "document = EvaluationDataPoint()\n",
    "document.question = \"What is Amazon's FY2017 days payable outstanding (DPO)? DPO is defined as: 365 * (average accounts payable between FY2016 and FY2017) / (FY2017 COGS + change in inventory between FY2016 and FY2017). Round your answer to two decimal places. Address the question by using the line items and information shown within the balance sheet and the P&L statement.\"\n",
    "document.ground_truth_answer = \"93.86\"\n",
    "document.doc_id = \"demo_nosubtask\"\n",
    "document.properties[\"subtasks_reqd\"] = False\n",
    "\n",
    "input_docset = DocSet(context, DocScan([document]))"
   ]
  },
  {
   "cell_type": "code",
   "execution_count": null,
   "metadata": {},
   "outputs": [],
   "source": [
    "os_config = {\n",
    "    \"size\": 10,\n",
    "    \"neural_search_k\": 200,\n",
    "    \"embedding_model_id\": \"hlAX5Y8BnK-z0ftijBv_\",\n",
    "    \"search_pipeline\": \"hybrid_rag_pipeline\",\n",
    "    \"llm\": \"gpt-4o\",\n",
    "    \"context_window\": \"10\",\n",
    "}\n",
    "\n",
    "data = {\n",
    "    \"experiment_name\": \"sample subtask test\",\n",
    "    \"description\": \"gpt-4o\",\n",
    "    \"created_by\": \"aanyapratapneni\",\n",
    "    \"index\": index,\n",
    "    \"os_client_args\": os_client_args,\n",
    "    \"os_config\": os_config,\n",
    "}\n",
    "\n",
    "pipeline = EvaluationPipeline(\n",
    "    index=index,\n",
    "    os_config=os_config,\n",
    "    metrics=[],\n",
    "    query_executor=OpenSearchQueryExecutor(os_client_args),\n",
    "    embedder=embedder,\n",
    "    knn_query=True,\n",
    ")\n",
    "\n",
    "query_level_metrics = pipeline.execute(input_docset)[0]\n",
    "data[\"query_level_data\"] = query_level_metrics.take_all()"
   ]
  },
  {
   "cell_type": "code",
   "execution_count": null,
   "metadata": {},
   "outputs": [],
   "source": [
    "print (data[\"query_level_data\"][0][\"generated_answer\"])"
   ]
  },
  {
   "cell_type": "markdown",
   "metadata": {},
   "source": [
    "#### With Subtasks"
   ]
  },
  {
   "cell_type": "code",
   "execution_count": null,
   "metadata": {},
   "outputs": [],
   "source": [
    "year = 2017\n",
    "\n",
    "document = EvaluationDataPoint()\n",
    "document.question = \"What is Amazon's FY2017 days payable outstanding (DPO)? DPO is defined as: 365 * (average accounts payable between FY2016 and FY2017) / (FY2017 COGS + change in inventory between FY2016 and FY2017). Round your answer to two decimal places. Address the question by using the line items and information shown within the balance sheet and the P&L statement.\"\n",
    "document.ground_truth_answer = \"93.86\"\n",
    "document.doc_id = \"demo_subtask\"\n",
    "document.properties[\"subtasks_reqd\"] = True\n",
    "document.properties[\"subtask_filters\"] = {\"company\": \"Amazon\", \"year\": year, \"year1\": year - 1, \"year2\": year - 2}\n",
    "\n",
    "input_docset = DocSet(context, DocScan([document]))"
   ]
  },
  {
   "cell_type": "code",
   "execution_count": null,
   "metadata": {},
   "outputs": [],
   "source": [
    "subtask_info = {\n",
    "    \"task_descriptions\": {\n",
    "        \"INVENTORY_TURNOVER\": \"Questions about inventory turnover ratio\",\n",
    "        \"DAYS_PAYABLE\": \"Questions about days payable outstanding\",\n",
    "        \"2YR_GROSS_MARG\": \"Questions about gross margin profile relative to the previous year\",\n",
    "        \"CASH_CONV_CYCLE\": \"Questions about cash conversion cycle\",\n",
    "        \"FREE_CASH_FLOW\": \"Questions about free cash flow\",\n",
    "        \"CAPEX\": \"Questions about only the capital expenditure of a company and no additional information or metrics\",\n",
    "    },\n",
    "\n",
    "    \"task_formulas\": {\n",
    "        \"INVENTORY_TURNOVER\": {\n",
    "            \"formulas\": [\"COGS0/INV0\"]\n",
    "        },\n",
    "        \"DAYS_PAYABLE\": {\n",
    "            \"formulas\": [\"365*AVERAGE(ACCPAY0, ACCPAY1)/(COGS0+INV0-INV1)\"]\n",
    "        },\n",
    "        \"2YR_GROSS_MARG\": {\n",
    "            \"formulas\": [\"CURRENT YEAR GROSS MARGIN = ((REV0-COGS0)/REV0)\", \"PREVIOUS YEAR GROSS MARGIN = ((REV1-COGS1)/REV1)\"],\n",
    "            \"instructions\": \"Use these values to answer the following question.\"\n",
    "        },\n",
    "        \"CASH_CONV_CYCLE\": {\n",
    "            \"formulas\": [\"[365*(AVERAGE(INV0, INV1)/(COGS0))] + [365*(AVERAGE(TRADEREC0, TRADEREC1)/(REV0))] - [365*(AVERAGE(ACCPAY0, ACCPAY1)/(COGS0+INV0-INV1))]\"]\n",
    "        },\n",
    "        \"FREE_CASH_FLOW\": {\n",
    "            \"formulas\": [\"CASHOPS-CAPEX0\"]\n",
    "        },\n",
    "        \"CAPEX\": {\n",
    "            \"instructions\": \"Synonyms for capital expenditure are: capital spending; purchases of property, plant, and equipment (PP&E); acquisition expenses.\"\n",
    "        }\n",
    "    },\n",
    "\n",
    "    \"subtask_instructions\": {\n",
    "        \"REV0\": \" What is the total revenue of {company} in {year}? This value can be found on the income statement.\",\n",
    "        \"REV1\": \" What is the total revenue of {company} in {year1}? This value can be found on the income statement.\",\n",
    "        \"REV2\": \" What is the total revenue of {company} in {year2}? This value can be found on the income statement.\",\n",
    "        \"CAPEX0\": \"What is the capital expenditure of {company} in {year}? This value can be found in the cash flow statement. Synonyms for capital expenditure are: capital spending; purchases of property, plant, and equipment (PP&E); acquisition expenses.\",\n",
    "        \"INV0\": \"What is the total inventories of {company} in {year}? This value can be found on the consolidated balance sheet.\",\n",
    "        \"INV1\": \"What is the total inventories of {company} in {year1}? This value can be found on the consolidated balance sheet.\",\n",
    "        \"COGS0\": \"What is the total cost of goods sold of {company} for {year}? This value can be found on the income statements. Cost of goods sold is also referred to as 'total cost of revenue' or 'cost of sales'.\",\n",
    "        \"COGS1\": \"What is the total cost of goods sold of {company} for {year1}? This value can be found on the income statements. Cost of goods sold is also referred to as 'total cost of revenue' or 'cost of sales'.\",\n",
    "        \"ACCPAY0\": \"What is the accounts payable for {company} in {year}? This value can be found on the balance sheet.\",\n",
    "        \"ACCPAY1\": \"What is the accounts payable for {company} in {year1}? This value can be found on the balance sheet.\",\n",
    "        \"TRADEREC0\": \"What is the trade receivables for {company} in {year}? This value can be found on the balance sheet.\",\n",
    "        \"TRADEREC1\": \"What is the trade receivables for {company} in {year1}? This value can be found on the balance sheet.\",\n",
    "        \"CASHOPS\": \"What is the cash from operations for {company} in {year}? This value can be found on the cash flow statement.\",\n",
    "    }\n",
    "}"
   ]
  },
  {
   "cell_type": "code",
   "execution_count": null,
   "metadata": {},
   "outputs": [],
   "source": [
    "subtask_exec = SubtaskExecutor(\n",
    "    None, subtask_info, index, os_config, query_executor=OpenSearchQueryExecutor(os_client_args), embedder=embedder, knn_query=True, llm=openai_llm\n",
    ")\n",
    "\n",
    "subtask_docs = subtask_exec.execute(input_docset)\n",
    "subtask_docs\n",
    "\n",
    "pipeline = EvaluationPipeline(\n",
    "    index=index,\n",
    "    os_config=os_config,\n",
    "    metrics=[],\n",
    "    query_executor=OpenSearchQueryExecutor(os_client_args),\n",
    "    embedder=embedder,\n",
    "    knn_query=True,\n",
    "    subtask_docs=subtask_docs\n",
    ")\n",
    "\n",
    "query_level_metrics = pipeline.execute(input_docset)[0]\n",
    "data[\"query_level_data\"] = query_level_metrics.take_all()"
   ]
  },
  {
   "cell_type": "code",
   "execution_count": null,
   "metadata": {},
   "outputs": [],
   "source": [
    "print (data[\"query_level_data\"][0][\"generated_answer\"])"
   ]
  }
 ],
 "metadata": {
  "kernelspec": {
   "display_name": "sycamore-monorepo-RdRTS9RD-py3.11",
   "language": "python",
   "name": "python3"
  },
  "language_info": {
   "codemirror_mode": {
    "name": "ipython",
    "version": 3
   },
   "file_extension": ".py",
   "mimetype": "text/x-python",
   "name": "python",
   "nbconvert_exporter": "python",
   "pygments_lexer": "ipython3",
   "version": "3.11.0"
  }
 },
 "nbformat": 4,
 "nbformat_minor": 2
}
