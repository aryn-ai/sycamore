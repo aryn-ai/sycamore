{
 "cells": [
  {
   "cell_type": "code",
   "execution_count": null,
   "id": "5b3fccd3-55d4-49e1-bc41-5b52ce2cd216",
   "metadata": {},
   "outputs": [],
   "source": [
    "import sycamore\n",
    "from sycamore.data import Document\n",
    "from sycamore.transforms.embedding import SentenceTransformerEmbedder\n",
    "from IPython.display import display, Image\n",
    "from IPython.display import IFrame\n",
    "from PIL import Image as PImage\n",
    "\n",
    "from sycamore.transforms.entity_extraction import OpenAIEntityExtractor\n",
    "from sycamore.llms import OpenAIModels, OpenAI, LLM\n",
    "from sycamore.transforms.partition import UnstructuredPdfPartitioner, HtmlPartitioner\n",
    "from sycamore.llms.prompts.default_prompts import TEXT_SUMMARIZER_GUIDANCE_PROMPT_CHAT\n",
    "from sycamore.transforms.summarize import Summarizer\n",
    "from sycamore.transforms.table_extraction import TextractTableExtractor\n",
    "from sycamore.functions.document import split_and_convert_to_image, DrawBoxes\n",
    "from sycamore.tests.config import TEST_DIR"
   ]
  },
  {
   "cell_type": "code",
   "execution_count": null,
   "id": "5ced791b-f2c4-4245-b2e3-c79c641c8447",
   "metadata": {},
   "outputs": [],
   "source": [
    "\n",
    "IFrame(str(\"../sycamore/tests/resources/data/pdfs/Transformer.pdf\"), width=700, height=600)"
   ]
  },
  {
   "cell_type": "code",
   "execution_count": null,
   "id": "a775ad39-7fdd-48eb-8bd2-33bcb3b5fde9",
   "metadata": {},
   "outputs": [],
   "source": [
    "IFrame(str(\"../sycamore/tests/resources/data/pdfs/Ray.pdf\"), width=700, height=600)"
   ]
  },
  {
   "cell_type": "code",
   "execution_count": null,
   "id": "8e330cdd-ed54-4f78-b284-58fdd0c8e51d",
   "metadata": {},
   "outputs": [],
   "source": [
    "paths = str(TEST_DIR / \"resources/data/pdfs/\")\n",
    "font_path = \"./EBGaramond-Bold.ttf\"\n",
    "\n",
    "openai_llm = OpenAI(OpenAIModels.GPT_3_5_TURBO.value)"
   ]
  },
  {
   "cell_type": "code",
   "execution_count": null,
   "id": "dac722fc-a8ac-4d93-a719-9c308ecabeb9",
   "metadata": {
    "jupyter": {
     "source_hidden": true
    }
   },
   "outputs": [],
   "source": [
    " title_context_template = \"\"\"\n",
    "    ELEMENT 1: Jupiter's Moons\n",
    "    ELEMENT 2: Ganymede 2020\n",
    "    ELEMENT 3: by Audi Lauper and Serena K. Goldberg. 2011\n",
    "    ELEMENT 4: From Wikipedia, the free encyclopedia\n",
    "    ELEMENT 5: Ganymede, or Jupiter III, is the largest and most massive natural satellite of Jupiter as well as in the Solar System, being a planetary-mass moon. It is the largest Solar System object without an atmosphere, despite being the only moon of the Solar System with a magnetic field. Like Titan, it is larger than the planet Mercury, but has somewhat less surface gravity than Mercury, Io or the Moon.\n",
    "    =========\n",
    "    \"Ganymede 2020\"\n",
    "\n",
    "    ELEMENT 1: FLAVR: Flow-Agnostic Video Representations for Fast Frame Interpolation\n",
    "    ELEMENT 2: Tarun Kalluri * UCSD\n",
    "    ELEMENT 3: Deepak Pathak CMU\n",
    "    ELEMENT 4: Manmohan Chandraker UCSD\n",
    "    ELEMENT 5: Du Tran Facebook AI\n",
    "    ELEMENT 6: https://tarun005.github.io/FLAVR/\n",
    "    ELEMENT 7: 2 2 0 2\n",
    "    ELEMENT 8: b e F 4 2\n",
    "    ELEMENT 9: ]\n",
    "    ELEMENT 10: V C . s c [\n",
    "    ========\n",
    "    \"FLAVR: Flow-Agnostic Video Representations for Fast Frame Interpolation\"\n",
    "    \n",
    "    \"\"\"\n",
    "author_context_template = \"\"\"\n",
    "    ELEMENT 1: Jupiter's Moons\n",
    "    ELEMENT 2: Ganymede 2020\n",
    "    ELEMENT 3: by Audi Lauper and Serena K. Goldberg. 2011\n",
    "    ELEMENT 4: From Wikipedia, the free encyclopedia\n",
    "    ELEMENT 5: Ganymede, or Jupiter III, is the largest and most massive natural satellite of Jupiter as well as in the Solar System, being a planetary-mass moon. It is the largest Solar System object without an atmosphere, despite being the only moon of the Solar System with a magnetic field. Like Titan, it is larger than the planet Mercury, but has somewhat less surface gravity than Mercury, Io or the Moon.\n",
    "    =========\n",
    "    Audi Laupe, Serena K. Goldberg\n",
    "\n",
    "    ELEMENT 1: FLAVR: Flow-Agnostic Video Representations for Fast Frame Interpolation\n",
    "    ELEMENT 2: Tarun Kalluri * UCSD\n",
    "    ELEMENT 3: Deepak Pathak CMU\n",
    "    ELEMENT 4: Manmohan Chandraker UCSD\n",
    "    ELEMENT 5: Du Tran Facebook AI\n",
    "    ELEMENT 6: https://tarun005.github.io/FLAVR/\n",
    "    ELEMENT 7: 2 2 0 2\n",
    "    ELEMENT 8: b e F 4 2\n",
    "    ELEMENT 9: ]\n",
    "    ELEMENT 10: V C . s c [\n",
    "    ========\n",
    "    Tarun Kalluri, Deepak Pathak, Manmohan Chandraker, Du Tran\n",
    "\n",
    "    \"\"\"\n",
    "abstract_prompt_template = \"\"\"    \n",
    "    ELEMENT 1: Attention Is All You Need\n",
    "    ELEMENT 2: Ashish Vaswani∗ Google Brain avaswani@google.com\n",
    "    ELEMENT 3: Noam Shazeer∗ Google Brain noam@google.com\n",
    "    ELEMENT 4: Niki Parmar∗ Google Research nikip@google.com\n",
    "    ELEMENT 5: Jakob Uszkoreit∗ Google Research usz@google.com\n",
    "    ELEMENT 6: Llion Jones∗ Google Research llion@google.com\n",
    "    ELEMENT 7: Aidan N. Gomez∗ † University of Toronto aidan@cs.toronto.edu\n",
    "    ELEMENT 8: Łukasz Kaiser∗ Google Brain lukaszkaiser@google.com\n",
    "    ELEMENT 9: Abstract\n",
    "    ELEMENT 10: The dominant sequence transduction models are based on complex recurrent or convolutional neural networks that include an encoder and a decoder. The best performing models also connect the encoder and decoder through an attention mechanism. We propose a new simple network architecture, the Transformer, based solely on attention mechanisms, dispensing with recurrence and convolutions entirely. Experiments on two machine translation tasks show these models to be superior in quality while being more parallelizable and requiring signiﬁcantly less time to train. Our model achieves 28.4 BLEU on the WMT 2014 English- to-German translation task, improving over the existing best results, including ensembles, by over 2 BLEU. On the WMT 2014 English-to-French translation task, our model establishes a new single-model state-of-the-art BLEU score of 41.0 after training for 3.5 days on eight GPUs, a small fraction of the training costs of the best models from the literature.\n",
    "    ========\n",
    "    \"abstract\": The dominant sequence transduction models are based on complex recurrent or convolutional neural networks that include an encoder and a decoder. The best performing models also connect the encoder and decoder through an attention mechanism. We propose a new simple network architecture, the Transformer, based solely on attention mechanisms, dispensing with recurrence and convolutions entirely. Experiments on two machine translation tasks show these models to be superior in quality while being more parallelizable and requiring signiﬁcantly less time to train. Our model achieves 28.4 BLEU on the WMT 2014 English- to-German translation task, improving over the existing best results, including ensembles, by over 2 BLEU. On the WMT 2014 English-to-French translation task, our model establishes a new single-model state-of-the-art BLEU score of 41.0 after training for 3.5 days on eight GPUs, a small fraction of the training costs of the best models from the literature.\n",
    "    ELEMENT 1: Ray: A Distributed Framework for Emerging AI Applications\n",
    "    ELEMENT 2: Philipp Moritz∗, Robert Nishihara∗, Stephanie Wang, Alexey Tumanov, Richard Liaw, Eric Liang, Melih Elibol, Zongheng Yang, William Paul, Michael I. Jordan, Ion Stoica University of California, Berkeley\n",
    "    ELEMENT 3: 8 1 0 2\n",
    "    ELEMENT 4: Abstract\n",
    "    ELEMENT 5: and their use in prediction. These frameworks often lever- age specialized hardware (e.g., GPUs and TPUs), with the goal of reducing training time in a batch setting. Examples include TensorFlow [7], MXNet [18], and PyTorch [46]. The promise of AI is, however, far broader than classi- cal supervised learning. Emerging AI applications must increasingly operate in dynamic environments, react to changes in the environment, and take sequences of ac- tions to accomplish long-term goals [8, 43]. They must aim not only to exploit the data gathered, but also to ex- plore the space of possible actions. These broader require- ments are naturally framed within the paradigm of rein- forcement learning (RL). RL deals with learning to oper- ate continuously within an uncertain environment based on delayed and limited feedback [56]. RL-based systems have already yielded remarkable results, such as Google's AlphaGo beating a human world champion [54], and are beginning to ﬁnd their way into dialogue systems, UAVs [42], and robotic manipulation [25, 60].\n",
    "    ELEMENT 6: p e S 0 3\n",
    "    ELEMENT 7: ]\n",
    "    ELEMENT 8: C D . s c [\n",
    "    ELEMENT 9: 2 v 9 8 8 5 0 . 2 1 7 1 : v i X r a\n",
    "    ELEMENT 10: The next generation of AI applications will continuously interact with the environment and learn from these inter- actions. These applications impose new and demanding systems requirements, both in terms of performance and ﬂexibility. In this paper, we consider these requirements and present Ray—a distributed system to address them. Ray implements a uniﬁed interface that can express both task-parallel and actor-based computations, supported by a single dynamic execution engine. To meet the perfor- mance requirements, Ray employs a distributed scheduler and a distributed and fault-tolerant store to manage the system's control state. In our experiments, we demon- strate scaling beyond 1.8 million tasks per second and better performance than existing specialized systems for several challenging reinforcement learning applications.\n",
    "    ========\n",
    "    \"abstract\": The next generation of AI applications will continuously interact with the environment and learn from these inter- actions. These applications impose new and demanding systems requirements, both in terms of performance and ﬂexibility. In this paper, we consider these requirements and present Ray—a distributed system to address them. Ray implements a uniﬁed interface that can express both task-parallel and actor-based computations, supported by a single dynamic execution engine. To meet the perfor- mance requirements, Ray employs a distributed scheduler and a distributed and fault-tolerant store to manage the system's control state. In our experiments, we demon- strate scaling beyond 1.8 million tasks per second and better performance than existing specialized systems for several challenging reinforcement learning applications.\n",
    "    \"\"\""
   ]
  },
  {
   "cell_type": "code",
   "execution_count": null,
   "id": "5168af9a-5351-4f72-ba6b-7afe6d9bfc17",
   "metadata": {},
   "outputs": [],
   "source": [
    "context = sycamore.init()\n",
    "pdf_docset = context.read.binary(paths, binary_format=\"pdf\")\n",
    "\n",
    "pdf_docset.show(show_binary = True)"
   ]
  },
  {
   "cell_type": "code",
   "execution_count": null,
   "id": "ef10d8fb-592a-48a7-98e1-a1c9e45035e2",
   "metadata": {},
   "outputs": [],
   "source": [
    "def filter_func(doc: Document) -> bool:\n",
    "    return doc.properties[\"page_number\"] == 1\n",
    "\n",
    "partitioned_docset = pdf_docset.partition(partitioner=UnstructuredPdfPartitioner())\n",
    "docset = (partitioned_docset\n",
    "              .partition(partitioner=UnstructuredPdfPartitioner())\n",
    "              .flat_map(split_and_convert_to_image)\n",
    "              .map_batch(DrawBoxes, f_constructor_args=[font_path])\n",
    "              .filter(filter_func))\n",
    "\n",
    "for doc in docset.take(2):\n",
    "    display(Image(doc.binary_representation, height=500, width=500))"
   ]
  },
  {
   "cell_type": "code",
   "execution_count": null,
   "id": "4fc23f54-2763-4746-8336-7c32f3b494c6",
   "metadata": {},
   "outputs": [],
   "source": [
    "pdf_docset = (partitioned_docset\n",
    "              .extract_entity(entity_extractor=OpenAIEntityExtractor(\"title\", llm=openai_llm, prompt_template=title_context_template))\n",
    "              .extract_entity(entity_extractor=OpenAIEntityExtractor(\"authors\", llm=openai_llm, prompt_template=author_context_template)))\n",
    "\n",
    "pdf_docset.show(show_binary = True,truncate_length=1)"
   ]
  },
  {
   "cell_type": "code",
   "execution_count": null,
   "id": "edd7a132-1121-4184-aab6-45a0db6185d8",
   "metadata": {},
   "outputs": [],
   "source": [
    "pdf_docset = pdf_docset.explode()\n",
    "pdf_docset.show(show_binary = True,truncate_length=1)"
   ]
  },
  {
   "cell_type": "code",
   "execution_count": null,
   "id": "b87a679a-e1a8-423a-a2d7-bd9ecff6d582",
   "metadata": {},
   "outputs": [],
   "source": [
    "pdf_docset = (pdf_docset\n",
    "              .embed(embedder=SentenceTransformerEmbedder(batch_size=100, model_name=\"sentence-transformers/all-MiniLM-L6-v2\")))\n",
    "pdf_docset.show(show_binary = True,truncate_length=1)"
   ]
  }
 ],
 "metadata": {
  "kernelspec": {
   "display_name": "Python 3 (ipykernel)",
   "language": "python",
   "name": "python3"
  },
  "language_info": {
   "codemirror_mode": {
    "name": "ipython",
    "version": 3
   },
   "file_extension": ".py",
   "mimetype": "text/x-python",
   "name": "python",
   "nbconvert_exporter": "python",
   "pygments_lexer": "ipython3",
   "version": "3.10.12"
  }
 },
 "nbformat": 4,
 "nbformat_minor": 5
}
